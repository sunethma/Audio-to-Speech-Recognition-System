{
  "nbformat": 4,
  "nbformat_minor": 0,
  "metadata": {
    "colab": {
      "provenance": [],
      "gpuType": "T4"
    },
    "kernelspec": {
      "name": "python3",
      "display_name": "Python 3"
    },
    "language_info": {
      "name": "python"
    },
    "accelerator": "GPU",
    "widgets": {
      "application/vnd.jupyter.widget-state+json": {
        "5daa6c4648d34f6fbebb13f3e962c91d": {
          "model_module": "@jupyter-widgets/controls",
          "model_name": "HBoxModel",
          "model_module_version": "1.5.0",
          "state": {
            "_dom_classes": [],
            "_model_module": "@jupyter-widgets/controls",
            "_model_module_version": "1.5.0",
            "_model_name": "HBoxModel",
            "_view_count": null,
            "_view_module": "@jupyter-widgets/controls",
            "_view_module_version": "1.5.0",
            "_view_name": "HBoxView",
            "box_style": "",
            "children": [
              "IPY_MODEL_dbd8e81bfa7e4e1ba51b9846220799ef",
              "IPY_MODEL_10253048a89745608c6720543513be18",
              "IPY_MODEL_6ce0c37e22fa4b59b76958fd07e6af7d"
            ],
            "layout": "IPY_MODEL_12a53f35a3f2463bb373e960c79f0991"
          }
        },
        "dbd8e81bfa7e4e1ba51b9846220799ef": {
          "model_module": "@jupyter-widgets/controls",
          "model_name": "HTMLModel",
          "model_module_version": "1.5.0",
          "state": {
            "_dom_classes": [],
            "_model_module": "@jupyter-widgets/controls",
            "_model_module_version": "1.5.0",
            "_model_name": "HTMLModel",
            "_view_count": null,
            "_view_module": "@jupyter-widgets/controls",
            "_view_module_version": "1.5.0",
            "_view_name": "HTMLView",
            "description": "",
            "description_tooltip": null,
            "layout": "IPY_MODEL_a3df0923d61b40d1a2d0420e5e5a02dd",
            "placeholder": "​",
            "style": "IPY_MODEL_f18fa9a992e6411bad0ad84c9048e66e",
            "value": "100%"
          }
        },
        "10253048a89745608c6720543513be18": {
          "model_module": "@jupyter-widgets/controls",
          "model_name": "FloatProgressModel",
          "model_module_version": "1.5.0",
          "state": {
            "_dom_classes": [],
            "_model_module": "@jupyter-widgets/controls",
            "_model_module_version": "1.5.0",
            "_model_name": "FloatProgressModel",
            "_view_count": null,
            "_view_module": "@jupyter-widgets/controls",
            "_view_module_version": "1.5.0",
            "_view_name": "ProgressView",
            "bar_style": "success",
            "description": "",
            "description_tooltip": null,
            "layout": "IPY_MODEL_165d5d4b466642f587598360c723b464",
            "max": 2,
            "min": 0,
            "orientation": "horizontal",
            "style": "IPY_MODEL_1cea8f7e0e4c417da45104c6e2f4b5c8",
            "value": 2
          }
        },
        "6ce0c37e22fa4b59b76958fd07e6af7d": {
          "model_module": "@jupyter-widgets/controls",
          "model_name": "HTMLModel",
          "model_module_version": "1.5.0",
          "state": {
            "_dom_classes": [],
            "_model_module": "@jupyter-widgets/controls",
            "_model_module_version": "1.5.0",
            "_model_name": "HTMLModel",
            "_view_count": null,
            "_view_module": "@jupyter-widgets/controls",
            "_view_module_version": "1.5.0",
            "_view_name": "HTMLView",
            "description": "",
            "description_tooltip": null,
            "layout": "IPY_MODEL_9f813af0965b44c795ac76aa78378886",
            "placeholder": "​",
            "style": "IPY_MODEL_33b78e52941048eeab286d36cdd584ca",
            "value": " 2/2 [00:00&lt;00:00, 31.18it/s]"
          }
        },
        "12a53f35a3f2463bb373e960c79f0991": {
          "model_module": "@jupyter-widgets/base",
          "model_name": "LayoutModel",
          "model_module_version": "1.2.0",
          "state": {
            "_model_module": "@jupyter-widgets/base",
            "_model_module_version": "1.2.0",
            "_model_name": "LayoutModel",
            "_view_count": null,
            "_view_module": "@jupyter-widgets/base",
            "_view_module_version": "1.2.0",
            "_view_name": "LayoutView",
            "align_content": null,
            "align_items": null,
            "align_self": null,
            "border": null,
            "bottom": null,
            "display": null,
            "flex": null,
            "flex_flow": null,
            "grid_area": null,
            "grid_auto_columns": null,
            "grid_auto_flow": null,
            "grid_auto_rows": null,
            "grid_column": null,
            "grid_gap": null,
            "grid_row": null,
            "grid_template_areas": null,
            "grid_template_columns": null,
            "grid_template_rows": null,
            "height": null,
            "justify_content": null,
            "justify_items": null,
            "left": null,
            "margin": null,
            "max_height": null,
            "max_width": null,
            "min_height": null,
            "min_width": null,
            "object_fit": null,
            "object_position": null,
            "order": null,
            "overflow": null,
            "overflow_x": null,
            "overflow_y": null,
            "padding": null,
            "right": null,
            "top": null,
            "visibility": null,
            "width": null
          }
        },
        "a3df0923d61b40d1a2d0420e5e5a02dd": {
          "model_module": "@jupyter-widgets/base",
          "model_name": "LayoutModel",
          "model_module_version": "1.2.0",
          "state": {
            "_model_module": "@jupyter-widgets/base",
            "_model_module_version": "1.2.0",
            "_model_name": "LayoutModel",
            "_view_count": null,
            "_view_module": "@jupyter-widgets/base",
            "_view_module_version": "1.2.0",
            "_view_name": "LayoutView",
            "align_content": null,
            "align_items": null,
            "align_self": null,
            "border": null,
            "bottom": null,
            "display": null,
            "flex": null,
            "flex_flow": null,
            "grid_area": null,
            "grid_auto_columns": null,
            "grid_auto_flow": null,
            "grid_auto_rows": null,
            "grid_column": null,
            "grid_gap": null,
            "grid_row": null,
            "grid_template_areas": null,
            "grid_template_columns": null,
            "grid_template_rows": null,
            "height": null,
            "justify_content": null,
            "justify_items": null,
            "left": null,
            "margin": null,
            "max_height": null,
            "max_width": null,
            "min_height": null,
            "min_width": null,
            "object_fit": null,
            "object_position": null,
            "order": null,
            "overflow": null,
            "overflow_x": null,
            "overflow_y": null,
            "padding": null,
            "right": null,
            "top": null,
            "visibility": null,
            "width": null
          }
        },
        "f18fa9a992e6411bad0ad84c9048e66e": {
          "model_module": "@jupyter-widgets/controls",
          "model_name": "DescriptionStyleModel",
          "model_module_version": "1.5.0",
          "state": {
            "_model_module": "@jupyter-widgets/controls",
            "_model_module_version": "1.5.0",
            "_model_name": "DescriptionStyleModel",
            "_view_count": null,
            "_view_module": "@jupyter-widgets/base",
            "_view_module_version": "1.2.0",
            "_view_name": "StyleView",
            "description_width": ""
          }
        },
        "165d5d4b466642f587598360c723b464": {
          "model_module": "@jupyter-widgets/base",
          "model_name": "LayoutModel",
          "model_module_version": "1.2.0",
          "state": {
            "_model_module": "@jupyter-widgets/base",
            "_model_module_version": "1.2.0",
            "_model_name": "LayoutModel",
            "_view_count": null,
            "_view_module": "@jupyter-widgets/base",
            "_view_module_version": "1.2.0",
            "_view_name": "LayoutView",
            "align_content": null,
            "align_items": null,
            "align_self": null,
            "border": null,
            "bottom": null,
            "display": null,
            "flex": null,
            "flex_flow": null,
            "grid_area": null,
            "grid_auto_columns": null,
            "grid_auto_flow": null,
            "grid_auto_rows": null,
            "grid_column": null,
            "grid_gap": null,
            "grid_row": null,
            "grid_template_areas": null,
            "grid_template_columns": null,
            "grid_template_rows": null,
            "height": null,
            "justify_content": null,
            "justify_items": null,
            "left": null,
            "margin": null,
            "max_height": null,
            "max_width": null,
            "min_height": null,
            "min_width": null,
            "object_fit": null,
            "object_position": null,
            "order": null,
            "overflow": null,
            "overflow_x": null,
            "overflow_y": null,
            "padding": null,
            "right": null,
            "top": null,
            "visibility": null,
            "width": null
          }
        },
        "1cea8f7e0e4c417da45104c6e2f4b5c8": {
          "model_module": "@jupyter-widgets/controls",
          "model_name": "ProgressStyleModel",
          "model_module_version": "1.5.0",
          "state": {
            "_model_module": "@jupyter-widgets/controls",
            "_model_module_version": "1.5.0",
            "_model_name": "ProgressStyleModel",
            "_view_count": null,
            "_view_module": "@jupyter-widgets/base",
            "_view_module_version": "1.2.0",
            "_view_name": "StyleView",
            "bar_color": null,
            "description_width": ""
          }
        },
        "9f813af0965b44c795ac76aa78378886": {
          "model_module": "@jupyter-widgets/base",
          "model_name": "LayoutModel",
          "model_module_version": "1.2.0",
          "state": {
            "_model_module": "@jupyter-widgets/base",
            "_model_module_version": "1.2.0",
            "_model_name": "LayoutModel",
            "_view_count": null,
            "_view_module": "@jupyter-widgets/base",
            "_view_module_version": "1.2.0",
            "_view_name": "LayoutView",
            "align_content": null,
            "align_items": null,
            "align_self": null,
            "border": null,
            "bottom": null,
            "display": null,
            "flex": null,
            "flex_flow": null,
            "grid_area": null,
            "grid_auto_columns": null,
            "grid_auto_flow": null,
            "grid_auto_rows": null,
            "grid_column": null,
            "grid_gap": null,
            "grid_row": null,
            "grid_template_areas": null,
            "grid_template_columns": null,
            "grid_template_rows": null,
            "height": null,
            "justify_content": null,
            "justify_items": null,
            "left": null,
            "margin": null,
            "max_height": null,
            "max_width": null,
            "min_height": null,
            "min_width": null,
            "object_fit": null,
            "object_position": null,
            "order": null,
            "overflow": null,
            "overflow_x": null,
            "overflow_y": null,
            "padding": null,
            "right": null,
            "top": null,
            "visibility": null,
            "width": null
          }
        },
        "33b78e52941048eeab286d36cdd584ca": {
          "model_module": "@jupyter-widgets/controls",
          "model_name": "DescriptionStyleModel",
          "model_module_version": "1.5.0",
          "state": {
            "_model_module": "@jupyter-widgets/controls",
            "_model_module_version": "1.5.0",
            "_model_name": "DescriptionStyleModel",
            "_view_count": null,
            "_view_module": "@jupyter-widgets/base",
            "_view_module_version": "1.2.0",
            "_view_name": "StyleView",
            "description_width": ""
          }
        },
        "d79ba758c9164e40bd45044e423457e6": {
          "model_module": "@jupyter-widgets/controls",
          "model_name": "HBoxModel",
          "model_module_version": "1.5.0",
          "state": {
            "_dom_classes": [],
            "_model_module": "@jupyter-widgets/controls",
            "_model_module_version": "1.5.0",
            "_model_name": "HBoxModel",
            "_view_count": null,
            "_view_module": "@jupyter-widgets/controls",
            "_view_module_version": "1.5.0",
            "_view_name": "HBoxView",
            "box_style": "",
            "children": [
              "IPY_MODEL_54cfa38d50ff4c52b09143b70a5f875a",
              "IPY_MODEL_e021f0c3dc5b4e3bacbf9cbcd876c2f3",
              "IPY_MODEL_24d57ec02b9d42b0aaf31850134fff93"
            ],
            "layout": "IPY_MODEL_5c1f7ce3a7fe45b395069d37197450c3"
          }
        },
        "54cfa38d50ff4c52b09143b70a5f875a": {
          "model_module": "@jupyter-widgets/controls",
          "model_name": "HTMLModel",
          "model_module_version": "1.5.0",
          "state": {
            "_dom_classes": [],
            "_model_module": "@jupyter-widgets/controls",
            "_model_module_version": "1.5.0",
            "_model_name": "HTMLModel",
            "_view_count": null,
            "_view_module": "@jupyter-widgets/controls",
            "_view_module_version": "1.5.0",
            "_view_name": "HTMLView",
            "description": "",
            "description_tooltip": null,
            "layout": "IPY_MODEL_0c1a87cd73c44b3ebf78e8e4e171a30d",
            "placeholder": "​",
            "style": "IPY_MODEL_211801cbdf97499b813df8b2f431026e",
            "value": ""
          }
        },
        "e021f0c3dc5b4e3bacbf9cbcd876c2f3": {
          "model_module": "@jupyter-widgets/controls",
          "model_name": "FloatProgressModel",
          "model_module_version": "1.5.0",
          "state": {
            "_dom_classes": [],
            "_model_module": "@jupyter-widgets/controls",
            "_model_module_version": "1.5.0",
            "_model_name": "FloatProgressModel",
            "_view_count": null,
            "_view_module": "@jupyter-widgets/controls",
            "_view_module_version": "1.5.0",
            "_view_name": "ProgressView",
            "bar_style": "success",
            "description": "",
            "description_tooltip": null,
            "layout": "IPY_MODEL_b49b2326efeb466eb619738fdb21e27d",
            "max": 1,
            "min": 0,
            "orientation": "horizontal",
            "style": "IPY_MODEL_98d336d605e1415099dbc461bc22176e",
            "value": 1
          }
        },
        "24d57ec02b9d42b0aaf31850134fff93": {
          "model_module": "@jupyter-widgets/controls",
          "model_name": "HTMLModel",
          "model_module_version": "1.5.0",
          "state": {
            "_dom_classes": [],
            "_model_module": "@jupyter-widgets/controls",
            "_model_module_version": "1.5.0",
            "_model_name": "HTMLModel",
            "_view_count": null,
            "_view_module": "@jupyter-widgets/controls",
            "_view_module_version": "1.5.0",
            "_view_name": "HTMLView",
            "description": "",
            "description_tooltip": null,
            "layout": "IPY_MODEL_3298a92d658f4e59a8e826672960dff2",
            "placeholder": "​",
            "style": "IPY_MODEL_bebeafb05dea4cd08bc9ecab50ec7107",
            "value": " 4620/? [00:00&lt;00:00, 11203.05ex/s]"
          }
        },
        "5c1f7ce3a7fe45b395069d37197450c3": {
          "model_module": "@jupyter-widgets/base",
          "model_name": "LayoutModel",
          "model_module_version": "1.2.0",
          "state": {
            "_model_module": "@jupyter-widgets/base",
            "_model_module_version": "1.2.0",
            "_model_name": "LayoutModel",
            "_view_count": null,
            "_view_module": "@jupyter-widgets/base",
            "_view_module_version": "1.2.0",
            "_view_name": "LayoutView",
            "align_content": null,
            "align_items": null,
            "align_self": null,
            "border": null,
            "bottom": null,
            "display": null,
            "flex": null,
            "flex_flow": null,
            "grid_area": null,
            "grid_auto_columns": null,
            "grid_auto_flow": null,
            "grid_auto_rows": null,
            "grid_column": null,
            "grid_gap": null,
            "grid_row": null,
            "grid_template_areas": null,
            "grid_template_columns": null,
            "grid_template_rows": null,
            "height": null,
            "justify_content": null,
            "justify_items": null,
            "left": null,
            "margin": null,
            "max_height": null,
            "max_width": null,
            "min_height": null,
            "min_width": null,
            "object_fit": null,
            "object_position": null,
            "order": null,
            "overflow": null,
            "overflow_x": null,
            "overflow_y": null,
            "padding": null,
            "right": null,
            "top": null,
            "visibility": null,
            "width": null
          }
        },
        "0c1a87cd73c44b3ebf78e8e4e171a30d": {
          "model_module": "@jupyter-widgets/base",
          "model_name": "LayoutModel",
          "model_module_version": "1.2.0",
          "state": {
            "_model_module": "@jupyter-widgets/base",
            "_model_module_version": "1.2.0",
            "_model_name": "LayoutModel",
            "_view_count": null,
            "_view_module": "@jupyter-widgets/base",
            "_view_module_version": "1.2.0",
            "_view_name": "LayoutView",
            "align_content": null,
            "align_items": null,
            "align_self": null,
            "border": null,
            "bottom": null,
            "display": null,
            "flex": null,
            "flex_flow": null,
            "grid_area": null,
            "grid_auto_columns": null,
            "grid_auto_flow": null,
            "grid_auto_rows": null,
            "grid_column": null,
            "grid_gap": null,
            "grid_row": null,
            "grid_template_areas": null,
            "grid_template_columns": null,
            "grid_template_rows": null,
            "height": null,
            "justify_content": null,
            "justify_items": null,
            "left": null,
            "margin": null,
            "max_height": null,
            "max_width": null,
            "min_height": null,
            "min_width": null,
            "object_fit": null,
            "object_position": null,
            "order": null,
            "overflow": null,
            "overflow_x": null,
            "overflow_y": null,
            "padding": null,
            "right": null,
            "top": null,
            "visibility": null,
            "width": null
          }
        },
        "211801cbdf97499b813df8b2f431026e": {
          "model_module": "@jupyter-widgets/controls",
          "model_name": "DescriptionStyleModel",
          "model_module_version": "1.5.0",
          "state": {
            "_model_module": "@jupyter-widgets/controls",
            "_model_module_version": "1.5.0",
            "_model_name": "DescriptionStyleModel",
            "_view_count": null,
            "_view_module": "@jupyter-widgets/base",
            "_view_module_version": "1.2.0",
            "_view_name": "StyleView",
            "description_width": ""
          }
        },
        "b49b2326efeb466eb619738fdb21e27d": {
          "model_module": "@jupyter-widgets/base",
          "model_name": "LayoutModel",
          "model_module_version": "1.2.0",
          "state": {
            "_model_module": "@jupyter-widgets/base",
            "_model_module_version": "1.2.0",
            "_model_name": "LayoutModel",
            "_view_count": null,
            "_view_module": "@jupyter-widgets/base",
            "_view_module_version": "1.2.0",
            "_view_name": "LayoutView",
            "align_content": null,
            "align_items": null,
            "align_self": null,
            "border": null,
            "bottom": null,
            "display": null,
            "flex": null,
            "flex_flow": null,
            "grid_area": null,
            "grid_auto_columns": null,
            "grid_auto_flow": null,
            "grid_auto_rows": null,
            "grid_column": null,
            "grid_gap": null,
            "grid_row": null,
            "grid_template_areas": null,
            "grid_template_columns": null,
            "grid_template_rows": null,
            "height": null,
            "justify_content": null,
            "justify_items": null,
            "left": null,
            "margin": null,
            "max_height": null,
            "max_width": null,
            "min_height": null,
            "min_width": null,
            "object_fit": null,
            "object_position": null,
            "order": null,
            "overflow": null,
            "overflow_x": null,
            "overflow_y": null,
            "padding": null,
            "right": null,
            "top": null,
            "visibility": null,
            "width": "20px"
          }
        },
        "98d336d605e1415099dbc461bc22176e": {
          "model_module": "@jupyter-widgets/controls",
          "model_name": "ProgressStyleModel",
          "model_module_version": "1.5.0",
          "state": {
            "_model_module": "@jupyter-widgets/controls",
            "_model_module_version": "1.5.0",
            "_model_name": "ProgressStyleModel",
            "_view_count": null,
            "_view_module": "@jupyter-widgets/base",
            "_view_module_version": "1.2.0",
            "_view_name": "StyleView",
            "bar_color": null,
            "description_width": ""
          }
        },
        "3298a92d658f4e59a8e826672960dff2": {
          "model_module": "@jupyter-widgets/base",
          "model_name": "LayoutModel",
          "model_module_version": "1.2.0",
          "state": {
            "_model_module": "@jupyter-widgets/base",
            "_model_module_version": "1.2.0",
            "_model_name": "LayoutModel",
            "_view_count": null,
            "_view_module": "@jupyter-widgets/base",
            "_view_module_version": "1.2.0",
            "_view_name": "LayoutView",
            "align_content": null,
            "align_items": null,
            "align_self": null,
            "border": null,
            "bottom": null,
            "display": null,
            "flex": null,
            "flex_flow": null,
            "grid_area": null,
            "grid_auto_columns": null,
            "grid_auto_flow": null,
            "grid_auto_rows": null,
            "grid_column": null,
            "grid_gap": null,
            "grid_row": null,
            "grid_template_areas": null,
            "grid_template_columns": null,
            "grid_template_rows": null,
            "height": null,
            "justify_content": null,
            "justify_items": null,
            "left": null,
            "margin": null,
            "max_height": null,
            "max_width": null,
            "min_height": null,
            "min_width": null,
            "object_fit": null,
            "object_position": null,
            "order": null,
            "overflow": null,
            "overflow_x": null,
            "overflow_y": null,
            "padding": null,
            "right": null,
            "top": null,
            "visibility": null,
            "width": null
          }
        },
        "bebeafb05dea4cd08bc9ecab50ec7107": {
          "model_module": "@jupyter-widgets/controls",
          "model_name": "DescriptionStyleModel",
          "model_module_version": "1.5.0",
          "state": {
            "_model_module": "@jupyter-widgets/controls",
            "_model_module_version": "1.5.0",
            "_model_name": "DescriptionStyleModel",
            "_view_count": null,
            "_view_module": "@jupyter-widgets/base",
            "_view_module_version": "1.2.0",
            "_view_name": "StyleView",
            "description_width": ""
          }
        },
        "16931bbfd00a46bbb4268c4c402cfdbe": {
          "model_module": "@jupyter-widgets/controls",
          "model_name": "HBoxModel",
          "model_module_version": "1.5.0",
          "state": {
            "_dom_classes": [],
            "_model_module": "@jupyter-widgets/controls",
            "_model_module_version": "1.5.0",
            "_model_name": "HBoxModel",
            "_view_count": null,
            "_view_module": "@jupyter-widgets/controls",
            "_view_module_version": "1.5.0",
            "_view_name": "HBoxView",
            "box_style": "",
            "children": [
              "IPY_MODEL_7df64f6a48a84fcb8b231bade9b97a6e",
              "IPY_MODEL_16aff07b4cc648528d9282c36d499537",
              "IPY_MODEL_048316d79499410a8f48f7d017af8dc5"
            ],
            "layout": "IPY_MODEL_f373d227f77b4fb286f26958f56f3c00"
          }
        },
        "7df64f6a48a84fcb8b231bade9b97a6e": {
          "model_module": "@jupyter-widgets/controls",
          "model_name": "HTMLModel",
          "model_module_version": "1.5.0",
          "state": {
            "_dom_classes": [],
            "_model_module": "@jupyter-widgets/controls",
            "_model_module_version": "1.5.0",
            "_model_name": "HTMLModel",
            "_view_count": null,
            "_view_module": "@jupyter-widgets/controls",
            "_view_module_version": "1.5.0",
            "_view_name": "HTMLView",
            "description": "",
            "description_tooltip": null,
            "layout": "IPY_MODEL_36a298ab06874b858bdc5a36942b924d",
            "placeholder": "​",
            "style": "IPY_MODEL_da42a4bb62d4401ab892ecdf9f2e6aaa",
            "value": ""
          }
        },
        "16aff07b4cc648528d9282c36d499537": {
          "model_module": "@jupyter-widgets/controls",
          "model_name": "FloatProgressModel",
          "model_module_version": "1.5.0",
          "state": {
            "_dom_classes": [],
            "_model_module": "@jupyter-widgets/controls",
            "_model_module_version": "1.5.0",
            "_model_name": "FloatProgressModel",
            "_view_count": null,
            "_view_module": "@jupyter-widgets/controls",
            "_view_module_version": "1.5.0",
            "_view_name": "ProgressView",
            "bar_style": "success",
            "description": "",
            "description_tooltip": null,
            "layout": "IPY_MODEL_88eec13b5b88427185b99d9d7e747a73",
            "max": 1,
            "min": 0,
            "orientation": "horizontal",
            "style": "IPY_MODEL_34db0d7b50b24558834fe2645ef86ab6",
            "value": 1
          }
        },
        "048316d79499410a8f48f7d017af8dc5": {
          "model_module": "@jupyter-widgets/controls",
          "model_name": "HTMLModel",
          "model_module_version": "1.5.0",
          "state": {
            "_dom_classes": [],
            "_model_module": "@jupyter-widgets/controls",
            "_model_module_version": "1.5.0",
            "_model_name": "HTMLModel",
            "_view_count": null,
            "_view_module": "@jupyter-widgets/controls",
            "_view_module_version": "1.5.0",
            "_view_name": "HTMLView",
            "description": "",
            "description_tooltip": null,
            "layout": "IPY_MODEL_0b7739073d9b49808722541d92ee7806",
            "placeholder": "​",
            "style": "IPY_MODEL_f4cc1e6d383044b0b4b00daa9cc7a9c2",
            "value": " 1680/? [00:00&lt;00:00, 9579.56ex/s]"
          }
        },
        "f373d227f77b4fb286f26958f56f3c00": {
          "model_module": "@jupyter-widgets/base",
          "model_name": "LayoutModel",
          "model_module_version": "1.2.0",
          "state": {
            "_model_module": "@jupyter-widgets/base",
            "_model_module_version": "1.2.0",
            "_model_name": "LayoutModel",
            "_view_count": null,
            "_view_module": "@jupyter-widgets/base",
            "_view_module_version": "1.2.0",
            "_view_name": "LayoutView",
            "align_content": null,
            "align_items": null,
            "align_self": null,
            "border": null,
            "bottom": null,
            "display": null,
            "flex": null,
            "flex_flow": null,
            "grid_area": null,
            "grid_auto_columns": null,
            "grid_auto_flow": null,
            "grid_auto_rows": null,
            "grid_column": null,
            "grid_gap": null,
            "grid_row": null,
            "grid_template_areas": null,
            "grid_template_columns": null,
            "grid_template_rows": null,
            "height": null,
            "justify_content": null,
            "justify_items": null,
            "left": null,
            "margin": null,
            "max_height": null,
            "max_width": null,
            "min_height": null,
            "min_width": null,
            "object_fit": null,
            "object_position": null,
            "order": null,
            "overflow": null,
            "overflow_x": null,
            "overflow_y": null,
            "padding": null,
            "right": null,
            "top": null,
            "visibility": null,
            "width": null
          }
        },
        "36a298ab06874b858bdc5a36942b924d": {
          "model_module": "@jupyter-widgets/base",
          "model_name": "LayoutModel",
          "model_module_version": "1.2.0",
          "state": {
            "_model_module": "@jupyter-widgets/base",
            "_model_module_version": "1.2.0",
            "_model_name": "LayoutModel",
            "_view_count": null,
            "_view_module": "@jupyter-widgets/base",
            "_view_module_version": "1.2.0",
            "_view_name": "LayoutView",
            "align_content": null,
            "align_items": null,
            "align_self": null,
            "border": null,
            "bottom": null,
            "display": null,
            "flex": null,
            "flex_flow": null,
            "grid_area": null,
            "grid_auto_columns": null,
            "grid_auto_flow": null,
            "grid_auto_rows": null,
            "grid_column": null,
            "grid_gap": null,
            "grid_row": null,
            "grid_template_areas": null,
            "grid_template_columns": null,
            "grid_template_rows": null,
            "height": null,
            "justify_content": null,
            "justify_items": null,
            "left": null,
            "margin": null,
            "max_height": null,
            "max_width": null,
            "min_height": null,
            "min_width": null,
            "object_fit": null,
            "object_position": null,
            "order": null,
            "overflow": null,
            "overflow_x": null,
            "overflow_y": null,
            "padding": null,
            "right": null,
            "top": null,
            "visibility": null,
            "width": null
          }
        },
        "da42a4bb62d4401ab892ecdf9f2e6aaa": {
          "model_module": "@jupyter-widgets/controls",
          "model_name": "DescriptionStyleModel",
          "model_module_version": "1.5.0",
          "state": {
            "_model_module": "@jupyter-widgets/controls",
            "_model_module_version": "1.5.0",
            "_model_name": "DescriptionStyleModel",
            "_view_count": null,
            "_view_module": "@jupyter-widgets/base",
            "_view_module_version": "1.2.0",
            "_view_name": "StyleView",
            "description_width": ""
          }
        },
        "88eec13b5b88427185b99d9d7e747a73": {
          "model_module": "@jupyter-widgets/base",
          "model_name": "LayoutModel",
          "model_module_version": "1.2.0",
          "state": {
            "_model_module": "@jupyter-widgets/base",
            "_model_module_version": "1.2.0",
            "_model_name": "LayoutModel",
            "_view_count": null,
            "_view_module": "@jupyter-widgets/base",
            "_view_module_version": "1.2.0",
            "_view_name": "LayoutView",
            "align_content": null,
            "align_items": null,
            "align_self": null,
            "border": null,
            "bottom": null,
            "display": null,
            "flex": null,
            "flex_flow": null,
            "grid_area": null,
            "grid_auto_columns": null,
            "grid_auto_flow": null,
            "grid_auto_rows": null,
            "grid_column": null,
            "grid_gap": null,
            "grid_row": null,
            "grid_template_areas": null,
            "grid_template_columns": null,
            "grid_template_rows": null,
            "height": null,
            "justify_content": null,
            "justify_items": null,
            "left": null,
            "margin": null,
            "max_height": null,
            "max_width": null,
            "min_height": null,
            "min_width": null,
            "object_fit": null,
            "object_position": null,
            "order": null,
            "overflow": null,
            "overflow_x": null,
            "overflow_y": null,
            "padding": null,
            "right": null,
            "top": null,
            "visibility": null,
            "width": "20px"
          }
        },
        "34db0d7b50b24558834fe2645ef86ab6": {
          "model_module": "@jupyter-widgets/controls",
          "model_name": "ProgressStyleModel",
          "model_module_version": "1.5.0",
          "state": {
            "_model_module": "@jupyter-widgets/controls",
            "_model_module_version": "1.5.0",
            "_model_name": "ProgressStyleModel",
            "_view_count": null,
            "_view_module": "@jupyter-widgets/base",
            "_view_module_version": "1.2.0",
            "_view_name": "StyleView",
            "bar_color": null,
            "description_width": ""
          }
        },
        "0b7739073d9b49808722541d92ee7806": {
          "model_module": "@jupyter-widgets/base",
          "model_name": "LayoutModel",
          "model_module_version": "1.2.0",
          "state": {
            "_model_module": "@jupyter-widgets/base",
            "_model_module_version": "1.2.0",
            "_model_name": "LayoutModel",
            "_view_count": null,
            "_view_module": "@jupyter-widgets/base",
            "_view_module_version": "1.2.0",
            "_view_name": "LayoutView",
            "align_content": null,
            "align_items": null,
            "align_self": null,
            "border": null,
            "bottom": null,
            "display": null,
            "flex": null,
            "flex_flow": null,
            "grid_area": null,
            "grid_auto_columns": null,
            "grid_auto_flow": null,
            "grid_auto_rows": null,
            "grid_column": null,
            "grid_gap": null,
            "grid_row": null,
            "grid_template_areas": null,
            "grid_template_columns": null,
            "grid_template_rows": null,
            "height": null,
            "justify_content": null,
            "justify_items": null,
            "left": null,
            "margin": null,
            "max_height": null,
            "max_width": null,
            "min_height": null,
            "min_width": null,
            "object_fit": null,
            "object_position": null,
            "order": null,
            "overflow": null,
            "overflow_x": null,
            "overflow_y": null,
            "padding": null,
            "right": null,
            "top": null,
            "visibility": null,
            "width": null
          }
        },
        "f4cc1e6d383044b0b4b00daa9cc7a9c2": {
          "model_module": "@jupyter-widgets/controls",
          "model_name": "DescriptionStyleModel",
          "model_module_version": "1.5.0",
          "state": {
            "_model_module": "@jupyter-widgets/controls",
            "_model_module_version": "1.5.0",
            "_model_name": "DescriptionStyleModel",
            "_view_count": null,
            "_view_module": "@jupyter-widgets/base",
            "_view_module_version": "1.2.0",
            "_view_name": "StyleView",
            "description_width": ""
          }
        },
        "2774c52ca48c46f296650c1c3c727d35": {
          "model_module": "@jupyter-widgets/controls",
          "model_name": "HBoxModel",
          "model_module_version": "1.5.0",
          "state": {
            "_dom_classes": [],
            "_model_module": "@jupyter-widgets/controls",
            "_model_module_version": "1.5.0",
            "_model_name": "HBoxModel",
            "_view_count": null,
            "_view_module": "@jupyter-widgets/controls",
            "_view_module_version": "1.5.0",
            "_view_name": "HBoxView",
            "box_style": "",
            "children": [
              "IPY_MODEL_9cfeb71dbb4540a5b1887c2440bcdbbf",
              "IPY_MODEL_dc5978774e034dbfa9e8e7a7581bc690",
              "IPY_MODEL_1b288a49bbac4f49bef10912810de3a7"
            ],
            "layout": "IPY_MODEL_36cd57a404c042db850ea150b54bf15a"
          }
        },
        "9cfeb71dbb4540a5b1887c2440bcdbbf": {
          "model_module": "@jupyter-widgets/controls",
          "model_name": "HTMLModel",
          "model_module_version": "1.5.0",
          "state": {
            "_dom_classes": [],
            "_model_module": "@jupyter-widgets/controls",
            "_model_module_version": "1.5.0",
            "_model_name": "HTMLModel",
            "_view_count": null,
            "_view_module": "@jupyter-widgets/controls",
            "_view_module_version": "1.5.0",
            "_view_name": "HTMLView",
            "description": "",
            "description_tooltip": null,
            "layout": "IPY_MODEL_bbc5dc77ab40435d917fcc33d6cc5020",
            "placeholder": "​",
            "style": "IPY_MODEL_096ef3c26d74430e920c3a3478cc2006",
            "value": "100%"
          }
        },
        "dc5978774e034dbfa9e8e7a7581bc690": {
          "model_module": "@jupyter-widgets/controls",
          "model_name": "FloatProgressModel",
          "model_module_version": "1.5.0",
          "state": {
            "_dom_classes": [],
            "_model_module": "@jupyter-widgets/controls",
            "_model_module_version": "1.5.0",
            "_model_name": "FloatProgressModel",
            "_view_count": null,
            "_view_module": "@jupyter-widgets/controls",
            "_view_module_version": "1.5.0",
            "_view_name": "ProgressView",
            "bar_style": "success",
            "description": "",
            "description_tooltip": null,
            "layout": "IPY_MODEL_7789eb1d6b6a4966b800fe448de45dee",
            "max": 1,
            "min": 0,
            "orientation": "horizontal",
            "style": "IPY_MODEL_13a873c6421549838ab239a4e8e9cbbb",
            "value": 1
          }
        },
        "1b288a49bbac4f49bef10912810de3a7": {
          "model_module": "@jupyter-widgets/controls",
          "model_name": "HTMLModel",
          "model_module_version": "1.5.0",
          "state": {
            "_dom_classes": [],
            "_model_module": "@jupyter-widgets/controls",
            "_model_module_version": "1.5.0",
            "_model_name": "HTMLModel",
            "_view_count": null,
            "_view_module": "@jupyter-widgets/controls",
            "_view_module_version": "1.5.0",
            "_view_name": "HTMLView",
            "description": "",
            "description_tooltip": null,
            "layout": "IPY_MODEL_e70eeb1dadcb4e9da413a1112a833376",
            "placeholder": "​",
            "style": "IPY_MODEL_072655c92c0d4538b9af55cdbf5b6f47",
            "value": " 1/1 [00:00&lt;00:00, 10.65ba/s]"
          }
        },
        "36cd57a404c042db850ea150b54bf15a": {
          "model_module": "@jupyter-widgets/base",
          "model_name": "LayoutModel",
          "model_module_version": "1.2.0",
          "state": {
            "_model_module": "@jupyter-widgets/base",
            "_model_module_version": "1.2.0",
            "_model_name": "LayoutModel",
            "_view_count": null,
            "_view_module": "@jupyter-widgets/base",
            "_view_module_version": "1.2.0",
            "_view_name": "LayoutView",
            "align_content": null,
            "align_items": null,
            "align_self": null,
            "border": null,
            "bottom": null,
            "display": null,
            "flex": null,
            "flex_flow": null,
            "grid_area": null,
            "grid_auto_columns": null,
            "grid_auto_flow": null,
            "grid_auto_rows": null,
            "grid_column": null,
            "grid_gap": null,
            "grid_row": null,
            "grid_template_areas": null,
            "grid_template_columns": null,
            "grid_template_rows": null,
            "height": null,
            "justify_content": null,
            "justify_items": null,
            "left": null,
            "margin": null,
            "max_height": null,
            "max_width": null,
            "min_height": null,
            "min_width": null,
            "object_fit": null,
            "object_position": null,
            "order": null,
            "overflow": null,
            "overflow_x": null,
            "overflow_y": null,
            "padding": null,
            "right": null,
            "top": null,
            "visibility": null,
            "width": null
          }
        },
        "bbc5dc77ab40435d917fcc33d6cc5020": {
          "model_module": "@jupyter-widgets/base",
          "model_name": "LayoutModel",
          "model_module_version": "1.2.0",
          "state": {
            "_model_module": "@jupyter-widgets/base",
            "_model_module_version": "1.2.0",
            "_model_name": "LayoutModel",
            "_view_count": null,
            "_view_module": "@jupyter-widgets/base",
            "_view_module_version": "1.2.0",
            "_view_name": "LayoutView",
            "align_content": null,
            "align_items": null,
            "align_self": null,
            "border": null,
            "bottom": null,
            "display": null,
            "flex": null,
            "flex_flow": null,
            "grid_area": null,
            "grid_auto_columns": null,
            "grid_auto_flow": null,
            "grid_auto_rows": null,
            "grid_column": null,
            "grid_gap": null,
            "grid_row": null,
            "grid_template_areas": null,
            "grid_template_columns": null,
            "grid_template_rows": null,
            "height": null,
            "justify_content": null,
            "justify_items": null,
            "left": null,
            "margin": null,
            "max_height": null,
            "max_width": null,
            "min_height": null,
            "min_width": null,
            "object_fit": null,
            "object_position": null,
            "order": null,
            "overflow": null,
            "overflow_x": null,
            "overflow_y": null,
            "padding": null,
            "right": null,
            "top": null,
            "visibility": null,
            "width": null
          }
        },
        "096ef3c26d74430e920c3a3478cc2006": {
          "model_module": "@jupyter-widgets/controls",
          "model_name": "DescriptionStyleModel",
          "model_module_version": "1.5.0",
          "state": {
            "_model_module": "@jupyter-widgets/controls",
            "_model_module_version": "1.5.0",
            "_model_name": "DescriptionStyleModel",
            "_view_count": null,
            "_view_module": "@jupyter-widgets/base",
            "_view_module_version": "1.2.0",
            "_view_name": "StyleView",
            "description_width": ""
          }
        },
        "7789eb1d6b6a4966b800fe448de45dee": {
          "model_module": "@jupyter-widgets/base",
          "model_name": "LayoutModel",
          "model_module_version": "1.2.0",
          "state": {
            "_model_module": "@jupyter-widgets/base",
            "_model_module_version": "1.2.0",
            "_model_name": "LayoutModel",
            "_view_count": null,
            "_view_module": "@jupyter-widgets/base",
            "_view_module_version": "1.2.0",
            "_view_name": "LayoutView",
            "align_content": null,
            "align_items": null,
            "align_self": null,
            "border": null,
            "bottom": null,
            "display": null,
            "flex": null,
            "flex_flow": null,
            "grid_area": null,
            "grid_auto_columns": null,
            "grid_auto_flow": null,
            "grid_auto_rows": null,
            "grid_column": null,
            "grid_gap": null,
            "grid_row": null,
            "grid_template_areas": null,
            "grid_template_columns": null,
            "grid_template_rows": null,
            "height": null,
            "justify_content": null,
            "justify_items": null,
            "left": null,
            "margin": null,
            "max_height": null,
            "max_width": null,
            "min_height": null,
            "min_width": null,
            "object_fit": null,
            "object_position": null,
            "order": null,
            "overflow": null,
            "overflow_x": null,
            "overflow_y": null,
            "padding": null,
            "right": null,
            "top": null,
            "visibility": null,
            "width": null
          }
        },
        "13a873c6421549838ab239a4e8e9cbbb": {
          "model_module": "@jupyter-widgets/controls",
          "model_name": "ProgressStyleModel",
          "model_module_version": "1.5.0",
          "state": {
            "_model_module": "@jupyter-widgets/controls",
            "_model_module_version": "1.5.0",
            "_model_name": "ProgressStyleModel",
            "_view_count": null,
            "_view_module": "@jupyter-widgets/base",
            "_view_module_version": "1.2.0",
            "_view_name": "StyleView",
            "bar_color": null,
            "description_width": ""
          }
        },
        "e70eeb1dadcb4e9da413a1112a833376": {
          "model_module": "@jupyter-widgets/base",
          "model_name": "LayoutModel",
          "model_module_version": "1.2.0",
          "state": {
            "_model_module": "@jupyter-widgets/base",
            "_model_module_version": "1.2.0",
            "_model_name": "LayoutModel",
            "_view_count": null,
            "_view_module": "@jupyter-widgets/base",
            "_view_module_version": "1.2.0",
            "_view_name": "LayoutView",
            "align_content": null,
            "align_items": null,
            "align_self": null,
            "border": null,
            "bottom": null,
            "display": null,
            "flex": null,
            "flex_flow": null,
            "grid_area": null,
            "grid_auto_columns": null,
            "grid_auto_flow": null,
            "grid_auto_rows": null,
            "grid_column": null,
            "grid_gap": null,
            "grid_row": null,
            "grid_template_areas": null,
            "grid_template_columns": null,
            "grid_template_rows": null,
            "height": null,
            "justify_content": null,
            "justify_items": null,
            "left": null,
            "margin": null,
            "max_height": null,
            "max_width": null,
            "min_height": null,
            "min_width": null,
            "object_fit": null,
            "object_position": null,
            "order": null,
            "overflow": null,
            "overflow_x": null,
            "overflow_y": null,
            "padding": null,
            "right": null,
            "top": null,
            "visibility": null,
            "width": null
          }
        },
        "072655c92c0d4538b9af55cdbf5b6f47": {
          "model_module": "@jupyter-widgets/controls",
          "model_name": "DescriptionStyleModel",
          "model_module_version": "1.5.0",
          "state": {
            "_model_module": "@jupyter-widgets/controls",
            "_model_module_version": "1.5.0",
            "_model_name": "DescriptionStyleModel",
            "_view_count": null,
            "_view_module": "@jupyter-widgets/base",
            "_view_module_version": "1.2.0",
            "_view_name": "StyleView",
            "description_width": ""
          }
        },
        "b924029b44ac489eab8040385033efe7": {
          "model_module": "@jupyter-widgets/controls",
          "model_name": "HBoxModel",
          "model_module_version": "1.5.0",
          "state": {
            "_dom_classes": [],
            "_model_module": "@jupyter-widgets/controls",
            "_model_module_version": "1.5.0",
            "_model_name": "HBoxModel",
            "_view_count": null,
            "_view_module": "@jupyter-widgets/controls",
            "_view_module_version": "1.5.0",
            "_view_name": "HBoxView",
            "box_style": "",
            "children": [
              "IPY_MODEL_77998d04dc4449a1b16c3d90cab101e2",
              "IPY_MODEL_c617837ac71a400d9cdbbd0b85dad08c",
              "IPY_MODEL_b53c3152fe504ac4a62fc08e628c6f77"
            ],
            "layout": "IPY_MODEL_d2bed965edaa4642a90b5887786a3e7e"
          }
        },
        "77998d04dc4449a1b16c3d90cab101e2": {
          "model_module": "@jupyter-widgets/controls",
          "model_name": "HTMLModel",
          "model_module_version": "1.5.0",
          "state": {
            "_dom_classes": [],
            "_model_module": "@jupyter-widgets/controls",
            "_model_module_version": "1.5.0",
            "_model_name": "HTMLModel",
            "_view_count": null,
            "_view_module": "@jupyter-widgets/controls",
            "_view_module_version": "1.5.0",
            "_view_name": "HTMLView",
            "description": "",
            "description_tooltip": null,
            "layout": "IPY_MODEL_0519ff303f0a440fb7d08ce46683ad53",
            "placeholder": "​",
            "style": "IPY_MODEL_ff3dbe346ebf4e8cb3278bf2b74a56e2",
            "value": "100%"
          }
        },
        "c617837ac71a400d9cdbbd0b85dad08c": {
          "model_module": "@jupyter-widgets/controls",
          "model_name": "FloatProgressModel",
          "model_module_version": "1.5.0",
          "state": {
            "_dom_classes": [],
            "_model_module": "@jupyter-widgets/controls",
            "_model_module_version": "1.5.0",
            "_model_name": "FloatProgressModel",
            "_view_count": null,
            "_view_module": "@jupyter-widgets/controls",
            "_view_module_version": "1.5.0",
            "_view_name": "ProgressView",
            "bar_style": "success",
            "description": "",
            "description_tooltip": null,
            "layout": "IPY_MODEL_3cab7806de41433ea5b9c78a9c55aa8c",
            "max": 1,
            "min": 0,
            "orientation": "horizontal",
            "style": "IPY_MODEL_8811de8749b843a4b3c715439b132c51",
            "value": 1
          }
        },
        "b53c3152fe504ac4a62fc08e628c6f77": {
          "model_module": "@jupyter-widgets/controls",
          "model_name": "HTMLModel",
          "model_module_version": "1.5.0",
          "state": {
            "_dom_classes": [],
            "_model_module": "@jupyter-widgets/controls",
            "_model_module_version": "1.5.0",
            "_model_name": "HTMLModel",
            "_view_count": null,
            "_view_module": "@jupyter-widgets/controls",
            "_view_module_version": "1.5.0",
            "_view_name": "HTMLView",
            "description": "",
            "description_tooltip": null,
            "layout": "IPY_MODEL_aa9e083552304b9380e66ba9cb233768",
            "placeholder": "​",
            "style": "IPY_MODEL_6b83cb47c3db43d391f462251811f893",
            "value": " 1/1 [00:00&lt;00:00, 19.94ba/s]"
          }
        },
        "d2bed965edaa4642a90b5887786a3e7e": {
          "model_module": "@jupyter-widgets/base",
          "model_name": "LayoutModel",
          "model_module_version": "1.2.0",
          "state": {
            "_model_module": "@jupyter-widgets/base",
            "_model_module_version": "1.2.0",
            "_model_name": "LayoutModel",
            "_view_count": null,
            "_view_module": "@jupyter-widgets/base",
            "_view_module_version": "1.2.0",
            "_view_name": "LayoutView",
            "align_content": null,
            "align_items": null,
            "align_self": null,
            "border": null,
            "bottom": null,
            "display": null,
            "flex": null,
            "flex_flow": null,
            "grid_area": null,
            "grid_auto_columns": null,
            "grid_auto_flow": null,
            "grid_auto_rows": null,
            "grid_column": null,
            "grid_gap": null,
            "grid_row": null,
            "grid_template_areas": null,
            "grid_template_columns": null,
            "grid_template_rows": null,
            "height": null,
            "justify_content": null,
            "justify_items": null,
            "left": null,
            "margin": null,
            "max_height": null,
            "max_width": null,
            "min_height": null,
            "min_width": null,
            "object_fit": null,
            "object_position": null,
            "order": null,
            "overflow": null,
            "overflow_x": null,
            "overflow_y": null,
            "padding": null,
            "right": null,
            "top": null,
            "visibility": null,
            "width": null
          }
        },
        "0519ff303f0a440fb7d08ce46683ad53": {
          "model_module": "@jupyter-widgets/base",
          "model_name": "LayoutModel",
          "model_module_version": "1.2.0",
          "state": {
            "_model_module": "@jupyter-widgets/base",
            "_model_module_version": "1.2.0",
            "_model_name": "LayoutModel",
            "_view_count": null,
            "_view_module": "@jupyter-widgets/base",
            "_view_module_version": "1.2.0",
            "_view_name": "LayoutView",
            "align_content": null,
            "align_items": null,
            "align_self": null,
            "border": null,
            "bottom": null,
            "display": null,
            "flex": null,
            "flex_flow": null,
            "grid_area": null,
            "grid_auto_columns": null,
            "grid_auto_flow": null,
            "grid_auto_rows": null,
            "grid_column": null,
            "grid_gap": null,
            "grid_row": null,
            "grid_template_areas": null,
            "grid_template_columns": null,
            "grid_template_rows": null,
            "height": null,
            "justify_content": null,
            "justify_items": null,
            "left": null,
            "margin": null,
            "max_height": null,
            "max_width": null,
            "min_height": null,
            "min_width": null,
            "object_fit": null,
            "object_position": null,
            "order": null,
            "overflow": null,
            "overflow_x": null,
            "overflow_y": null,
            "padding": null,
            "right": null,
            "top": null,
            "visibility": null,
            "width": null
          }
        },
        "ff3dbe346ebf4e8cb3278bf2b74a56e2": {
          "model_module": "@jupyter-widgets/controls",
          "model_name": "DescriptionStyleModel",
          "model_module_version": "1.5.0",
          "state": {
            "_model_module": "@jupyter-widgets/controls",
            "_model_module_version": "1.5.0",
            "_model_name": "DescriptionStyleModel",
            "_view_count": null,
            "_view_module": "@jupyter-widgets/base",
            "_view_module_version": "1.2.0",
            "_view_name": "StyleView",
            "description_width": ""
          }
        },
        "3cab7806de41433ea5b9c78a9c55aa8c": {
          "model_module": "@jupyter-widgets/base",
          "model_name": "LayoutModel",
          "model_module_version": "1.2.0",
          "state": {
            "_model_module": "@jupyter-widgets/base",
            "_model_module_version": "1.2.0",
            "_model_name": "LayoutModel",
            "_view_count": null,
            "_view_module": "@jupyter-widgets/base",
            "_view_module_version": "1.2.0",
            "_view_name": "LayoutView",
            "align_content": null,
            "align_items": null,
            "align_self": null,
            "border": null,
            "bottom": null,
            "display": null,
            "flex": null,
            "flex_flow": null,
            "grid_area": null,
            "grid_auto_columns": null,
            "grid_auto_flow": null,
            "grid_auto_rows": null,
            "grid_column": null,
            "grid_gap": null,
            "grid_row": null,
            "grid_template_areas": null,
            "grid_template_columns": null,
            "grid_template_rows": null,
            "height": null,
            "justify_content": null,
            "justify_items": null,
            "left": null,
            "margin": null,
            "max_height": null,
            "max_width": null,
            "min_height": null,
            "min_width": null,
            "object_fit": null,
            "object_position": null,
            "order": null,
            "overflow": null,
            "overflow_x": null,
            "overflow_y": null,
            "padding": null,
            "right": null,
            "top": null,
            "visibility": null,
            "width": null
          }
        },
        "8811de8749b843a4b3c715439b132c51": {
          "model_module": "@jupyter-widgets/controls",
          "model_name": "ProgressStyleModel",
          "model_module_version": "1.5.0",
          "state": {
            "_model_module": "@jupyter-widgets/controls",
            "_model_module_version": "1.5.0",
            "_model_name": "ProgressStyleModel",
            "_view_count": null,
            "_view_module": "@jupyter-widgets/base",
            "_view_module_version": "1.2.0",
            "_view_name": "StyleView",
            "bar_color": null,
            "description_width": ""
          }
        },
        "aa9e083552304b9380e66ba9cb233768": {
          "model_module": "@jupyter-widgets/base",
          "model_name": "LayoutModel",
          "model_module_version": "1.2.0",
          "state": {
            "_model_module": "@jupyter-widgets/base",
            "_model_module_version": "1.2.0",
            "_model_name": "LayoutModel",
            "_view_count": null,
            "_view_module": "@jupyter-widgets/base",
            "_view_module_version": "1.2.0",
            "_view_name": "LayoutView",
            "align_content": null,
            "align_items": null,
            "align_self": null,
            "border": null,
            "bottom": null,
            "display": null,
            "flex": null,
            "flex_flow": null,
            "grid_area": null,
            "grid_auto_columns": null,
            "grid_auto_flow": null,
            "grid_auto_rows": null,
            "grid_column": null,
            "grid_gap": null,
            "grid_row": null,
            "grid_template_areas": null,
            "grid_template_columns": null,
            "grid_template_rows": null,
            "height": null,
            "justify_content": null,
            "justify_items": null,
            "left": null,
            "margin": null,
            "max_height": null,
            "max_width": null,
            "min_height": null,
            "min_width": null,
            "object_fit": null,
            "object_position": null,
            "order": null,
            "overflow": null,
            "overflow_x": null,
            "overflow_y": null,
            "padding": null,
            "right": null,
            "top": null,
            "visibility": null,
            "width": null
          }
        },
        "6b83cb47c3db43d391f462251811f893": {
          "model_module": "@jupyter-widgets/controls",
          "model_name": "DescriptionStyleModel",
          "model_module_version": "1.5.0",
          "state": {
            "_model_module": "@jupyter-widgets/controls",
            "_model_module_version": "1.5.0",
            "_model_name": "DescriptionStyleModel",
            "_view_count": null,
            "_view_module": "@jupyter-widgets/base",
            "_view_module_version": "1.2.0",
            "_view_name": "StyleView",
            "description_width": ""
          }
        },
        "4be65521e11944ef8202fdc4b7aead53": {
          "model_module": "@jupyter-widgets/controls",
          "model_name": "HBoxModel",
          "model_module_version": "1.5.0",
          "state": {
            "_dom_classes": [],
            "_model_module": "@jupyter-widgets/controls",
            "_model_module_version": "1.5.0",
            "_model_name": "HBoxModel",
            "_view_count": null,
            "_view_module": "@jupyter-widgets/controls",
            "_view_module_version": "1.5.0",
            "_view_name": "HBoxView",
            "box_style": "",
            "children": [
              "IPY_MODEL_ae9c407e65054cfea3919cd75281661e",
              "IPY_MODEL_1869412659ba4209a995d7b9d899cd52",
              "IPY_MODEL_114dc0951aeb4206a6ba01017eecee81"
            ],
            "layout": "IPY_MODEL_7d95b11ddc754b10b3af2cd730e6486e"
          }
        },
        "ae9c407e65054cfea3919cd75281661e": {
          "model_module": "@jupyter-widgets/controls",
          "model_name": "HTMLModel",
          "model_module_version": "1.5.0",
          "state": {
            "_dom_classes": [],
            "_model_module": "@jupyter-widgets/controls",
            "_model_module_version": "1.5.0",
            "_model_name": "HTMLModel",
            "_view_count": null,
            "_view_module": "@jupyter-widgets/controls",
            "_view_module_version": "1.5.0",
            "_view_name": "HTMLView",
            "description": "",
            "description_tooltip": null,
            "layout": "IPY_MODEL_1533c294bd724fa88479b4dd8fa55441",
            "placeholder": "​",
            "style": "IPY_MODEL_2f4e15064da04c6b890a52353ed415e8",
            "value": "100%"
          }
        },
        "1869412659ba4209a995d7b9d899cd52": {
          "model_module": "@jupyter-widgets/controls",
          "model_name": "FloatProgressModel",
          "model_module_version": "1.5.0",
          "state": {
            "_dom_classes": [],
            "_model_module": "@jupyter-widgets/controls",
            "_model_module_version": "1.5.0",
            "_model_name": "FloatProgressModel",
            "_view_count": null,
            "_view_module": "@jupyter-widgets/controls",
            "_view_module_version": "1.5.0",
            "_view_name": "ProgressView",
            "bar_style": "success",
            "description": "",
            "description_tooltip": null,
            "layout": "IPY_MODEL_fb7b59c2c295497a8b0143cf80428073",
            "max": 5,
            "min": 0,
            "orientation": "horizontal",
            "style": "IPY_MODEL_64ad302b254c4e8f8cce090d50f93916",
            "value": 5
          }
        },
        "114dc0951aeb4206a6ba01017eecee81": {
          "model_module": "@jupyter-widgets/controls",
          "model_name": "HTMLModel",
          "model_module_version": "1.5.0",
          "state": {
            "_dom_classes": [],
            "_model_module": "@jupyter-widgets/controls",
            "_model_module_version": "1.5.0",
            "_model_name": "HTMLModel",
            "_view_count": null,
            "_view_module": "@jupyter-widgets/controls",
            "_view_module_version": "1.5.0",
            "_view_name": "HTMLView",
            "description": "",
            "description_tooltip": null,
            "layout": "IPY_MODEL_f8a9bd1761404033bab0f0743330e108",
            "placeholder": "​",
            "style": "IPY_MODEL_5dab1908ae174bebb02c45e3aac60c0b",
            "value": " 5/5 [00:00&lt;00:00, 86.82ba/s]"
          }
        },
        "7d95b11ddc754b10b3af2cd730e6486e": {
          "model_module": "@jupyter-widgets/base",
          "model_name": "LayoutModel",
          "model_module_version": "1.2.0",
          "state": {
            "_model_module": "@jupyter-widgets/base",
            "_model_module_version": "1.2.0",
            "_model_name": "LayoutModel",
            "_view_count": null,
            "_view_module": "@jupyter-widgets/base",
            "_view_module_version": "1.2.0",
            "_view_name": "LayoutView",
            "align_content": null,
            "align_items": null,
            "align_self": null,
            "border": null,
            "bottom": null,
            "display": null,
            "flex": null,
            "flex_flow": null,
            "grid_area": null,
            "grid_auto_columns": null,
            "grid_auto_flow": null,
            "grid_auto_rows": null,
            "grid_column": null,
            "grid_gap": null,
            "grid_row": null,
            "grid_template_areas": null,
            "grid_template_columns": null,
            "grid_template_rows": null,
            "height": null,
            "justify_content": null,
            "justify_items": null,
            "left": null,
            "margin": null,
            "max_height": null,
            "max_width": null,
            "min_height": null,
            "min_width": null,
            "object_fit": null,
            "object_position": null,
            "order": null,
            "overflow": null,
            "overflow_x": null,
            "overflow_y": null,
            "padding": null,
            "right": null,
            "top": null,
            "visibility": null,
            "width": null
          }
        },
        "1533c294bd724fa88479b4dd8fa55441": {
          "model_module": "@jupyter-widgets/base",
          "model_name": "LayoutModel",
          "model_module_version": "1.2.0",
          "state": {
            "_model_module": "@jupyter-widgets/base",
            "_model_module_version": "1.2.0",
            "_model_name": "LayoutModel",
            "_view_count": null,
            "_view_module": "@jupyter-widgets/base",
            "_view_module_version": "1.2.0",
            "_view_name": "LayoutView",
            "align_content": null,
            "align_items": null,
            "align_self": null,
            "border": null,
            "bottom": null,
            "display": null,
            "flex": null,
            "flex_flow": null,
            "grid_area": null,
            "grid_auto_columns": null,
            "grid_auto_flow": null,
            "grid_auto_rows": null,
            "grid_column": null,
            "grid_gap": null,
            "grid_row": null,
            "grid_template_areas": null,
            "grid_template_columns": null,
            "grid_template_rows": null,
            "height": null,
            "justify_content": null,
            "justify_items": null,
            "left": null,
            "margin": null,
            "max_height": null,
            "max_width": null,
            "min_height": null,
            "min_width": null,
            "object_fit": null,
            "object_position": null,
            "order": null,
            "overflow": null,
            "overflow_x": null,
            "overflow_y": null,
            "padding": null,
            "right": null,
            "top": null,
            "visibility": null,
            "width": null
          }
        },
        "2f4e15064da04c6b890a52353ed415e8": {
          "model_module": "@jupyter-widgets/controls",
          "model_name": "DescriptionStyleModel",
          "model_module_version": "1.5.0",
          "state": {
            "_model_module": "@jupyter-widgets/controls",
            "_model_module_version": "1.5.0",
            "_model_name": "DescriptionStyleModel",
            "_view_count": null,
            "_view_module": "@jupyter-widgets/base",
            "_view_module_version": "1.2.0",
            "_view_name": "StyleView",
            "description_width": ""
          }
        },
        "fb7b59c2c295497a8b0143cf80428073": {
          "model_module": "@jupyter-widgets/base",
          "model_name": "LayoutModel",
          "model_module_version": "1.2.0",
          "state": {
            "_model_module": "@jupyter-widgets/base",
            "_model_module_version": "1.2.0",
            "_model_name": "LayoutModel",
            "_view_count": null,
            "_view_module": "@jupyter-widgets/base",
            "_view_module_version": "1.2.0",
            "_view_name": "LayoutView",
            "align_content": null,
            "align_items": null,
            "align_self": null,
            "border": null,
            "bottom": null,
            "display": null,
            "flex": null,
            "flex_flow": null,
            "grid_area": null,
            "grid_auto_columns": null,
            "grid_auto_flow": null,
            "grid_auto_rows": null,
            "grid_column": null,
            "grid_gap": null,
            "grid_row": null,
            "grid_template_areas": null,
            "grid_template_columns": null,
            "grid_template_rows": null,
            "height": null,
            "justify_content": null,
            "justify_items": null,
            "left": null,
            "margin": null,
            "max_height": null,
            "max_width": null,
            "min_height": null,
            "min_width": null,
            "object_fit": null,
            "object_position": null,
            "order": null,
            "overflow": null,
            "overflow_x": null,
            "overflow_y": null,
            "padding": null,
            "right": null,
            "top": null,
            "visibility": null,
            "width": null
          }
        },
        "64ad302b254c4e8f8cce090d50f93916": {
          "model_module": "@jupyter-widgets/controls",
          "model_name": "ProgressStyleModel",
          "model_module_version": "1.5.0",
          "state": {
            "_model_module": "@jupyter-widgets/controls",
            "_model_module_version": "1.5.0",
            "_model_name": "ProgressStyleModel",
            "_view_count": null,
            "_view_module": "@jupyter-widgets/base",
            "_view_module_version": "1.2.0",
            "_view_name": "StyleView",
            "bar_color": null,
            "description_width": ""
          }
        },
        "f8a9bd1761404033bab0f0743330e108": {
          "model_module": "@jupyter-widgets/base",
          "model_name": "LayoutModel",
          "model_module_version": "1.2.0",
          "state": {
            "_model_module": "@jupyter-widgets/base",
            "_model_module_version": "1.2.0",
            "_model_name": "LayoutModel",
            "_view_count": null,
            "_view_module": "@jupyter-widgets/base",
            "_view_module_version": "1.2.0",
            "_view_name": "LayoutView",
            "align_content": null,
            "align_items": null,
            "align_self": null,
            "border": null,
            "bottom": null,
            "display": null,
            "flex": null,
            "flex_flow": null,
            "grid_area": null,
            "grid_auto_columns": null,
            "grid_auto_flow": null,
            "grid_auto_rows": null,
            "grid_column": null,
            "grid_gap": null,
            "grid_row": null,
            "grid_template_areas": null,
            "grid_template_columns": null,
            "grid_template_rows": null,
            "height": null,
            "justify_content": null,
            "justify_items": null,
            "left": null,
            "margin": null,
            "max_height": null,
            "max_width": null,
            "min_height": null,
            "min_width": null,
            "object_fit": null,
            "object_position": null,
            "order": null,
            "overflow": null,
            "overflow_x": null,
            "overflow_y": null,
            "padding": null,
            "right": null,
            "top": null,
            "visibility": null,
            "width": null
          }
        },
        "5dab1908ae174bebb02c45e3aac60c0b": {
          "model_module": "@jupyter-widgets/controls",
          "model_name": "DescriptionStyleModel",
          "model_module_version": "1.5.0",
          "state": {
            "_model_module": "@jupyter-widgets/controls",
            "_model_module_version": "1.5.0",
            "_model_name": "DescriptionStyleModel",
            "_view_count": null,
            "_view_module": "@jupyter-widgets/base",
            "_view_module_version": "1.2.0",
            "_view_name": "StyleView",
            "description_width": ""
          }
        },
        "efc08db285ff49c8bba32cfadf5bce2c": {
          "model_module": "@jupyter-widgets/controls",
          "model_name": "HBoxModel",
          "model_module_version": "1.5.0",
          "state": {
            "_dom_classes": [],
            "_model_module": "@jupyter-widgets/controls",
            "_model_module_version": "1.5.0",
            "_model_name": "HBoxModel",
            "_view_count": null,
            "_view_module": "@jupyter-widgets/controls",
            "_view_module_version": "1.5.0",
            "_view_name": "HBoxView",
            "box_style": "",
            "children": [
              "IPY_MODEL_27b992e15c394421ae905732fd3e44a7",
              "IPY_MODEL_683809f581014ff394abdd6cedec0f41",
              "IPY_MODEL_7996e640af9241069e1abf583f38842c"
            ],
            "layout": "IPY_MODEL_37c8c46148314307b0925e2f2c49939f"
          }
        },
        "27b992e15c394421ae905732fd3e44a7": {
          "model_module": "@jupyter-widgets/controls",
          "model_name": "HTMLModel",
          "model_module_version": "1.5.0",
          "state": {
            "_dom_classes": [],
            "_model_module": "@jupyter-widgets/controls",
            "_model_module_version": "1.5.0",
            "_model_name": "HTMLModel",
            "_view_count": null,
            "_view_module": "@jupyter-widgets/controls",
            "_view_module_version": "1.5.0",
            "_view_name": "HTMLView",
            "description": "",
            "description_tooltip": null,
            "layout": "IPY_MODEL_cffd43c793ed47b7af397b7f377b5fad",
            "placeholder": "​",
            "style": "IPY_MODEL_3df3fcb36f444ede985a7ba41b5214a2",
            "value": "Downloading: "
          }
        },
        "683809f581014ff394abdd6cedec0f41": {
          "model_module": "@jupyter-widgets/controls",
          "model_name": "FloatProgressModel",
          "model_module_version": "1.5.0",
          "state": {
            "_dom_classes": [],
            "_model_module": "@jupyter-widgets/controls",
            "_model_module_version": "1.5.0",
            "_model_name": "FloatProgressModel",
            "_view_count": null,
            "_view_module": "@jupyter-widgets/controls",
            "_view_module_version": "1.5.0",
            "_view_name": "ProgressView",
            "bar_style": "success",
            "description": "",
            "description_tooltip": null,
            "layout": "IPY_MODEL_8d3e47041a0840faac66c895375d371e",
            "max": 1901,
            "min": 0,
            "orientation": "horizontal",
            "style": "IPY_MODEL_aee1785347f846e3babe9cbea85e0b2c",
            "value": 1901
          }
        },
        "7996e640af9241069e1abf583f38842c": {
          "model_module": "@jupyter-widgets/controls",
          "model_name": "HTMLModel",
          "model_module_version": "1.5.0",
          "state": {
            "_dom_classes": [],
            "_model_module": "@jupyter-widgets/controls",
            "_model_module_version": "1.5.0",
            "_model_name": "HTMLModel",
            "_view_count": null,
            "_view_module": "@jupyter-widgets/controls",
            "_view_module_version": "1.5.0",
            "_view_name": "HTMLView",
            "description": "",
            "description_tooltip": null,
            "layout": "IPY_MODEL_c42f138f8fe348709fcbb5c86223132e",
            "placeholder": "​",
            "style": "IPY_MODEL_1b6fb1c6944046378641bc873f72ad94",
            "value": " 4.48k/? [00:00&lt;00:00, 141kB/s]"
          }
        },
        "37c8c46148314307b0925e2f2c49939f": {
          "model_module": "@jupyter-widgets/base",
          "model_name": "LayoutModel",
          "model_module_version": "1.2.0",
          "state": {
            "_model_module": "@jupyter-widgets/base",
            "_model_module_version": "1.2.0",
            "_model_name": "LayoutModel",
            "_view_count": null,
            "_view_module": "@jupyter-widgets/base",
            "_view_module_version": "1.2.0",
            "_view_name": "LayoutView",
            "align_content": null,
            "align_items": null,
            "align_self": null,
            "border": null,
            "bottom": null,
            "display": null,
            "flex": null,
            "flex_flow": null,
            "grid_area": null,
            "grid_auto_columns": null,
            "grid_auto_flow": null,
            "grid_auto_rows": null,
            "grid_column": null,
            "grid_gap": null,
            "grid_row": null,
            "grid_template_areas": null,
            "grid_template_columns": null,
            "grid_template_rows": null,
            "height": null,
            "justify_content": null,
            "justify_items": null,
            "left": null,
            "margin": null,
            "max_height": null,
            "max_width": null,
            "min_height": null,
            "min_width": null,
            "object_fit": null,
            "object_position": null,
            "order": null,
            "overflow": null,
            "overflow_x": null,
            "overflow_y": null,
            "padding": null,
            "right": null,
            "top": null,
            "visibility": null,
            "width": null
          }
        },
        "cffd43c793ed47b7af397b7f377b5fad": {
          "model_module": "@jupyter-widgets/base",
          "model_name": "LayoutModel",
          "model_module_version": "1.2.0",
          "state": {
            "_model_module": "@jupyter-widgets/base",
            "_model_module_version": "1.2.0",
            "_model_name": "LayoutModel",
            "_view_count": null,
            "_view_module": "@jupyter-widgets/base",
            "_view_module_version": "1.2.0",
            "_view_name": "LayoutView",
            "align_content": null,
            "align_items": null,
            "align_self": null,
            "border": null,
            "bottom": null,
            "display": null,
            "flex": null,
            "flex_flow": null,
            "grid_area": null,
            "grid_auto_columns": null,
            "grid_auto_flow": null,
            "grid_auto_rows": null,
            "grid_column": null,
            "grid_gap": null,
            "grid_row": null,
            "grid_template_areas": null,
            "grid_template_columns": null,
            "grid_template_rows": null,
            "height": null,
            "justify_content": null,
            "justify_items": null,
            "left": null,
            "margin": null,
            "max_height": null,
            "max_width": null,
            "min_height": null,
            "min_width": null,
            "object_fit": null,
            "object_position": null,
            "order": null,
            "overflow": null,
            "overflow_x": null,
            "overflow_y": null,
            "padding": null,
            "right": null,
            "top": null,
            "visibility": null,
            "width": null
          }
        },
        "3df3fcb36f444ede985a7ba41b5214a2": {
          "model_module": "@jupyter-widgets/controls",
          "model_name": "DescriptionStyleModel",
          "model_module_version": "1.5.0",
          "state": {
            "_model_module": "@jupyter-widgets/controls",
            "_model_module_version": "1.5.0",
            "_model_name": "DescriptionStyleModel",
            "_view_count": null,
            "_view_module": "@jupyter-widgets/base",
            "_view_module_version": "1.2.0",
            "_view_name": "StyleView",
            "description_width": ""
          }
        },
        "8d3e47041a0840faac66c895375d371e": {
          "model_module": "@jupyter-widgets/base",
          "model_name": "LayoutModel",
          "model_module_version": "1.2.0",
          "state": {
            "_model_module": "@jupyter-widgets/base",
            "_model_module_version": "1.2.0",
            "_model_name": "LayoutModel",
            "_view_count": null,
            "_view_module": "@jupyter-widgets/base",
            "_view_module_version": "1.2.0",
            "_view_name": "LayoutView",
            "align_content": null,
            "align_items": null,
            "align_self": null,
            "border": null,
            "bottom": null,
            "display": null,
            "flex": null,
            "flex_flow": null,
            "grid_area": null,
            "grid_auto_columns": null,
            "grid_auto_flow": null,
            "grid_auto_rows": null,
            "grid_column": null,
            "grid_gap": null,
            "grid_row": null,
            "grid_template_areas": null,
            "grid_template_columns": null,
            "grid_template_rows": null,
            "height": null,
            "justify_content": null,
            "justify_items": null,
            "left": null,
            "margin": null,
            "max_height": null,
            "max_width": null,
            "min_height": null,
            "min_width": null,
            "object_fit": null,
            "object_position": null,
            "order": null,
            "overflow": null,
            "overflow_x": null,
            "overflow_y": null,
            "padding": null,
            "right": null,
            "top": null,
            "visibility": null,
            "width": null
          }
        },
        "aee1785347f846e3babe9cbea85e0b2c": {
          "model_module": "@jupyter-widgets/controls",
          "model_name": "ProgressStyleModel",
          "model_module_version": "1.5.0",
          "state": {
            "_model_module": "@jupyter-widgets/controls",
            "_model_module_version": "1.5.0",
            "_model_name": "ProgressStyleModel",
            "_view_count": null,
            "_view_module": "@jupyter-widgets/base",
            "_view_module_version": "1.2.0",
            "_view_name": "StyleView",
            "bar_color": null,
            "description_width": ""
          }
        },
        "c42f138f8fe348709fcbb5c86223132e": {
          "model_module": "@jupyter-widgets/base",
          "model_name": "LayoutModel",
          "model_module_version": "1.2.0",
          "state": {
            "_model_module": "@jupyter-widgets/base",
            "_model_module_version": "1.2.0",
            "_model_name": "LayoutModel",
            "_view_count": null,
            "_view_module": "@jupyter-widgets/base",
            "_view_module_version": "1.2.0",
            "_view_name": "LayoutView",
            "align_content": null,
            "align_items": null,
            "align_self": null,
            "border": null,
            "bottom": null,
            "display": null,
            "flex": null,
            "flex_flow": null,
            "grid_area": null,
            "grid_auto_columns": null,
            "grid_auto_flow": null,
            "grid_auto_rows": null,
            "grid_column": null,
            "grid_gap": null,
            "grid_row": null,
            "grid_template_areas": null,
            "grid_template_columns": null,
            "grid_template_rows": null,
            "height": null,
            "justify_content": null,
            "justify_items": null,
            "left": null,
            "margin": null,
            "max_height": null,
            "max_width": null,
            "min_height": null,
            "min_width": null,
            "object_fit": null,
            "object_position": null,
            "order": null,
            "overflow": null,
            "overflow_x": null,
            "overflow_y": null,
            "padding": null,
            "right": null,
            "top": null,
            "visibility": null,
            "width": null
          }
        },
        "1b6fb1c6944046378641bc873f72ad94": {
          "model_module": "@jupyter-widgets/controls",
          "model_name": "DescriptionStyleModel",
          "model_module_version": "1.5.0",
          "state": {
            "_model_module": "@jupyter-widgets/controls",
            "_model_module_version": "1.5.0",
            "_model_name": "DescriptionStyleModel",
            "_view_count": null,
            "_view_module": "@jupyter-widgets/base",
            "_view_module_version": "1.2.0",
            "_view_name": "StyleView",
            "description_width": ""
          }
        },
        "2a14199abfdd4b1dbc1415ddfa1d7a45": {
          "model_module": "@jupyter-widgets/controls",
          "model_name": "HBoxModel",
          "model_module_version": "1.5.0",
          "state": {
            "_dom_classes": [],
            "_model_module": "@jupyter-widgets/controls",
            "_model_module_version": "1.5.0",
            "_model_name": "HBoxModel",
            "_view_count": null,
            "_view_module": "@jupyter-widgets/controls",
            "_view_module_version": "1.5.0",
            "_view_name": "HBoxView",
            "box_style": "",
            "children": [
              "IPY_MODEL_9d6c073a75a84f7b8d1e155f14dae70e",
              "IPY_MODEL_0e5dca31e47c45c780e10f793cd07688",
              "IPY_MODEL_7aae4571e0e74a57af2817bc74b3ee39"
            ],
            "layout": "IPY_MODEL_57a49f729b0840baac6ca5e0bac99339"
          }
        },
        "9d6c073a75a84f7b8d1e155f14dae70e": {
          "model_module": "@jupyter-widgets/controls",
          "model_name": "HTMLModel",
          "model_module_version": "1.5.0",
          "state": {
            "_dom_classes": [],
            "_model_module": "@jupyter-widgets/controls",
            "_model_module_version": "1.5.0",
            "_model_name": "HTMLModel",
            "_view_count": null,
            "_view_module": "@jupyter-widgets/controls",
            "_view_module_version": "1.5.0",
            "_view_name": "HTMLView",
            "description": "",
            "description_tooltip": null,
            "layout": "IPY_MODEL_1f70a2e4c899488b892f7454c4b0ca0a",
            "placeholder": "​",
            "style": "IPY_MODEL_5110fc32d3e742e9a836c976f276a556",
            "value": "Downloading: 100%"
          }
        },
        "0e5dca31e47c45c780e10f793cd07688": {
          "model_module": "@jupyter-widgets/controls",
          "model_name": "FloatProgressModel",
          "model_module_version": "1.5.0",
          "state": {
            "_dom_classes": [],
            "_model_module": "@jupyter-widgets/controls",
            "_model_module_version": "1.5.0",
            "_model_name": "FloatProgressModel",
            "_view_count": null,
            "_view_module": "@jupyter-widgets/controls",
            "_view_module_version": "1.5.0",
            "_view_name": "ProgressView",
            "bar_style": "success",
            "description": "",
            "description_tooltip": null,
            "layout": "IPY_MODEL_cef0b41d06cf4598b868c89137dc257e",
            "max": 1842,
            "min": 0,
            "orientation": "horizontal",
            "style": "IPY_MODEL_8dd63b4f96454d8e9181297a5ef0a00a",
            "value": 1842
          }
        },
        "7aae4571e0e74a57af2817bc74b3ee39": {
          "model_module": "@jupyter-widgets/controls",
          "model_name": "HTMLModel",
          "model_module_version": "1.5.0",
          "state": {
            "_dom_classes": [],
            "_model_module": "@jupyter-widgets/controls",
            "_model_module_version": "1.5.0",
            "_model_name": "HTMLModel",
            "_view_count": null,
            "_view_module": "@jupyter-widgets/controls",
            "_view_module_version": "1.5.0",
            "_view_name": "HTMLView",
            "description": "",
            "description_tooltip": null,
            "layout": "IPY_MODEL_206a4d2a5a6f431cad2a1b772f252d3d",
            "placeholder": "​",
            "style": "IPY_MODEL_dcc29d8ccc05440dafc1c55a433e2167",
            "value": " 1.80k/1.80k [00:00&lt;00:00, 61.6kB/s]"
          }
        },
        "57a49f729b0840baac6ca5e0bac99339": {
          "model_module": "@jupyter-widgets/base",
          "model_name": "LayoutModel",
          "model_module_version": "1.2.0",
          "state": {
            "_model_module": "@jupyter-widgets/base",
            "_model_module_version": "1.2.0",
            "_model_name": "LayoutModel",
            "_view_count": null,
            "_view_module": "@jupyter-widgets/base",
            "_view_module_version": "1.2.0",
            "_view_name": "LayoutView",
            "align_content": null,
            "align_items": null,
            "align_self": null,
            "border": null,
            "bottom": null,
            "display": null,
            "flex": null,
            "flex_flow": null,
            "grid_area": null,
            "grid_auto_columns": null,
            "grid_auto_flow": null,
            "grid_auto_rows": null,
            "grid_column": null,
            "grid_gap": null,
            "grid_row": null,
            "grid_template_areas": null,
            "grid_template_columns": null,
            "grid_template_rows": null,
            "height": null,
            "justify_content": null,
            "justify_items": null,
            "left": null,
            "margin": null,
            "max_height": null,
            "max_width": null,
            "min_height": null,
            "min_width": null,
            "object_fit": null,
            "object_position": null,
            "order": null,
            "overflow": null,
            "overflow_x": null,
            "overflow_y": null,
            "padding": null,
            "right": null,
            "top": null,
            "visibility": null,
            "width": null
          }
        },
        "1f70a2e4c899488b892f7454c4b0ca0a": {
          "model_module": "@jupyter-widgets/base",
          "model_name": "LayoutModel",
          "model_module_version": "1.2.0",
          "state": {
            "_model_module": "@jupyter-widgets/base",
            "_model_module_version": "1.2.0",
            "_model_name": "LayoutModel",
            "_view_count": null,
            "_view_module": "@jupyter-widgets/base",
            "_view_module_version": "1.2.0",
            "_view_name": "LayoutView",
            "align_content": null,
            "align_items": null,
            "align_self": null,
            "border": null,
            "bottom": null,
            "display": null,
            "flex": null,
            "flex_flow": null,
            "grid_area": null,
            "grid_auto_columns": null,
            "grid_auto_flow": null,
            "grid_auto_rows": null,
            "grid_column": null,
            "grid_gap": null,
            "grid_row": null,
            "grid_template_areas": null,
            "grid_template_columns": null,
            "grid_template_rows": null,
            "height": null,
            "justify_content": null,
            "justify_items": null,
            "left": null,
            "margin": null,
            "max_height": null,
            "max_width": null,
            "min_height": null,
            "min_width": null,
            "object_fit": null,
            "object_position": null,
            "order": null,
            "overflow": null,
            "overflow_x": null,
            "overflow_y": null,
            "padding": null,
            "right": null,
            "top": null,
            "visibility": null,
            "width": null
          }
        },
        "5110fc32d3e742e9a836c976f276a556": {
          "model_module": "@jupyter-widgets/controls",
          "model_name": "DescriptionStyleModel",
          "model_module_version": "1.5.0",
          "state": {
            "_model_module": "@jupyter-widgets/controls",
            "_model_module_version": "1.5.0",
            "_model_name": "DescriptionStyleModel",
            "_view_count": null,
            "_view_module": "@jupyter-widgets/base",
            "_view_module_version": "1.2.0",
            "_view_name": "StyleView",
            "description_width": ""
          }
        },
        "cef0b41d06cf4598b868c89137dc257e": {
          "model_module": "@jupyter-widgets/base",
          "model_name": "LayoutModel",
          "model_module_version": "1.2.0",
          "state": {
            "_model_module": "@jupyter-widgets/base",
            "_model_module_version": "1.2.0",
            "_model_name": "LayoutModel",
            "_view_count": null,
            "_view_module": "@jupyter-widgets/base",
            "_view_module_version": "1.2.0",
            "_view_name": "LayoutView",
            "align_content": null,
            "align_items": null,
            "align_self": null,
            "border": null,
            "bottom": null,
            "display": null,
            "flex": null,
            "flex_flow": null,
            "grid_area": null,
            "grid_auto_columns": null,
            "grid_auto_flow": null,
            "grid_auto_rows": null,
            "grid_column": null,
            "grid_gap": null,
            "grid_row": null,
            "grid_template_areas": null,
            "grid_template_columns": null,
            "grid_template_rows": null,
            "height": null,
            "justify_content": null,
            "justify_items": null,
            "left": null,
            "margin": null,
            "max_height": null,
            "max_width": null,
            "min_height": null,
            "min_width": null,
            "object_fit": null,
            "object_position": null,
            "order": null,
            "overflow": null,
            "overflow_x": null,
            "overflow_y": null,
            "padding": null,
            "right": null,
            "top": null,
            "visibility": null,
            "width": null
          }
        },
        "8dd63b4f96454d8e9181297a5ef0a00a": {
          "model_module": "@jupyter-widgets/controls",
          "model_name": "ProgressStyleModel",
          "model_module_version": "1.5.0",
          "state": {
            "_model_module": "@jupyter-widgets/controls",
            "_model_module_version": "1.5.0",
            "_model_name": "ProgressStyleModel",
            "_view_count": null,
            "_view_module": "@jupyter-widgets/base",
            "_view_module_version": "1.2.0",
            "_view_name": "StyleView",
            "bar_color": null,
            "description_width": ""
          }
        },
        "206a4d2a5a6f431cad2a1b772f252d3d": {
          "model_module": "@jupyter-widgets/base",
          "model_name": "LayoutModel",
          "model_module_version": "1.2.0",
          "state": {
            "_model_module": "@jupyter-widgets/base",
            "_model_module_version": "1.2.0",
            "_model_name": "LayoutModel",
            "_view_count": null,
            "_view_module": "@jupyter-widgets/base",
            "_view_module_version": "1.2.0",
            "_view_name": "LayoutView",
            "align_content": null,
            "align_items": null,
            "align_self": null,
            "border": null,
            "bottom": null,
            "display": null,
            "flex": null,
            "flex_flow": null,
            "grid_area": null,
            "grid_auto_columns": null,
            "grid_auto_flow": null,
            "grid_auto_rows": null,
            "grid_column": null,
            "grid_gap": null,
            "grid_row": null,
            "grid_template_areas": null,
            "grid_template_columns": null,
            "grid_template_rows": null,
            "height": null,
            "justify_content": null,
            "justify_items": null,
            "left": null,
            "margin": null,
            "max_height": null,
            "max_width": null,
            "min_height": null,
            "min_width": null,
            "object_fit": null,
            "object_position": null,
            "order": null,
            "overflow": null,
            "overflow_x": null,
            "overflow_y": null,
            "padding": null,
            "right": null,
            "top": null,
            "visibility": null,
            "width": null
          }
        },
        "dcc29d8ccc05440dafc1c55a433e2167": {
          "model_module": "@jupyter-widgets/controls",
          "model_name": "DescriptionStyleModel",
          "model_module_version": "1.5.0",
          "state": {
            "_model_module": "@jupyter-widgets/controls",
            "_model_module_version": "1.5.0",
            "_model_name": "DescriptionStyleModel",
            "_view_count": null,
            "_view_module": "@jupyter-widgets/base",
            "_view_module_version": "1.2.0",
            "_view_name": "StyleView",
            "description_width": ""
          }
        },
        "345be28194744d518faf56a7ac4524f1": {
          "model_module": "@jupyter-widgets/controls",
          "model_name": "HBoxModel",
          "model_module_version": "1.5.0",
          "state": {
            "_dom_classes": [],
            "_model_module": "@jupyter-widgets/controls",
            "_model_module_version": "1.5.0",
            "_model_name": "HBoxModel",
            "_view_count": null,
            "_view_module": "@jupyter-widgets/controls",
            "_view_module_version": "1.5.0",
            "_view_name": "HBoxView",
            "box_style": "",
            "children": [
              "IPY_MODEL_49d059f20d0945eaaf649a8517a99450",
              "IPY_MODEL_035507204c5d43549eb7f76aeaf658f8",
              "IPY_MODEL_3700cc361f354a7c8432b3c56e57162d"
            ],
            "layout": "IPY_MODEL_e7a87f62941d4eeda14dd8f371f4bec7"
          }
        },
        "49d059f20d0945eaaf649a8517a99450": {
          "model_module": "@jupyter-widgets/controls",
          "model_name": "HTMLModel",
          "model_module_version": "1.5.0",
          "state": {
            "_dom_classes": [],
            "_model_module": "@jupyter-widgets/controls",
            "_model_module_version": "1.5.0",
            "_model_name": "HTMLModel",
            "_view_count": null,
            "_view_module": "@jupyter-widgets/controls",
            "_view_module_version": "1.5.0",
            "_view_name": "HTMLView",
            "description": "",
            "description_tooltip": null,
            "layout": "IPY_MODEL_227cad9bd6f2489ba7d1fc6dd1207eb7",
            "placeholder": "​",
            "style": "IPY_MODEL_2b255c7a0af449c298e10ea9e50a72d5",
            "value": "Downloading: 100%"
          }
        },
        "035507204c5d43549eb7f76aeaf658f8": {
          "model_module": "@jupyter-widgets/controls",
          "model_name": "FloatProgressModel",
          "model_module_version": "1.5.0",
          "state": {
            "_dom_classes": [],
            "_model_module": "@jupyter-widgets/controls",
            "_model_module_version": "1.5.0",
            "_model_name": "FloatProgressModel",
            "_view_count": null,
            "_view_module": "@jupyter-widgets/controls",
            "_view_module_version": "1.5.0",
            "_view_name": "ProgressView",
            "bar_style": "success",
            "description": "",
            "description_tooltip": null,
            "layout": "IPY_MODEL_d501d757648242399ff5c38d7536ed60",
            "max": 380267417,
            "min": 0,
            "orientation": "horizontal",
            "style": "IPY_MODEL_4b9ebd3338654a668014913a6c366879",
            "value": 380267417
          }
        },
        "3700cc361f354a7c8432b3c56e57162d": {
          "model_module": "@jupyter-widgets/controls",
          "model_name": "HTMLModel",
          "model_module_version": "1.5.0",
          "state": {
            "_dom_classes": [],
            "_model_module": "@jupyter-widgets/controls",
            "_model_module_version": "1.5.0",
            "_model_name": "HTMLModel",
            "_view_count": null,
            "_view_module": "@jupyter-widgets/controls",
            "_view_module_version": "1.5.0",
            "_view_name": "HTMLView",
            "description": "",
            "description_tooltip": null,
            "layout": "IPY_MODEL_0d9c4baa42ca412d883ed555eb9bd6fa",
            "placeholder": "​",
            "style": "IPY_MODEL_34cef346dff44d51a263951d46d5143d",
            "value": " 363M/363M [00:06&lt;00:00, 41.2MB/s]"
          }
        },
        "e7a87f62941d4eeda14dd8f371f4bec7": {
          "model_module": "@jupyter-widgets/base",
          "model_name": "LayoutModel",
          "model_module_version": "1.2.0",
          "state": {
            "_model_module": "@jupyter-widgets/base",
            "_model_module_version": "1.2.0",
            "_model_name": "LayoutModel",
            "_view_count": null,
            "_view_module": "@jupyter-widgets/base",
            "_view_module_version": "1.2.0",
            "_view_name": "LayoutView",
            "align_content": null,
            "align_items": null,
            "align_self": null,
            "border": null,
            "bottom": null,
            "display": null,
            "flex": null,
            "flex_flow": null,
            "grid_area": null,
            "grid_auto_columns": null,
            "grid_auto_flow": null,
            "grid_auto_rows": null,
            "grid_column": null,
            "grid_gap": null,
            "grid_row": null,
            "grid_template_areas": null,
            "grid_template_columns": null,
            "grid_template_rows": null,
            "height": null,
            "justify_content": null,
            "justify_items": null,
            "left": null,
            "margin": null,
            "max_height": null,
            "max_width": null,
            "min_height": null,
            "min_width": null,
            "object_fit": null,
            "object_position": null,
            "order": null,
            "overflow": null,
            "overflow_x": null,
            "overflow_y": null,
            "padding": null,
            "right": null,
            "top": null,
            "visibility": null,
            "width": null
          }
        },
        "227cad9bd6f2489ba7d1fc6dd1207eb7": {
          "model_module": "@jupyter-widgets/base",
          "model_name": "LayoutModel",
          "model_module_version": "1.2.0",
          "state": {
            "_model_module": "@jupyter-widgets/base",
            "_model_module_version": "1.2.0",
            "_model_name": "LayoutModel",
            "_view_count": null,
            "_view_module": "@jupyter-widgets/base",
            "_view_module_version": "1.2.0",
            "_view_name": "LayoutView",
            "align_content": null,
            "align_items": null,
            "align_self": null,
            "border": null,
            "bottom": null,
            "display": null,
            "flex": null,
            "flex_flow": null,
            "grid_area": null,
            "grid_auto_columns": null,
            "grid_auto_flow": null,
            "grid_auto_rows": null,
            "grid_column": null,
            "grid_gap": null,
            "grid_row": null,
            "grid_template_areas": null,
            "grid_template_columns": null,
            "grid_template_rows": null,
            "height": null,
            "justify_content": null,
            "justify_items": null,
            "left": null,
            "margin": null,
            "max_height": null,
            "max_width": null,
            "min_height": null,
            "min_width": null,
            "object_fit": null,
            "object_position": null,
            "order": null,
            "overflow": null,
            "overflow_x": null,
            "overflow_y": null,
            "padding": null,
            "right": null,
            "top": null,
            "visibility": null,
            "width": null
          }
        },
        "2b255c7a0af449c298e10ea9e50a72d5": {
          "model_module": "@jupyter-widgets/controls",
          "model_name": "DescriptionStyleModel",
          "model_module_version": "1.5.0",
          "state": {
            "_model_module": "@jupyter-widgets/controls",
            "_model_module_version": "1.5.0",
            "_model_name": "DescriptionStyleModel",
            "_view_count": null,
            "_view_module": "@jupyter-widgets/base",
            "_view_module_version": "1.2.0",
            "_view_name": "StyleView",
            "description_width": ""
          }
        },
        "d501d757648242399ff5c38d7536ed60": {
          "model_module": "@jupyter-widgets/base",
          "model_name": "LayoutModel",
          "model_module_version": "1.2.0",
          "state": {
            "_model_module": "@jupyter-widgets/base",
            "_model_module_version": "1.2.0",
            "_model_name": "LayoutModel",
            "_view_count": null,
            "_view_module": "@jupyter-widgets/base",
            "_view_module_version": "1.2.0",
            "_view_name": "LayoutView",
            "align_content": null,
            "align_items": null,
            "align_self": null,
            "border": null,
            "bottom": null,
            "display": null,
            "flex": null,
            "flex_flow": null,
            "grid_area": null,
            "grid_auto_columns": null,
            "grid_auto_flow": null,
            "grid_auto_rows": null,
            "grid_column": null,
            "grid_gap": null,
            "grid_row": null,
            "grid_template_areas": null,
            "grid_template_columns": null,
            "grid_template_rows": null,
            "height": null,
            "justify_content": null,
            "justify_items": null,
            "left": null,
            "margin": null,
            "max_height": null,
            "max_width": null,
            "min_height": null,
            "min_width": null,
            "object_fit": null,
            "object_position": null,
            "order": null,
            "overflow": null,
            "overflow_x": null,
            "overflow_y": null,
            "padding": null,
            "right": null,
            "top": null,
            "visibility": null,
            "width": null
          }
        },
        "4b9ebd3338654a668014913a6c366879": {
          "model_module": "@jupyter-widgets/controls",
          "model_name": "ProgressStyleModel",
          "model_module_version": "1.5.0",
          "state": {
            "_model_module": "@jupyter-widgets/controls",
            "_model_module_version": "1.5.0",
            "_model_name": "ProgressStyleModel",
            "_view_count": null,
            "_view_module": "@jupyter-widgets/base",
            "_view_module_version": "1.2.0",
            "_view_name": "StyleView",
            "bar_color": null,
            "description_width": ""
          }
        },
        "0d9c4baa42ca412d883ed555eb9bd6fa": {
          "model_module": "@jupyter-widgets/base",
          "model_name": "LayoutModel",
          "model_module_version": "1.2.0",
          "state": {
            "_model_module": "@jupyter-widgets/base",
            "_model_module_version": "1.2.0",
            "_model_name": "LayoutModel",
            "_view_count": null,
            "_view_module": "@jupyter-widgets/base",
            "_view_module_version": "1.2.0",
            "_view_name": "LayoutView",
            "align_content": null,
            "align_items": null,
            "align_self": null,
            "border": null,
            "bottom": null,
            "display": null,
            "flex": null,
            "flex_flow": null,
            "grid_area": null,
            "grid_auto_columns": null,
            "grid_auto_flow": null,
            "grid_auto_rows": null,
            "grid_column": null,
            "grid_gap": null,
            "grid_row": null,
            "grid_template_areas": null,
            "grid_template_columns": null,
            "grid_template_rows": null,
            "height": null,
            "justify_content": null,
            "justify_items": null,
            "left": null,
            "margin": null,
            "max_height": null,
            "max_width": null,
            "min_height": null,
            "min_width": null,
            "object_fit": null,
            "object_position": null,
            "order": null,
            "overflow": null,
            "overflow_x": null,
            "overflow_y": null,
            "padding": null,
            "right": null,
            "top": null,
            "visibility": null,
            "width": null
          }
        },
        "34cef346dff44d51a263951d46d5143d": {
          "model_module": "@jupyter-widgets/controls",
          "model_name": "DescriptionStyleModel",
          "model_module_version": "1.5.0",
          "state": {
            "_model_module": "@jupyter-widgets/controls",
            "_model_module_version": "1.5.0",
            "_model_name": "DescriptionStyleModel",
            "_view_count": null,
            "_view_module": "@jupyter-widgets/base",
            "_view_module_version": "1.2.0",
            "_view_name": "StyleView",
            "description_width": ""
          }
        },
        "5e0bb0d50bcf41309ef3e7b64ac5018b": {
          "model_module": "@jupyter-widgets/controls",
          "model_name": "HBoxModel",
          "model_module_version": "1.5.0",
          "state": {
            "_dom_classes": [],
            "_model_module": "@jupyter-widgets/controls",
            "_model_module_version": "1.5.0",
            "_model_name": "HBoxModel",
            "_view_count": null,
            "_view_module": "@jupyter-widgets/controls",
            "_view_module_version": "1.5.0",
            "_view_name": "HBoxView",
            "box_style": "",
            "children": [
              "IPY_MODEL_625a526b5d854948beecdf6ee09b75dd",
              "IPY_MODEL_b95d3c7dfde0443e8f263b66983c0bf8",
              "IPY_MODEL_4ec957170d394d73b2c6fde4a3c4b295"
            ],
            "layout": "IPY_MODEL_39958dae84ac4d38b9a32e350c87031d"
          }
        },
        "625a526b5d854948beecdf6ee09b75dd": {
          "model_module": "@jupyter-widgets/controls",
          "model_name": "HTMLModel",
          "model_module_version": "1.5.0",
          "state": {
            "_dom_classes": [],
            "_model_module": "@jupyter-widgets/controls",
            "_model_module_version": "1.5.0",
            "_model_name": "HTMLModel",
            "_view_count": null,
            "_view_module": "@jupyter-widgets/controls",
            "_view_module_version": "1.5.0",
            "_view_name": "HTMLView",
            "description": "",
            "description_tooltip": null,
            "layout": "IPY_MODEL_dae9f1d682964307bb944dc21f59fae9",
            "placeholder": "​",
            "style": "IPY_MODEL_7254545b9dbe4cb187102fbd693d696c",
            "value": ""
          }
        },
        "b95d3c7dfde0443e8f263b66983c0bf8": {
          "model_module": "@jupyter-widgets/controls",
          "model_name": "FloatProgressModel",
          "model_module_version": "1.5.0",
          "state": {
            "_dom_classes": [],
            "_model_module": "@jupyter-widgets/controls",
            "_model_module_version": "1.5.0",
            "_model_name": "FloatProgressModel",
            "_view_count": null,
            "_view_module": "@jupyter-widgets/controls",
            "_view_module_version": "1.5.0",
            "_view_name": "ProgressView",
            "bar_style": "success",
            "description": "",
            "description_tooltip": null,
            "layout": "IPY_MODEL_eaedb4d51ce74d13b1205d0df1afb68b",
            "max": 1,
            "min": 0,
            "orientation": "horizontal",
            "style": "IPY_MODEL_4435637419c14664a218727a0f9bbe7d",
            "value": 1
          }
        },
        "4ec957170d394d73b2c6fde4a3c4b295": {
          "model_module": "@jupyter-widgets/controls",
          "model_name": "HTMLModel",
          "model_module_version": "1.5.0",
          "state": {
            "_dom_classes": [],
            "_model_module": "@jupyter-widgets/controls",
            "_model_module_version": "1.5.0",
            "_model_name": "HTMLModel",
            "_view_count": null,
            "_view_module": "@jupyter-widgets/controls",
            "_view_module_version": "1.5.0",
            "_view_name": "HTMLView",
            "description": "",
            "description_tooltip": null,
            "layout": "IPY_MODEL_b2080311a63345e3b7032a6502c2f129",
            "placeholder": "​",
            "style": "IPY_MODEL_9ad2ed2956974432b3d292f5fa84ed4b",
            "value": " 1680/? [01:30&lt;00:00, 22.53ex/s]"
          }
        },
        "39958dae84ac4d38b9a32e350c87031d": {
          "model_module": "@jupyter-widgets/base",
          "model_name": "LayoutModel",
          "model_module_version": "1.2.0",
          "state": {
            "_model_module": "@jupyter-widgets/base",
            "_model_module_version": "1.2.0",
            "_model_name": "LayoutModel",
            "_view_count": null,
            "_view_module": "@jupyter-widgets/base",
            "_view_module_version": "1.2.0",
            "_view_name": "LayoutView",
            "align_content": null,
            "align_items": null,
            "align_self": null,
            "border": null,
            "bottom": null,
            "display": null,
            "flex": null,
            "flex_flow": null,
            "grid_area": null,
            "grid_auto_columns": null,
            "grid_auto_flow": null,
            "grid_auto_rows": null,
            "grid_column": null,
            "grid_gap": null,
            "grid_row": null,
            "grid_template_areas": null,
            "grid_template_columns": null,
            "grid_template_rows": null,
            "height": null,
            "justify_content": null,
            "justify_items": null,
            "left": null,
            "margin": null,
            "max_height": null,
            "max_width": null,
            "min_height": null,
            "min_width": null,
            "object_fit": null,
            "object_position": null,
            "order": null,
            "overflow": null,
            "overflow_x": null,
            "overflow_y": null,
            "padding": null,
            "right": null,
            "top": null,
            "visibility": null,
            "width": null
          }
        },
        "dae9f1d682964307bb944dc21f59fae9": {
          "model_module": "@jupyter-widgets/base",
          "model_name": "LayoutModel",
          "model_module_version": "1.2.0",
          "state": {
            "_model_module": "@jupyter-widgets/base",
            "_model_module_version": "1.2.0",
            "_model_name": "LayoutModel",
            "_view_count": null,
            "_view_module": "@jupyter-widgets/base",
            "_view_module_version": "1.2.0",
            "_view_name": "LayoutView",
            "align_content": null,
            "align_items": null,
            "align_self": null,
            "border": null,
            "bottom": null,
            "display": null,
            "flex": null,
            "flex_flow": null,
            "grid_area": null,
            "grid_auto_columns": null,
            "grid_auto_flow": null,
            "grid_auto_rows": null,
            "grid_column": null,
            "grid_gap": null,
            "grid_row": null,
            "grid_template_areas": null,
            "grid_template_columns": null,
            "grid_template_rows": null,
            "height": null,
            "justify_content": null,
            "justify_items": null,
            "left": null,
            "margin": null,
            "max_height": null,
            "max_width": null,
            "min_height": null,
            "min_width": null,
            "object_fit": null,
            "object_position": null,
            "order": null,
            "overflow": null,
            "overflow_x": null,
            "overflow_y": null,
            "padding": null,
            "right": null,
            "top": null,
            "visibility": null,
            "width": null
          }
        },
        "7254545b9dbe4cb187102fbd693d696c": {
          "model_module": "@jupyter-widgets/controls",
          "model_name": "DescriptionStyleModel",
          "model_module_version": "1.5.0",
          "state": {
            "_model_module": "@jupyter-widgets/controls",
            "_model_module_version": "1.5.0",
            "_model_name": "DescriptionStyleModel",
            "_view_count": null,
            "_view_module": "@jupyter-widgets/base",
            "_view_module_version": "1.2.0",
            "_view_name": "StyleView",
            "description_width": ""
          }
        },
        "eaedb4d51ce74d13b1205d0df1afb68b": {
          "model_module": "@jupyter-widgets/base",
          "model_name": "LayoutModel",
          "model_module_version": "1.2.0",
          "state": {
            "_model_module": "@jupyter-widgets/base",
            "_model_module_version": "1.2.0",
            "_model_name": "LayoutModel",
            "_view_count": null,
            "_view_module": "@jupyter-widgets/base",
            "_view_module_version": "1.2.0",
            "_view_name": "LayoutView",
            "align_content": null,
            "align_items": null,
            "align_self": null,
            "border": null,
            "bottom": null,
            "display": null,
            "flex": null,
            "flex_flow": null,
            "grid_area": null,
            "grid_auto_columns": null,
            "grid_auto_flow": null,
            "grid_auto_rows": null,
            "grid_column": null,
            "grid_gap": null,
            "grid_row": null,
            "grid_template_areas": null,
            "grid_template_columns": null,
            "grid_template_rows": null,
            "height": null,
            "justify_content": null,
            "justify_items": null,
            "left": null,
            "margin": null,
            "max_height": null,
            "max_width": null,
            "min_height": null,
            "min_width": null,
            "object_fit": null,
            "object_position": null,
            "order": null,
            "overflow": null,
            "overflow_x": null,
            "overflow_y": null,
            "padding": null,
            "right": null,
            "top": null,
            "visibility": null,
            "width": "20px"
          }
        },
        "4435637419c14664a218727a0f9bbe7d": {
          "model_module": "@jupyter-widgets/controls",
          "model_name": "ProgressStyleModel",
          "model_module_version": "1.5.0",
          "state": {
            "_model_module": "@jupyter-widgets/controls",
            "_model_module_version": "1.5.0",
            "_model_name": "ProgressStyleModel",
            "_view_count": null,
            "_view_module": "@jupyter-widgets/base",
            "_view_module_version": "1.2.0",
            "_view_name": "StyleView",
            "bar_color": null,
            "description_width": ""
          }
        },
        "b2080311a63345e3b7032a6502c2f129": {
          "model_module": "@jupyter-widgets/base",
          "model_name": "LayoutModel",
          "model_module_version": "1.2.0",
          "state": {
            "_model_module": "@jupyter-widgets/base",
            "_model_module_version": "1.2.0",
            "_model_name": "LayoutModel",
            "_view_count": null,
            "_view_module": "@jupyter-widgets/base",
            "_view_module_version": "1.2.0",
            "_view_name": "LayoutView",
            "align_content": null,
            "align_items": null,
            "align_self": null,
            "border": null,
            "bottom": null,
            "display": null,
            "flex": null,
            "flex_flow": null,
            "grid_area": null,
            "grid_auto_columns": null,
            "grid_auto_flow": null,
            "grid_auto_rows": null,
            "grid_column": null,
            "grid_gap": null,
            "grid_row": null,
            "grid_template_areas": null,
            "grid_template_columns": null,
            "grid_template_rows": null,
            "height": null,
            "justify_content": null,
            "justify_items": null,
            "left": null,
            "margin": null,
            "max_height": null,
            "max_width": null,
            "min_height": null,
            "min_width": null,
            "object_fit": null,
            "object_position": null,
            "order": null,
            "overflow": null,
            "overflow_x": null,
            "overflow_y": null,
            "padding": null,
            "right": null,
            "top": null,
            "visibility": null,
            "width": null
          }
        },
        "9ad2ed2956974432b3d292f5fa84ed4b": {
          "model_module": "@jupyter-widgets/controls",
          "model_name": "DescriptionStyleModel",
          "model_module_version": "1.5.0",
          "state": {
            "_model_module": "@jupyter-widgets/controls",
            "_model_module_version": "1.5.0",
            "_model_name": "DescriptionStyleModel",
            "_view_count": null,
            "_view_module": "@jupyter-widgets/base",
            "_view_module_version": "1.2.0",
            "_view_name": "StyleView",
            "description_width": ""
          }
        }
      }
    }
  },
  "cells": [
    {
      "cell_type": "markdown",
      "source": [
        "\n",
        "# **Part A – Application area review**\n",
        "\n",
        "## **A. Literature Review: Application of AI in Speech-to-Text (STT) Conversion**\n",
        "\n",
        "## **A.1 Introduction**\n",
        "\n",
        "Speech-to-Text (STT) conversion, also known as Automatic Speech Recognition\n",
        "(ASR), has been significantly improved with the development of AI, especially\n",
        "\n",
        "\n",
        "using deep learning techniques. This section discusses the present status of AI applications in STT, their methodologies, challenges, and future directions (Reddy, Vaishnavi and Kumar, 2023; Journal, 2024).\n",
        "\n",
        "# **A.2 AI Techniques in Speech-to-Text Conversion**\n",
        "\n",
        "## **A.2.1. Deep Learning Models**\n",
        "\n",
        "Most state-of-the-art ASR systems are based on deep learning architectures, in particular, Convolutional Neural Networks (CNNs), Recurrent Neural Networks (RNNs), Long Short-Term Memory (LSTM) networks, and more recently, models based on the Transformer framework. Such architectures are trained with large datasets to improve accuracy in the recognition of different accents, speaking tempos, and background noises (Reddy, Vaishnavi and Kumar, 2023; Journal,2024).\n",
        "\n",
        "## **A.2.2. Acoustic Modelling**\n",
        "\n",
        "This component involves capturing the acoustic properties of speech signals and mapping them to phonetic units. Traditional systems used Hidden Markov Models, while current advancements rely heavily on deep learning models, which give better performance across different acoustic conditions (Reddy, Vaishnavi and Kumar, 2023; Journal, 2024; Trivedi et al., 2018).\n",
        "\n",
        "## **A.2.3. Language Modelling**\n",
        "\n",
        "This component involves capturing the acoustic properties of speech signals and mapping them to phonetic units. Traditional systems used Hidden Markov Models, while current advancements rely heavily on deep learning models, which give better performance across different acoustic conditions (Reddy, Vaishnavi and Kumar, 2023; Journal, 2024; Trivedi et al., 2018).\n",
        "\n",
        "## **A.2.4. End-to-End ASR Systems**\n",
        "\n",
        "End-to-End ASR Systems: Such systems do not need separate acoustic and language models and map speech inputs to text outputs directly. This approach has simplified the pipeline and improved the overall efficiency of the system  (Reddy, Vaishnavi and Kumar, 2023).\n",
        "\n",
        "## **A.3 Applications of Speech-to-Text Conversion**\n",
        "\n",
        "According to (Reddy, Vaishnavi and Kumar, 2023), Speech-to-Text technology has been widely adopted in many different industries because of its effectiveness in converting spoken language into written text. In the health care sector, STT is mainly applied to medical transcription, enabling health professionals to document patient records more efficiently and control devices by voice commands in order to improve clinical workflows. Similarly, in the legal and media sectors, STT helps in automatic transcription services, greatly reducing the effort of manual labor and therefore making information access easier. Virtual assistants in smart speakers like Amazon's Alexa, Apple's Siri, and Google Assistant use STT to process spoken commands, engaging users with enhanced interaction through natural language processing. In customer service, STT allows automated systems to respond to customer queries via voice-based interfaces, thereby facilitating a more personalized and effective service experience for customers. These applications show the versatility and impact of STT technology on productivity and accessibility in different domains noises (Reddy, Vaishnavi and Kumar, 2023; Journal, 2024).\n",
        "\n",
        "## **A.4 Challenges in Speech-to-Text Conversion**\n",
        "\n",
        "Although much progress has been made, Speech-to-Text (STT) systems still face several challenges. Among them, the robustness of STT systems in noisy environments is of significant concern, wherein ambient noise or disturbances may cause high error rates, especially for the transcription of non-native speakers. In addition, STT systems often struggle with a variety of accents and dialects, as differences in speech patterns may affect the ability of the system to transcribe spoken words accurately. Another critical challenge is that of context awareness; the current models often fail to catch the contextual nuances, which may lead to misinterpretation of the spoken content. These limitations expose areas where further research and development are needed to make the STT systems more robust and reliable for real-world applications noises (Reddy, Vaishnavi and Kumar, 2023; Journal, 2024).\n",
        "\n",
        "## **A.5 Future Directions**\n",
        "\n",
        "According to (Journal, 2024), Future research in speech-to-text technology will head towards a couple of important areas in order to improve its effectiveness and usability: developing high-precision models with reduced sensitivity towards noise and speaker variability will guarantee consistent performances in different environments, while the integration of audio information with visual input, such as lip movement, is another highly relevant area of research for increasing the accuracy of recognition in adverse or noisy environments. Furthermore, personal speech models are being researched in order to cater systems to each individual user so that accuracy could be improved and user experience could be seamless. These new developments make STT systems more robust, adaptive, and user-friendly for a large number of applications (Reddy, Vaishnavi and Kumar, 2023).\n",
        "\n",
        "## **A.6 Conclusion**\n",
        "\n",
        "AI has played a very important role in advancing Speech-to-Text conversion, especially with deep learning techniques that have been pushing the state-of-the-art boundaries of accuracy and application scope. With their continued development, more sophisticated models and multi-modality will give STT more capabilities.\n",
        "\n",
        "## **A.7 References**\n",
        "\n",
        "Journal, I. (2024). A Review on Speech-to-Text. INTERANTIONAL JOURNAL OF SCIENTIFIC RESEARCH IN ENGINEERING AND MANAGEMENT, 08 (03), 1–13. Available from https://doi.org/10.55041/IJSREM29004 [Accessed 7 January 2025].\n",
        "Reddy, V.M., Vaishnavi, T. and Kumar, K.P. (2023). Speech-to-Text and Text-to-Speech Recognition Using Deep Learning. 2023 2nd International Conference on Edge Computing and Applications (ICECAA). 19 July 2023. Namakkal, India: IEEE, 657–666. Available from https://doi.org/10.1109/ICECAA58104.2023.10212222 [Accessed 7 January 2025].\n",
        "\n",
        "Trivedi, A. et al. (2018). Speech to text and text to speech recognition systems-Areview.\n",
        "Note: ChatGPT was utilized for the initial organization of the structure.\n",
        "\n",
        "\n",
        "Note: ChatGPT was utilized for the initial organization of the structure.\n",
        "\n",
        "\n",
        "\n",
        "# **Part B – Compare and evaluate AI techniques.**\n",
        "\n",
        "# **B.\tStrengths and Weaknesses of AI Techniques for Speech-to-Text Conversion**\n",
        "\n",
        "In tackling the issues in Speech-to-Text conversion, three significant AI techniques have been chosen: Recurrent Neural Networks (RNNs) and Long Short-Term Memory (LSTM) Networks, Convolutional Neural Networks (CNNs), and Transformers, all having different strong points in the processing and cognition of speech information.\n",
        "\n",
        "# **B.1  Recurrent Neural Networks (RNNs) and Long Short-Term Memory (LSTM) Networks**\n",
        "\n",
        "### **B.1.1 Strengths:**\n",
        "\n",
        "• Sequential Data Handling: RNNs, especially LSTMs, are tailored for sequential data and, therefore, can be applied to speech recognition tasks in which context and order matter.\n",
        "• Context Preservation: LSTMs are capable of preserving long-term dependencies, which is very important in understanding context over long speech segments.\n",
        "• Flexibility: They can handle different lengths of input, accommodating different speech durations without being fixed to a specific size of input.\n",
        "\n",
        "# **B.1.2 Weaknesses:**\n",
        "\n",
        "• Computational Intensity: Because of their recurrent nature, RNNs and LSTMs are computationally expensive to train, especially for long sequences.\n",
        "• Vanishing Gradient Problem: Even though LSTMs mitigate the problem more than traditional RNNs, they are not immune to it, and this may hurt learning.\n",
        "• Slower Inference: The sequential nature of RNNs and LSTMs can lead to slower inference times compared with more parallelizable architectures like CNNs.\n",
        "\n",
        "## **B.1.3 Advantages:**\n",
        "\n",
        "• Sequence Data: RNNs and LSTMs do well on tasks that require temporal dependencies modeling.\n",
        "• Versatile Applications: The networks are also versatile, so they may be easily applied to other sequence-based tasks rather than speech recognition.\n",
        "\n",
        "## **B.1.4 Disadvantages:**\n",
        "\n",
        "• Resource Intensive: They demand huge computational resources and training time, which could turn out to be a disadvantage in real-time applications.\n",
        "• Difficult to Train: Proper training of RNNs and LSTMs is achieved only with careful tuning and large data.\n",
        "B.1.5  Application Example:\n",
        "In Speech-to-Text systems, LSTMs could be used to model temporal dependencies in speech to capture the sequential nature of phonemes, which results in more accurate transcriptions.\n",
        "\n",
        "\n",
        "## **B.2  Convolutional Neural Networks (CNNs)**\n",
        "\n",
        "## **B.2.1 Strengths:**\n",
        "\n",
        "• Local Feature Extraction: CNNs are good at extracting local patterns, useful in the analysis of spectrograms of speech signals.\n",
        "• Efficient Training: They can be trained much more efficiently than RNNs because they possess a parallelizable architecture.\n",
        "• Robust to Variability: Since CNNs are focused on local spectral features, they can handle variations in the speech data with differences in the style of speaking and accents.\n",
        "\n",
        "## **B.2.2  Weaknesses:**\n",
        "\n",
        "• Limited Context Awareness: Unlike RNNs, CNNs lose the notion of context over long sequences because they are inherently designed for spatial hierarchies.\n",
        "• Spectrogram Dependency: In general, CNNs require that raw audio signals be converted to spectrograms, therefore introducing an additional preprocessing step.\n",
        "\n",
        "## **B.2.3  Advantages**\n",
        "\n",
        "• Efficiency: CNNs are computationally efficient and can easily be accelerated by hardware.\n",
        "• Robust to Variability: They can allow variations in the input data, like different accents or noise levels, through robust feature extraction.\n",
        "\n",
        "## **B.2.4  Disadvantages**\n",
        "\n",
        "• Contextual Limitations: Without additional mechanisms, CNNs are not as effective in modeling long-range dependencies compared to RNNs or Transformers.\n",
        "• Preprocessing Requirement: The necessity for conversion to spectrograms increases the complexity of the processing pipeline.\n",
        "\n",
        "## **B.2.5  Application Example:**\n",
        "\n",
        "It is possible to apply CNNs to STT by first converting the audio signals into spectrograms and then using the network to extract relevant features for phoneme or word recognition.\n",
        "\n",
        "\n",
        "# **B.3 Transformers**\n",
        "\n",
        "## **B.3.1 Strengths:**\n",
        "\n",
        "• Pretraining and Fine-Tuning: Transformers use unsupervised pretraining on vast unlabelled datasets, which enables them to require a remarkably small amount of labeled data for fine-tuning and yet still perform competitively.\n",
        "• Parallel Processing: They process entire sequences in one go, which allows for much faster training and inference compared to sequential models like RNNs.\n",
        "• Contextual Understanding: Transformers are good at modeling long-range dependencies; hence, they are able to capture context across long sequences.\n",
        "\n",
        "## **B.3.2 Weaknesses:**\n",
        "\n",
        "• Data and Resource Intensive: Training transformers, especially from scratch, requires a lot of computational resources and large datasets.\n",
        "• Complex: They have complex architecture and hyperparameters that require fine-tuning and are tricky to optimize.\n",
        "\n",
        "## **B.3.3 Advantages:**\n",
        "\n",
        "• State-of-the-art performance: The Transformer often achieves state-of-the-art performance on a wide range of NLP and speech tasks.\n",
        "• Flexibility in modeling: With appropriate pretraining, it can adapt to a large variety of tasks by fine-tuning.\n",
        "\n",
        "## **B.3.4 Disadvantages:**\n",
        "\n",
        "• High Resource Requirements: Especially in the case of smaller organizations or individual developers, high resource requirements may become a barrier.\n",
        "• Training Complexity: The complex architecture can make training and tuning challenging.\n",
        "\n",
        "## **B.3.5 Application Example:**\n",
        "\n",
        "Transformers can be applied in STT by fine-tuning the models pretrained on large datasets to get low word error rates even for small labeled data.\n",
        "\n",
        "B.4 Comparison and Evaluation\n",
        "\n",
        "## **B.4.1 Input Data:**\n",
        "\n",
        "RNNs and LSTMs can directly take raw audio features as input, whereas CNNs need spectrograms. Transformers can also use raw audio data but usually require extensive pretraining on large datasets to perform optimally.\n",
        "\n",
        "## **B.4.2 Output Data:**\n",
        "\n",
        "All three techniques attempt to create textual representations of spoken language. RNNs and LSTMs generate output sequentially, while CNNs and Transformers can produce sequences after having processed the complete input.\n",
        "\n",
        "## **B.5 Technique Chosen for Prototype Implementation**\n",
        "\n",
        "For the prototype implementation, a pre-trained Transformer-like Wav2Vec2 is explored in-depth for superior performance of this family of architectures in ASR with minimal labeled data and ability in capturing long-range dependencies effectively. This work is motivated by the competitive results obtained using Wav2Vec2 in various benchmarks in speech recognition and the capacity of this type of model to serve as an end-to-end ASR system without requiring a detached language model.\n",
        "\n",
        "\n",
        "\n",
        "\n",
        "\n",
        "\n",
        "\n",
        "\n",
        "\n",
        "\n",
        "\n",
        "\n",
        "\n",
        "\n",
        "\n",
        "\n",
        "\n",
        "\n",
        "\n",
        "\n"
      ],
      "metadata": {
        "id": "f5v_OAVHJBTm"
      }
    },
    {
      "cell_type": "markdown",
      "source": [
        "# **Part C – Implementation.**\n",
        "## **A.\t High-level Diagram**\n",
        "\n",
        "![image.png](data:image/png;base64,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)\n",
        "\n",
        "\n",
        "\n",
        "\n",
        "\n",
        "\n",
        "\n",
        "\n",
        "\n",
        "\n",
        "\n",
        "\n",
        "\n",
        "\n",
        "\n",
        "\n",
        "\n"
      ],
      "metadata": {
        "id": "cYQIjhLnPe3n"
      }
    },
    {
      "cell_type": "markdown",
      "source": [
        "# **B Input Description for the Implementation**\n",
        "## **B.1 Input Required:**\n",
        "Type: It takes speech audio files—usually time series data representing the audio signal—with their corresponding transcribed text labels as input.\n",
        "Data Source: The dataset to be used for this implementation is very informative, including transcriptions and phonetic details of each audio file from datasets like the Timit dataset. However, this implementation will consider only the transcribed text for fine-tuning.\n",
        "\n",
        "## **B.2 Data Preparation:**\n",
        "## **B.2.2 Text Normalization:**\n",
        " The transcriptions are normalized to contain only lowercase letters and to exclude special characters, such as punctuation marks (,.?!;:). This is because the special characters do not correspond to characteristic sound units and are thus harder to classify in the absence of a language model.\n",
        "Character Set Extraction: The transcriptions of the training and test datasets are concatenated into a single string. This string is then passed through the mapping function to get a set of unique characters which form the vocabulary.\n",
        "## **B.2.3 Vocabulary Construction:**\n",
        "All letters of the alphabet, a space character represented by \"|\", and the apostrophe \"'\" are included in the vocabulary. The space character is essential for word separation, and the apostrophe helps differentiate words like \"it's\" and \"its.\"\n",
        "An \"unknown\" token is added to handle characters not found in the training set, and a padding token is included for the Connectionist Temporal Classification (CTC) algorithm's \"blank token\".\n",
        "## **B.2.4 Final Vocabulary:**\n",
        "The vocabulary is 30 tokens, which are to be used as the output dimension of the linear layer added on top of the pre-trained Wav2Vec2 checkpoint.\n",
        "Such structured data preparation guarantees that the input has to be in an appropriate format to fine-tune a Wav2Vec2 model classifying speech to letters as needed for CTC-based training.\n",
        "\n",
        "\n",
        "\n",
        "\n",
        "\n",
        "\n",
        "\n"
      ],
      "metadata": {
        "id": "D5LLxIm2QUXE"
      }
    },
    {
      "cell_type": "markdown",
      "source": [
        "\n",
        "# **C.\tImplementation of the problem.**\n",
        "\n",
        "the notebook includes the input data and preprocessing, the implementation of the technique, and the output and visualization of the results.\n",
        "\n",
        "## **Part D – Software Testing**\n",
        "To check the correctness of the Wav2Vec2-based Automatic Speech Recognition (ASR) implementation, thorough testing was performed with the test set from the dataset. The steps that were undertaken to ensure that the results produced by the model are in tandem with expected outcomes are as follows:\n",
        "## **D.1 Testing Methods**\n",
        "**1. Transcription Prediction:**\n",
        "\n",
        "Each sample from the test dataset was passed through the fine-tuned Wav2Vec2 model.\n",
        "The map() function was applied to get predictions, which helped to create transcriptions for each test sample. The transcriptions were then stored in the dataset with a new key named \"results.\"\n",
        "\n",
        "**2. Batch Size Setting:**\n",
        "\n",
        "The model was tested using a batch_size of 1. This was done to avoid issues with padded inputs. Padded inputs can result in slightly different outputs than non-padded inputs. By passing the samples one at a time, a more accurate WER was sought.\n",
        "\n",
        "**3.WER Calculation:**\n",
        "\n",
        "The WER for the model was computed. This measure was selected because it nicely characterizes the differences between predicted transcriptions and the ground truth, with regards to insertions, deletions, and substitutions.\n",
        "\n",
        "**4. Error Analysis:**\n",
        "\n",
        "When the predicted transcriptions were inspected (as shown in the image below), it was found that the outputs were phonetically similar to the target transcriptions. Nevertheless, there were spelling and grammatical mistakes.\n"
      ],
      "metadata": {
        "id": "Sr69cM9gQ_tb"
      }
    },
    {
      "cell_type": "markdown",
      "source": [
        "![image.png](data:image/png;base64,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)"
      ],
      "metadata": {
        "id": "MRIx_zy4RYzH"
      }
    },
    {
      "cell_type": "markdown",
      "source": [
        "As expected, this output was because the model relied solely on Wav2Vec2 without an added language model that typically fine tunes the grammatical structure and spelling in ASR outputs.\n",
        "\n",
        "## **5.CTC Output Analysis :**\n",
        "The CTC layer output was further analyzed to better understand the model's behavior. The token sequences produced by the model were analyzed, focusing on how the model dealt with variations in speech rate and how it managed to keep the transcription constant across different lengths of speech input.\n",
        "\n",
        "## **D.2 Comparison of Results**\n",
        "### **• Expected Results:**\n",
        "The expected results were accurate transcriptions with a close approximation to the ground truth text from the test dataset. Minor errors were expected, mainly in spelling and grammar, as no language model was used.\n",
        "\n",
        "### **• Produced Results:**\n",
        "The produced results although phonetically largely correct contained spelling errors as well as grammatical mistakes this points to the difference made by the exclusion of a language model from the post-processing the ASR output.\n",
        "Testing has shown the Wav2Vec2 implementation to be strong with respect to phonetic accuracy but leaves room for improvement in linguistic accuracy. This insight simply gives way to the next section, which will evaluate the model's effectiveness and performance with formal metrics.\n"
      ],
      "metadata": {
        "id": "uD8_egbsR3v_"
      }
    },
    {
      "cell_type": "markdown",
      "source": [
        "# **Part E – Evaluate Results**\n",
        "This section is the evaluation of the performance and effectiveness of the Wav2Vec2-based Automatic Speech Recognition (ASR) model in solving the problem of spoken language-to-text conversion. The evaluation will be based on the accuracy of the results obtained and interprets them within the context of the chosen domain, highlighting the strengths and limitations of the implementation.\n",
        "\n",
        "## **E.1 Performance Metrics**\n",
        "The model performance is mainly measured using the primary metric of evaluation known as Word Error Rate, WER. WER is the common measure for the task of speech recognition and defined as the number of substitution, deletion, and insertion operations to change the predicted transcription into the reference transcription.\n",
        "\n",
        "## **E.2 Word Error Rate (WER):**\n",
        "# WER=S+D+I/N\n",
        "\n",
        "**Where:**\n",
        "\n",
        "*•\tSSS is the number of substitutions,*\n",
        "\n",
        "*•\tDDD is the number of deletions,*\n",
        "\n",
        "*•\tIII is the number of insertions,*\n",
        "\n",
        "*•\tNNN is the total number of words in the reference transcription.*\n",
        "\n",
        "*The WER for the fine-tuned Wav2Vec2 model on the test dataset is 36%.*\n",
        "\n",
        "## **E.3 Discussion of Results**\n",
        "\n",
        "The WER of 36% indicates that the model produces transcriptions with moderate accuracy. Where the phonetic content of the speech is concerned, the model gets it right, but the types of errors, especially in spelling and grammar, indicate that it still has areas where improvement can be made. This is expected, as the model does not include a language model component, usually present in ASR systems to polish the linguistic accuracy.\n",
        "\n",
        "## **E.4 Training and Validation Performance**\n",
        "\n",
        "During training, the model shows vast improvement over the epochs. First, with a training loss of 3.258800 and validation loss of 0.837461 at WER 65.45%, the model reaches a training loss of 0.518500 and a validation loss of 0.480802 with a corresponding WER of 49.94% as training continues. The trend can thus be observed from how the model learns to generalize with additional training.\n",
        "\n",
        "\n",
        "\n"
      ],
      "metadata": {
        "id": "T0vyJjdYSbmQ"
      }
    },
    {
      "cell_type": "markdown",
      "source": [
        "![image.png](data:image/png;base64,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)\n",
        "\n"
      ],
      "metadata": {
        "id": "9GRyD6MZTZE9"
      }
    },
    {
      "cell_type": "markdown",
      "source": [
        "# **E.5 Strengths**\n",
        "\n",
        "**• Phonetic Accuracy:** The model demonstrates a high level of ability to capture the phonetic aspects of the spoken language in that the predictions sound acoustically similar to target transcriptions.\n",
        "\n",
        "**• Robustness to Variability:** By using Connectionist Temporal Classification (CTC), the model is able to handle variations in speaking rates and, therefore, robust to changes in the length of speech inputs.\n",
        "\n",
        "**• Efficient Learning:** A decrease in training and validation losses during training shows that the model learns effectively from the given data.\n",
        "\n",
        "# **E.6 Limitations**\n",
        "\n",
        "**• Spelling and Grammar:** Without a language model, although phonetically correct, the transcriptions contain spelling and grammatical errors. This is a limitation for the overall usability of the model in applications that require high linguistic fidelity.\n",
        "\n",
        "**• WER:** A WER of 36% means there is ample room for improvement. A reduction in WER will, in effect, increase the overall performance of the model.\n",
        "\n",
        "**•  Resource and Data Dependence:** Heavy dependence on this model, be it on training data or computational resources, might make it unusable in resource-constrained environments.\n",
        "\n",
        "## **E.7 Interpretation of Results in Context**\n",
        "A lower WER is very important in the context of ASR for practical applications, including voice-activated systems, automated transcription services, and assistive technologies. The present implementation, although a good starting point, may need further enhancements to be suitable for such applications. One obvious way to lower WER significantly and increase the grammatical accuracy of the transcriptions is by incorporating a language model.\n",
        "Overall, this fine-tuned Wav2Vec2 demonstrates the potential of self-supervised learning in ASR, which is especially important for capturing phonetic details with limited labeled data. However, further improvements are called for to fill in the current gaps and increase its potential applicability for real-world applications.\n"
      ],
      "metadata": {
        "id": "ALQQpiWBTmTJ"
      }
    },
    {
      "cell_type": "code",
      "execution_count": null,
      "metadata": {
        "colab": {
          "base_uri": "https://localhost:8080/"
        },
        "id": "ATWfm24-Y8Jn",
        "outputId": "fdf399c5-b4b3-4251-9434-7dcf4f00cb9b"
      },
      "outputs": [
        {
          "output_type": "stream",
          "name": "stdout",
          "text": [
            "Sun Jan  5 06:14:39 2025       \n",
            "+---------------------------------------------------------------------------------------+\n",
            "| NVIDIA-SMI 535.104.05             Driver Version: 535.104.05   CUDA Version: 12.2     |\n",
            "|-----------------------------------------+----------------------+----------------------+\n",
            "| GPU  Name                 Persistence-M | Bus-Id        Disp.A | Volatile Uncorr. ECC |\n",
            "| Fan  Temp   Perf          Pwr:Usage/Cap |         Memory-Usage | GPU-Util  Compute M. |\n",
            "|                                         |                      |               MIG M. |\n",
            "|=========================================+======================+======================|\n",
            "|   0  Tesla T4                       Off | 00000000:00:04.0 Off |                    0 |\n",
            "| N/A   58C    P8              10W /  70W |      0MiB / 15360MiB |      0%      Default |\n",
            "|                                         |                      |                  N/A |\n",
            "+-----------------------------------------+----------------------+----------------------+\n",
            "                                                                                         \n",
            "+---------------------------------------------------------------------------------------+\n",
            "| Processes:                                                                            |\n",
            "|  GPU   GI   CI        PID   Type   Process name                            GPU Memory |\n",
            "|        ID   ID                                                             Usage      |\n",
            "|=======================================================================================|\n",
            "|  No running processes found                                                           |\n",
            "+---------------------------------------------------------------------------------------+\n"
          ]
        }
      ],
      "source": [
        "# GPU Information\n",
        "gpu_info = !nvidia-smi\n",
        "gpu_info = '\\n'.join(gpu_info)\n",
        "if gpu_info.find('failed') >= 0:\n",
        "  print('Not connected to a GPU')\n",
        "else:\n",
        "  print(gpu_info)"
      ]
    },
    {
      "cell_type": "markdown",
      "source": [
        "*Mount to google drive to save and reload the trained models*"
      ],
      "metadata": {
        "id": "cSJo0JnUbY5C"
      }
    },
    {
      "cell_type": "code",
      "source": [
        "from google.colab import drive\n",
        "drive.mount('/content/drive')"
      ],
      "metadata": {
        "colab": {
          "base_uri": "https://localhost:8080/"
        },
        "id": "055S90CkZQTA",
        "outputId": "5d4c083d-806a-48e2-e8ea-cc2427b47b3a"
      },
      "execution_count": null,
      "outputs": [
        {
          "output_type": "stream",
          "name": "stdout",
          "text": [
            "Drive already mounted at /content/drive; to attempt to forcibly remount, call drive.mount(\"/content/drive\", force_remount=True).\n"
          ]
        }
      ]
    },
    {
      "cell_type": "code",
      "source": [
        "!pip uninstall -y albumentations bigframes chex jax jaxlib pymc scikit-image xarray\n",
        "!pip install numpy==1.23.5\n",
        "!pip install scikit-learn\n"
      ],
      "metadata": {
        "colab": {
          "base_uri": "https://localhost:8080/"
        },
        "id": "c5Ogw545ZQfP",
        "outputId": "214b598c-0434-40c4-86b2-8654d82615d0"
      },
      "execution_count": null,
      "outputs": [
        {
          "output_type": "stream",
          "name": "stdout",
          "text": [
            "Requirement already satisfied: numpy==1.23.5 in /usr/local/lib/python3.10/dist-packages (1.23.5)\n"
          ]
        }
      ]
    },
    {
      "cell_type": "markdown",
      "source": [
        "*Installing datasets, transformers, and jiwer (necessary packages)*\n"
      ],
      "metadata": {
        "id": "ZNv6odjcb0az"
      }
    },
    {
      "cell_type": "code",
      "source": [
        "%%capture\n",
        "!pip install datasets==1.18.3\n",
        "!pip install transformers==4.17.0\n",
        "!pip install jiwer\n"
      ],
      "metadata": {
        "id": "e8qqvD0vbxGG"
      },
      "execution_count": null,
      "outputs": []
    },
    {
      "cell_type": "markdown",
      "source": [
        "## Prepare Data, Tokenizer, Feature Extractor"
      ],
      "metadata": {
        "id": "0znlAEmrBalq"
      }
    },
    {
      "cell_type": "markdown",
      "source": [
        "*Loading the dataset*"
      ],
      "metadata": {
        "id": "Bb2g5fsecvYd"
      }
    },
    {
      "cell_type": "code",
      "source": [
        "from datasets import load_dataset, load_metric\n",
        "\n",
        "timit = load_dataset(\"timit_asr\")"
      ],
      "metadata": {
        "colab": {
          "base_uri": "https://localhost:8080/",
          "height": 86,
          "referenced_widgets": [
            "5daa6c4648d34f6fbebb13f3e962c91d",
            "dbd8e81bfa7e4e1ba51b9846220799ef",
            "10253048a89745608c6720543513be18",
            "6ce0c37e22fa4b59b76958fd07e6af7d",
            "12a53f35a3f2463bb373e960c79f0991",
            "a3df0923d61b40d1a2d0420e5e5a02dd",
            "f18fa9a992e6411bad0ad84c9048e66e",
            "165d5d4b466642f587598360c723b464",
            "1cea8f7e0e4c417da45104c6e2f4b5c8",
            "9f813af0965b44c795ac76aa78378886",
            "33b78e52941048eeab286d36cdd584ca"
          ]
        },
        "id": "ZrgzF98qb5ua",
        "outputId": "1adad6d6-b5ca-49e1-a189-d7cb23f21ccc"
      },
      "execution_count": null,
      "outputs": [
        {
          "output_type": "stream",
          "name": "stderr",
          "text": [
            "WARNING:datasets.builder:Reusing dataset timit_asr (/root/.cache/huggingface/datasets/timit_asr/clean/2.0.1/b11b576ddcccbcefa7c9f0c4e6c2a43756f3033adffe0fb686aa61043d0450ad)\n"
          ]
        },
        {
          "output_type": "display_data",
          "data": {
            "text/plain": [
              "  0%|          | 0/2 [00:00<?, ?it/s]"
            ],
            "application/vnd.jupyter.widget-view+json": {
              "version_major": 2,
              "version_minor": 0,
              "model_id": "5daa6c4648d34f6fbebb13f3e962c91d"
            }
          },
          "metadata": {}
        }
      ]
    },
    {
      "cell_type": "markdown",
      "source": [
        "*Looking at the structure of the dataset*"
      ],
      "metadata": {
        "id": "Jxa-8dXgc5wh"
      }
    },
    {
      "cell_type": "code",
      "source": [
        "timit"
      ],
      "metadata": {
        "colab": {
          "base_uri": "https://localhost:8080/"
        },
        "id": "68_-pdSkcA1R",
        "outputId": "d2dda5a7-77dd-498f-9a12-3ce53d079010"
      },
      "execution_count": null,
      "outputs": [
        {
          "output_type": "execute_result",
          "data": {
            "text/plain": [
              "DatasetDict({\n",
              "    train: Dataset({\n",
              "        features: ['file', 'audio', 'text', 'phonetic_detail', 'word_detail', 'dialect_region', 'sentence_type', 'speaker_id', 'id'],\n",
              "        num_rows: 4620\n",
              "    })\n",
              "    test: Dataset({\n",
              "        features: ['file', 'audio', 'text', 'phonetic_detail', 'word_detail', 'dialect_region', 'sentence_type', 'speaker_id', 'id'],\n",
              "        num_rows: 1680\n",
              "    })\n",
              "})"
            ]
          },
          "metadata": {},
          "execution_count": 4
        }
      ]
    },
    {
      "cell_type": "markdown",
      "source": [
        "*In order to keep the dataset as general as possible , only the transcribed text will be considered for fin-tuning.*"
      ],
      "metadata": {
        "id": "RdRxegE2dEbi"
      }
    },
    {
      "cell_type": "code",
      "source": [
        "timit = timit.remove_columns([\"phonetic_detail\", \"word_detail\", \"dialect_region\", \"id\", \"sentence_type\", \"speaker_id\"])"
      ],
      "metadata": {
        "id": "zfxXTkfh2XZy"
      },
      "execution_count": null,
      "outputs": []
    },
    {
      "cell_type": "markdown",
      "source": [
        "*Display some random samples from the dataset to see the transcriptions.*"
      ],
      "metadata": {
        "id": "1L60WXJjdOM4"
      }
    },
    {
      "cell_type": "code",
      "source": [
        "# display some random samples from the dataset to see the transcriptions\n",
        "from datasets import ClassLabel\n",
        "import random\n",
        "import pandas as pd\n",
        "from IPython.display import display, HTML\n",
        "\n",
        "def show_random_elements(dataset, num_examples=10):\n",
        "    assert num_examples <= len(dataset), \"Can't pick more elements than there are in the dataset.\"\n",
        "    picks = []\n",
        "    for _ in range(num_examples):\n",
        "        pick = random.randint(0, len(dataset)-1)\n",
        "        while pick in picks:\n",
        "            pick = random.randint(0, len(dataset)-1)\n",
        "        picks.append(pick)\n",
        "\n",
        "    df = pd.DataFrame(dataset[picks])\n",
        "    display(HTML(df.to_html()))"
      ],
      "metadata": {
        "id": "KhDNonOw2XWa"
      },
      "execution_count": null,
      "outputs": []
    },
    {
      "cell_type": "code",
      "source": [
        "show_random_elements(timit[\"train\"].remove_columns([\"audio\", \"file\"]), num_examples=10)"
      ],
      "metadata": {
        "colab": {
          "base_uri": "https://localhost:8080/",
          "height": 363
        },
        "id": "ThWhttPV2XOS",
        "outputId": "22f6be4f-db99-4b6d-9644-802696330bdc"
      },
      "execution_count": null,
      "outputs": [
        {
          "output_type": "display_data",
          "data": {
            "text/plain": [
              "<IPython.core.display.HTML object>"
            ],
            "text/html": [
              "<table border=\"1\" class=\"dataframe\">\n",
              "  <thead>\n",
              "    <tr style=\"text-align: right;\">\n",
              "      <th></th>\n",
              "      <th>text</th>\n",
              "    </tr>\n",
              "  </thead>\n",
              "  <tbody>\n",
              "    <tr>\n",
              "      <th>0</th>\n",
              "      <td>It's not easy to create illuminating examples.</td>\n",
              "    </tr>\n",
              "    <tr>\n",
              "      <th>1</th>\n",
              "      <td>What possessed you to tell me a clotheshorse would be a good idea?</td>\n",
              "    </tr>\n",
              "    <tr>\n",
              "      <th>2</th>\n",
              "      <td>In the long run, it pays to buy quality clothing.</td>\n",
              "    </tr>\n",
              "    <tr>\n",
              "      <th>3</th>\n",
              "      <td>Irish youngsters eat fresh kippers for breakfast.</td>\n",
              "    </tr>\n",
              "    <tr>\n",
              "      <th>4</th>\n",
              "      <td>The emperor had a mean temper.</td>\n",
              "    </tr>\n",
              "    <tr>\n",
              "      <th>5</th>\n",
              "      <td>While waiting for Chipper she crisscrossed the square many times.</td>\n",
              "    </tr>\n",
              "    <tr>\n",
              "      <th>6</th>\n",
              "      <td>Try to recall the events in chronological order.</td>\n",
              "    </tr>\n",
              "    <tr>\n",
              "      <th>7</th>\n",
              "      <td>Advantages a farm provides: a wholesome and healthful environment for children.</td>\n",
              "    </tr>\n",
              "    <tr>\n",
              "      <th>8</th>\n",
              "      <td>In developing film, many toxic chemicals are used.</td>\n",
              "    </tr>\n",
              "    <tr>\n",
              "      <th>9</th>\n",
              "      <td>The irate actor stomped away idiotically.</td>\n",
              "    </tr>\n",
              "  </tbody>\n",
              "</table>"
            ]
          },
          "metadata": {}
        }
      ]
    },
    {
      "cell_type": "markdown",
      "source": [
        "*Remove some special characters as it is harder to classify speech chunks as they don't correspond to a characteristic sound unit. Additionally, normalize the text to have lower case letters and append a word seperator token at the end.*"
      ],
      "metadata": {
        "id": "0M5xA0Kjdg96"
      }
    },
    {
      "cell_type": "code",
      "source": [
        "import re\n",
        "chars_to_ignore_regex = '[\\,\\?\\.\\!\\-\\;\\:\\\"]'\n",
        "\n",
        "def remove_special_characters(batch):\n",
        "    batch[\"text\"] = re.sub(chars_to_ignore_regex, '', batch[\"text\"]).lower() + \" \"\n",
        "    return batch"
      ],
      "metadata": {
        "id": "_1b5gPLH2XCb"
      },
      "execution_count": null,
      "outputs": []
    },
    {
      "cell_type": "code",
      "source": [
        "timit = timit.map(remove_special_characters)"
      ],
      "metadata": {
        "colab": {
          "base_uri": "https://localhost:8080/",
          "height": 118,
          "referenced_widgets": [
            "d79ba758c9164e40bd45044e423457e6",
            "54cfa38d50ff4c52b09143b70a5f875a",
            "e021f0c3dc5b4e3bacbf9cbcd876c2f3",
            "24d57ec02b9d42b0aaf31850134fff93",
            "5c1f7ce3a7fe45b395069d37197450c3",
            "0c1a87cd73c44b3ebf78e8e4e171a30d",
            "211801cbdf97499b813df8b2f431026e",
            "b49b2326efeb466eb619738fdb21e27d",
            "98d336d605e1415099dbc461bc22176e",
            "3298a92d658f4e59a8e826672960dff2",
            "bebeafb05dea4cd08bc9ecab50ec7107",
            "16931bbfd00a46bbb4268c4c402cfdbe",
            "7df64f6a48a84fcb8b231bade9b97a6e",
            "16aff07b4cc648528d9282c36d499537",
            "048316d79499410a8f48f7d017af8dc5",
            "f373d227f77b4fb286f26958f56f3c00",
            "36a298ab06874b858bdc5a36942b924d",
            "da42a4bb62d4401ab892ecdf9f2e6aaa",
            "88eec13b5b88427185b99d9d7e747a73",
            "34db0d7b50b24558834fe2645ef86ab6",
            "0b7739073d9b49808722541d92ee7806",
            "f4cc1e6d383044b0b4b00daa9cc7a9c2"
          ]
        },
        "id": "DxaIE4Z02Wub",
        "outputId": "50ad6e2a-83f7-4831-dc61-c7b931786519"
      },
      "execution_count": null,
      "outputs": [
        {
          "output_type": "stream",
          "name": "stderr",
          "text": [
            "WARNING:datasets.fingerprint:Parameter 'function'=<function remove_special_characters at 0x7e440f2a5ab0> of the transform datasets.arrow_dataset.Dataset._map_single couldn't be hashed properly, a random hash was used instead. Make sure your transforms and parameters are serializable with pickle or dill for the dataset fingerprinting and caching to work. If you reuse this transform, the caching mechanism will consider it to be different from the previous calls and recompute everything. This warning is only showed once. Subsequent hashing failures won't be showed.\n"
          ]
        },
        {
          "output_type": "display_data",
          "data": {
            "text/plain": [
              "0ex [00:00, ?ex/s]"
            ],
            "application/vnd.jupyter.widget-view+json": {
              "version_major": 2,
              "version_minor": 0,
              "model_id": "d79ba758c9164e40bd45044e423457e6"
            }
          },
          "metadata": {}
        },
        {
          "output_type": "display_data",
          "data": {
            "text/plain": [
              "0ex [00:00, ?ex/s]"
            ],
            "application/vnd.jupyter.widget-view+json": {
              "version_major": 2,
              "version_minor": 0,
              "model_id": "16931bbfd00a46bbb4268c4c402cfdbe"
            }
          },
          "metadata": {}
        }
      ]
    },
    {
      "cell_type": "markdown",
      "source": [
        "*Display the dataset after removing special characters and normalizing the text.*"
      ],
      "metadata": {
        "id": "e4Vcx84Jd5xI"
      }
    },
    {
      "cell_type": "code",
      "source": [
        "show_random_elements(timit[\"train\"].remove_columns([\"audio\", \"file\"]))"
      ],
      "metadata": {
        "colab": {
          "base_uri": "https://localhost:8080/",
          "height": 363
        },
        "id": "BGqbB_lW2jYt",
        "outputId": "e38e90b7-2d2b-49ee-e976-1fd76248d6c8"
      },
      "execution_count": null,
      "outputs": [
        {
          "output_type": "display_data",
          "data": {
            "text/plain": [
              "<IPython.core.display.HTML object>"
            ],
            "text/html": [
              "<table border=\"1\" class=\"dataframe\">\n",
              "  <thead>\n",
              "    <tr style=\"text-align: right;\">\n",
              "      <th></th>\n",
              "      <th>text</th>\n",
              "    </tr>\n",
              "  </thead>\n",
              "  <tbody>\n",
              "    <tr>\n",
              "      <th>0</th>\n",
              "      <td>when all else fails use force</td>\n",
              "    </tr>\n",
              "    <tr>\n",
              "      <th>1</th>\n",
              "      <td>the water contained too much chlorine and stung his eyes</td>\n",
              "    </tr>\n",
              "    <tr>\n",
              "      <th>2</th>\n",
              "      <td>the gorgeous butterfly ate a lot of nectar</td>\n",
              "    </tr>\n",
              "    <tr>\n",
              "      <th>3</th>\n",
              "      <td>smash lightbulbs and their cash value will diminish to nothing</td>\n",
              "    </tr>\n",
              "    <tr>\n",
              "      <th>4</th>\n",
              "      <td>samples he walked in upon her invitation</td>\n",
              "    </tr>\n",
              "    <tr>\n",
              "      <th>5</th>\n",
              "      <td>but why is it necessary to reproduce the retinal image within the brain</td>\n",
              "    </tr>\n",
              "    <tr>\n",
              "      <th>6</th>\n",
              "      <td>fill that canteen with fresh spring water</td>\n",
              "    </tr>\n",
              "    <tr>\n",
              "      <th>7</th>\n",
              "      <td>his sinuous melody is a sort of naive transcendence of all experience</td>\n",
              "    </tr>\n",
              "    <tr>\n",
              "      <th>8</th>\n",
              "      <td>don't ask me to carry an oily rag like that</td>\n",
              "    </tr>\n",
              "    <tr>\n",
              "      <th>9</th>\n",
              "      <td>vital questions would be quickly answered according to a preprepared agenda</td>\n",
              "    </tr>\n",
              "  </tbody>\n",
              "</table>"
            ]
          },
          "metadata": {}
        }
      ]
    },
    {
      "cell_type": "markdown",
      "source": [
        "*Extracting all distinct letters of the training and test data and build our vocabulary from this set of letters.*"
      ],
      "metadata": {
        "id": "vc-PzDaheQwJ"
      }
    },
    {
      "cell_type": "code",
      "source": [
        "def extract_all_chars(batch):\n",
        "  all_text = \" \".join(batch[\"text\"])\n",
        "  vocab = list(set(all_text))\n",
        "  return {\"vocab\": [vocab], \"all_text\": [all_text]}"
      ],
      "metadata": {
        "id": "0MhFOmJH2jVb"
      },
      "execution_count": null,
      "outputs": []
    },
    {
      "cell_type": "code",
      "source": [
        "vocabs = timit.map(extract_all_chars, batched=True, batch_size=-1, keep_in_memory=True, remove_columns=timit.column_names[\"train\"])"
      ],
      "metadata": {
        "colab": {
          "base_uri": "https://localhost:8080/",
          "height": 81,
          "referenced_widgets": [
            "2774c52ca48c46f296650c1c3c727d35",
            "9cfeb71dbb4540a5b1887c2440bcdbbf",
            "dc5978774e034dbfa9e8e7a7581bc690",
            "1b288a49bbac4f49bef10912810de3a7",
            "36cd57a404c042db850ea150b54bf15a",
            "bbc5dc77ab40435d917fcc33d6cc5020",
            "096ef3c26d74430e920c3a3478cc2006",
            "7789eb1d6b6a4966b800fe448de45dee",
            "13a873c6421549838ab239a4e8e9cbbb",
            "e70eeb1dadcb4e9da413a1112a833376",
            "072655c92c0d4538b9af55cdbf5b6f47",
            "b924029b44ac489eab8040385033efe7",
            "77998d04dc4449a1b16c3d90cab101e2",
            "c617837ac71a400d9cdbbd0b85dad08c",
            "b53c3152fe504ac4a62fc08e628c6f77",
            "d2bed965edaa4642a90b5887786a3e7e",
            "0519ff303f0a440fb7d08ce46683ad53",
            "ff3dbe346ebf4e8cb3278bf2b74a56e2",
            "3cab7806de41433ea5b9c78a9c55aa8c",
            "8811de8749b843a4b3c715439b132c51",
            "aa9e083552304b9380e66ba9cb233768",
            "6b83cb47c3db43d391f462251811f893"
          ]
        },
        "id": "UlCZ4qam2jSo",
        "outputId": "d67d4e7a-e24f-4638-cef8-9a98bdc06e5b"
      },
      "execution_count": null,
      "outputs": [
        {
          "output_type": "display_data",
          "data": {
            "text/plain": [
              "  0%|          | 0/1 [00:00<?, ?ba/s]"
            ],
            "application/vnd.jupyter.widget-view+json": {
              "version_major": 2,
              "version_minor": 0,
              "model_id": "2774c52ca48c46f296650c1c3c727d35"
            }
          },
          "metadata": {}
        },
        {
          "output_type": "display_data",
          "data": {
            "text/plain": [
              "  0%|          | 0/1 [00:00<?, ?ba/s]"
            ],
            "application/vnd.jupyter.widget-view+json": {
              "version_major": 2,
              "version_minor": 0,
              "model_id": "b924029b44ac489eab8040385033efe7"
            }
          },
          "metadata": {}
        }
      ]
    },
    {
      "cell_type": "markdown",
      "source": [
        "*Creating the union of all distinct letters in the training dataset and test dataset and convert the resulting list into an enumerated dictionary*"
      ],
      "metadata": {
        "id": "KqudQoKUe52X"
      }
    },
    {
      "cell_type": "code",
      "source": [
        "vocab_list = list(set(vocabs[\"train\"][\"vocab\"][0]) | set(vocabs[\"test\"][\"vocab\"][0]))"
      ],
      "metadata": {
        "id": "7wDzIbLj2jPn"
      },
      "execution_count": null,
      "outputs": []
    },
    {
      "cell_type": "code",
      "source": [
        "vocab_dict = {v: k for k, v in enumerate(vocab_list)}\n",
        "vocab_dict"
      ],
      "metadata": {
        "colab": {
          "base_uri": "https://localhost:8080/"
        },
        "id": "0vD74gu72jMy",
        "outputId": "01d2b1d0-cc7b-4f32-fe6d-96853d815672"
      },
      "execution_count": null,
      "outputs": [
        {
          "output_type": "execute_result",
          "data": {
            "text/plain": [
              "{'b': 0,\n",
              " 'z': 1,\n",
              " 'e': 2,\n",
              " 'n': 3,\n",
              " 'o': 4,\n",
              " 'r': 5,\n",
              " \"'\": 6,\n",
              " 'j': 7,\n",
              " 'y': 8,\n",
              " 'x': 9,\n",
              " 'd': 10,\n",
              " 'p': 11,\n",
              " 'u': 12,\n",
              " 'a': 13,\n",
              " 'm': 14,\n",
              " 't': 15,\n",
              " 'i': 16,\n",
              " 'q': 17,\n",
              " 'l': 18,\n",
              " 'f': 19,\n",
              " 's': 20,\n",
              " ' ': 21,\n",
              " 'g': 22,\n",
              " 'c': 23,\n",
              " 'h': 24,\n",
              " 'k': 25,\n",
              " 'v': 26,\n",
              " 'w': 27}"
            ]
          },
          "metadata": {},
          "execution_count": 14
        }
      ]
    },
    {
      "cell_type": "code",
      "source": [
        "vocab_dict[\"|\"] = vocab_dict[\" \"]\n",
        "del vocab_dict[\" \"]"
      ],
      "metadata": {
        "id": "HewQHiRg2jAb"
      },
      "execution_count": null,
      "outputs": []
    },
    {
      "cell_type": "markdown",
      "source": [
        "*Adding a padding token that corresponds to CTC's \"blank token\". The \"blank token\" is a core component of the CTC algorithm.*"
      ],
      "metadata": {
        "id": "eXcj-dNyfP3R"
      }
    },
    {
      "cell_type": "code",
      "source": [
        "vocab_dict[\"[UNK]\"] = len(vocab_dict)\n",
        "vocab_dict[\"[PAD]\"] = len(vocab_dict)\n",
        "len(vocab_dict)"
      ],
      "metadata": {
        "colab": {
          "base_uri": "https://localhost:8080/"
        },
        "id": "BR1f_G2T2zjz",
        "outputId": "dadc30a3-7939-4c5e-c716-cb23473d0fd2"
      },
      "execution_count": null,
      "outputs": [
        {
          "output_type": "execute_result",
          "data": {
            "text/plain": [
              "30"
            ]
          },
          "metadata": {},
          "execution_count": 16
        }
      ]
    },
    {
      "cell_type": "markdown",
      "source": [
        "*Save the vocabulary as a json file.*"
      ],
      "metadata": {
        "id": "mP4a-Zfnfd-7"
      }
    },
    {
      "cell_type": "code",
      "source": [
        "import json\n",
        "with open('vocab.json', 'w') as vocab_file:\n",
        "    json.dump(vocab_dict, vocab_file)"
      ],
      "metadata": {
        "id": "30apcD6-207v"
      },
      "execution_count": null,
      "outputs": []
    },
    {
      "cell_type": "markdown",
      "source": [
        "*Use the json file to instantiate an object of the Wav2Vec2CTCTokenizer class*"
      ],
      "metadata": {
        "id": "Y5odQdI8fymD"
      }
    },
    {
      "cell_type": "code",
      "source": [
        "from transformers import Wav2Vec2CTCTokenizer\n",
        "\n",
        "tokenizer = Wav2Vec2CTCTokenizer(\"./vocab.json\", unk_token=\"[UNK]\", pad_token=\"[PAD]\", word_delimiter_token=\"|\")"
      ],
      "metadata": {
        "id": "b_xUnfCuLFmH"
      },
      "execution_count": null,
      "outputs": []
    },
    {
      "cell_type": "markdown",
      "source": [
        "*Creating the Wav2Vec2 Feature Extractor. It requires paramaters like feature_size,sampling_rate,padding_rate,do_normalize,return_attention_mask.*"
      ],
      "metadata": {
        "id": "bCd3lWIsgib9"
      }
    },
    {
      "cell_type": "code",
      "source": [
        "from transformers import Wav2Vec2FeatureExtractor\n",
        "\n",
        "feature_extractor = Wav2Vec2FeatureExtractor(feature_size=1, sampling_rate=16000, padding_value=0.0, do_normalize=True, return_attention_mask=False)"
      ],
      "metadata": {
        "id": "zt6spN60LJFR"
      },
      "execution_count": null,
      "outputs": []
    },
    {
      "cell_type": "markdown",
      "source": [
        "*To make the usage of Wav2Vec2 as user-friendly as possible, the feature extractor and tokenizer are wrapped into a single Wav2Vec2Processor class so that one only needs a model and processor object.*"
      ],
      "metadata": {
        "id": "bZn5cUV-hn_R"
      }
    },
    {
      "cell_type": "code",
      "source": [
        "from transformers import Wav2Vec2Processor\n",
        "\n",
        "processor = Wav2Vec2Processor(feature_extractor=feature_extractor, tokenizer=tokenizer)"
      ],
      "metadata": {
        "id": "D5RQNhB3LjdP"
      },
      "execution_count": null,
      "outputs": []
    },
    {
      "cell_type": "markdown",
      "source": [
        "*Save the processor into google drive for training purposes*"
      ],
      "metadata": {
        "id": "bH_QWY2ih5L0"
      }
    },
    {
      "cell_type": "code",
      "source": [
        "# save the processor\n",
        "processor.save_pretrained(\"/content/drive/MyDrive/wav2vec2-large.saveDemo\")"
      ],
      "metadata": {
        "id": "pIFfbWLULt1g"
      },
      "execution_count": null,
      "outputs": []
    },
    {
      "cell_type": "markdown",
      "source": [
        "*Reload the model from google drive if necessary*"
      ],
      "metadata": {
        "id": "El46aif1ibay"
      }
    },
    {
      "cell_type": "code",
      "source": [
        "from transformers import Wav2Vec2Processor\n",
        "\n",
        "# Reload the processor from Google Drive\n",
        "processor = Wav2Vec2Processor.from_pretrained(\"/content/drive/MyDrive/wav2vec2-large.saveDemo\")\n",
        "\n",
        "\n"
      ],
      "metadata": {
        "colab": {
          "base_uri": "https://localhost:8080/"
        },
        "id": "6h-RS2kxc301",
        "outputId": "3c846930-792c-4c70-bd56-058b44eb6037"
      },
      "execution_count": null,
      "outputs": [
        {
          "output_type": "stream",
          "name": "stderr",
          "text": [
            "Special tokens have been added in the vocabulary, make sure the associated word embeddings are fine-tuned or trained.\n"
          ]
        }
      ]
    },
    {
      "cell_type": "markdown",
      "source": [
        "# Preprocess Data"
      ],
      "metadata": {
        "id": "fFjj_iwnimhu"
      }
    },
    {
      "cell_type": "markdown",
      "source": [
        "*In addition to 'text', our datasets include two more column names 'file' and 'audio'. 'file' states the absolute path of the audio file.*"
      ],
      "metadata": {
        "id": "WdkXb_3NjDZz"
      }
    },
    {
      "cell_type": "code",
      "source": [
        "timit[\"train\"][0][\"file\"]"
      ],
      "metadata": {
        "colab": {
          "base_uri": "https://localhost:8080/",
          "height": 53
        },
        "id": "yG47yav-f7BX",
        "outputId": "169cfbd7-1896-4d11-cc64-96f726cb35e5"
      },
      "execution_count": null,
      "outputs": [
        {
          "output_type": "execute_result",
          "data": {
            "text/plain": [
              "'/root/.cache/huggingface/datasets/downloads/extracted/404950a46da14eac65eb4e2a8317b1372fb3971d980d91d5d5b221275b1fd7e0/data/TRAIN/DR4/MMDM0/SI681.WAV'"
            ],
            "application/vnd.google.colaboratory.intrinsic+json": {
              "type": "string"
            }
          },
          "metadata": {},
          "execution_count": 18
        }
      ]
    },
    {
      "cell_type": "markdown",
      "source": [
        "*`Wav2Vec2` expects the input in the format of a 1-dimensional array of 16 kHz. This means that the audio file has to be loaded and resampled. And the `datasets` does this automatically when calling the column `audio`.*"
      ],
      "metadata": {
        "id": "8zgFIjOPjNuW"
      }
    },
    {
      "cell_type": "code",
      "source": [
        "timit[\"train\"][0][\"audio\"]"
      ],
      "metadata": {
        "colab": {
          "base_uri": "https://localhost:8080/"
        },
        "id": "3TpW8heWc8DW",
        "outputId": "7ce9234d-6f0c-4793-e5e0-295a0695dd15"
      },
      "execution_count": null,
      "outputs": [
        {
          "output_type": "execute_result",
          "data": {
            "text/plain": [
              "{'path': '/root/.cache/huggingface/datasets/downloads/extracted/404950a46da14eac65eb4e2a8317b1372fb3971d980d91d5d5b221275b1fd7e0/data/TRAIN/DR4/MMDM0/SI681.WAV',\n",
              " 'array': array([-2.1362305e-04,  6.1035156e-05,  3.0517578e-05, ...,\n",
              "        -3.0517578e-05, -9.1552734e-05, -6.1035156e-05], dtype=float32),\n",
              " 'sampling_rate': 16000}"
            ]
          },
          "metadata": {},
          "execution_count": 19
        }
      ]
    },
    {
      "cell_type": "markdown",
      "source": [
        "*A couple of audio files to better understand the dataset and verify that the audio was correctly loaded.*"
      ],
      "metadata": {
        "id": "bl387q4Oj_22"
      }
    },
    {
      "cell_type": "code",
      "source": [
        "import IPython.display as ipd\n",
        "import numpy as np\n",
        "import random\n",
        "\n",
        "rand_int = random.randint(0, len(timit[\"train\"]))\n",
        "\n",
        "print(timit[\"train\"][rand_int][\"text\"])\n",
        "ipd.Audio(data=np.asarray(timit[\"train\"][rand_int][\"audio\"][\"array\"]), autoplay=True, rate=16000)"
      ],
      "metadata": {
        "colab": {
          "base_uri": "https://localhost:8080/",
          "height": 93
        },
        "id": "v6YcWdOHrkIY",
        "outputId": "b636c1fe-b508-4b02-ab26-6c172681d26e"
      },
      "execution_count": null,
      "outputs": [
        {
          "output_type": "stream",
          "name": "stdout",
          "text": [
            "is his appetite improved \n"
          ]
        },
        {
          "output_type": "execute_result",
          "data": {
            "text/plain": [
              "<IPython.lib.display.Audio object>"
            ],
            "text/html": [
              "\n",
              "                <audio  controls=\"controls\" autoplay=\"autoplay\">\n",
              "                    <source src=\"data:audio/wav;base64,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\" type=\"audio/wav\" />\n",
              "                    Your browser does not support the audio element.\n",
              "                </audio>\n",
              "              "
            ]
          },
          "metadata": {},
          "execution_count": 20
        }
      ]
    },
    {
      "cell_type": "markdown",
      "source": [
        "*Printing the shape of the speech input, its transcription, and the corresponding sampling rate to check if the data is correctly prepared.*"
      ],
      "metadata": {
        "id": "CTxvzb8skQd7"
      }
    },
    {
      "cell_type": "code",
      "source": [
        "rand_int = random.randint(0, len(timit[\"train\"]))\n",
        "\n",
        "print(\"Target text:\", timit[\"train\"][rand_int][\"text\"])\n",
        "print(\"Input array shape:\", np.asarray(timit[\"train\"][rand_int][\"audio\"][\"array\"]).shape)\n",
        "print(\"Sampling rate:\", timit[\"train\"][rand_int][\"audio\"][\"sampling_rate\"])"
      ],
      "metadata": {
        "colab": {
          "base_uri": "https://localhost:8080/"
        },
        "id": "1gPqHzN3dmly",
        "outputId": "86bbbab2-24c1-4153-b9c8-b0d95e75ba17"
      },
      "execution_count": null,
      "outputs": [
        {
          "output_type": "stream",
          "name": "stdout",
          "text": [
            "Target text: the avalanche triggered a minor earthquake \n",
            "Input array shape: (55808,)\n",
            "Sampling rate: 16000\n"
          ]
        }
      ]
    },
    {
      "cell_type": "markdown",
      "source": [
        "*Loading and resampling the audio data, simply by calling batch `audio`. Second, extract the `input_values` from the loaded audio file. In our case, the `Wav2Vec2Processor` only normalizes the data. For other speech models, however, this step can include more complex feature extraction, such as Log-Mel feature extraction. Third, encode the transcriptions to label ids.*"
      ],
      "metadata": {
        "id": "yAWSDRUskoWa"
      }
    },
    {
      "cell_type": "code",
      "source": [
        "def prepare_dataset(batch):\n",
        "    audio = batch[\"audio\"]\n",
        "\n",
        "    # batched output is \"un-batched\" to ensure mapping is correct\n",
        "    batch[\"input_values\"] = processor(audio[\"array\"], sampling_rate=audio[\"sampling_rate\"]).input_values[0]\n",
        "    batch[\"input_length\"] = len(batch[\"input_values\"])\n",
        "\n",
        "    with processor.as_target_processor():\n",
        "        batch[\"labels\"] = processor(batch[\"text\"]).input_ids\n",
        "    return batch"
      ],
      "metadata": {
        "id": "1MzS60rf3opP"
      },
      "execution_count": null,
      "outputs": []
    },
    {
      "cell_type": "markdown",
      "source": [
        "*Apply the data preparation function to all examples.*"
      ],
      "metadata": {
        "id": "qSN0xwAilJQW"
      }
    },
    {
      "cell_type": "code",
      "source": [
        "timit = timit.map(prepare_dataset, remove_columns=timit.column_names[\"train\"], num_proc=4)"
      ],
      "metadata": {
        "colab": {
          "base_uri": "https://localhost:8080/"
        },
        "id": "TY9ai1rK3olt",
        "outputId": "d076a76a-a6b8-4ab6-b76f-8b9c6a0ad971"
      },
      "execution_count": null,
      "outputs": [
        {
          "output_type": "stream",
          "name": "stderr",
          "text": [
            "/usr/local/lib/python3.10/dist-packages/datasets/table.py:690: FutureWarning: promote has been superseded by promote_options='default'.\n",
            "  table = cls._concat_blocks(blocks, axis=0)\n"
          ]
        }
      ]
    },
    {
      "cell_type": "markdown",
      "source": [
        "*Long input sequences require a lot of memory. Hence, filter all sequences that are longer than 4 seconds out of the training dataset.*"
      ],
      "metadata": {
        "id": "RoU6q0RaleQV"
      }
    },
    {
      "cell_type": "code",
      "source": [
        "max_input_length_in_sec = 4.0\n",
        "timit[\"train\"] = timit[\"train\"].filter(lambda x: x < max_input_length_in_sec * processor.feature_extractor.sampling_rate, input_columns=[\"input_length\"])"
      ],
      "metadata": {
        "colab": {
          "base_uri": "https://localhost:8080/",
          "height": 49,
          "referenced_widgets": [
            "4be65521e11944ef8202fdc4b7aead53",
            "ae9c407e65054cfea3919cd75281661e",
            "1869412659ba4209a995d7b9d899cd52",
            "114dc0951aeb4206a6ba01017eecee81",
            "7d95b11ddc754b10b3af2cd730e6486e",
            "1533c294bd724fa88479b4dd8fa55441",
            "2f4e15064da04c6b890a52353ed415e8",
            "fb7b59c2c295497a8b0143cf80428073",
            "64ad302b254c4e8f8cce090d50f93916",
            "f8a9bd1761404033bab0f0743330e108",
            "5dab1908ae174bebb02c45e3aac60c0b"
          ]
        },
        "id": "VMhHDdZ-3ojW",
        "outputId": "994c97a6-283e-427d-8483-4b9bce12f3bb"
      },
      "execution_count": null,
      "outputs": [
        {
          "output_type": "display_data",
          "data": {
            "text/plain": [
              "  0%|          | 0/5 [00:00<?, ?ba/s]"
            ],
            "application/vnd.jupyter.widget-view+json": {
              "version_major": 2,
              "version_minor": 0,
              "model_id": "4be65521e11944ef8202fdc4b7aead53"
            }
          },
          "metadata": {}
        }
      ]
    },
    {
      "cell_type": "markdown",
      "source": [
        "# Training and Evaluation"
      ],
      "metadata": {
        "id": "ZiGkVLqolxf8"
      }
    },
    {
      "cell_type": "markdown",
      "source": [
        "*Set-up the trainer*"
      ],
      "metadata": {
        "id": "8Sfe4VRUm9rC"
      }
    },
    {
      "cell_type": "code",
      "source": [
        "import torch\n",
        "\n",
        "from dataclasses import dataclass, field\n",
        "from typing import Any, Dict, List, Optional, Union\n",
        "\n",
        "@dataclass\n",
        "class DataCollatorCTCWithPadding:\n",
        "    \"\"\"\n",
        "    Data collator that will dynamically pad the inputs received.\n",
        "    Args:\n",
        "        processor (:class:`~transformers.Wav2Vec2Processor`)\n",
        "            The processor used for proccessing the data.\n",
        "        padding (:obj:`bool`, :obj:`str` or :class:`~transformers.tokenization_utils_base.PaddingStrategy`, `optional`, defaults to :obj:`True`):\n",
        "            Select a strategy to pad the returned sequences (according to the model's padding side and padding index)\n",
        "            among:\n",
        "            * :obj:`True` or :obj:`'longest'`: Pad to the longest sequence in the batch (or no padding if only a single\n",
        "              sequence if provided).\n",
        "            * :obj:`'max_length'`: Pad to a maximum length specified with the argument :obj:`max_length` or to the\n",
        "              maximum acceptable input length for the model if that argument is not provided.\n",
        "            * :obj:`False` or :obj:`'do_not_pad'` (default): No padding (i.e., can output a batch with sequences of\n",
        "              different lengths).\n",
        "    \"\"\"\n",
        "\n",
        "    processor: Wav2Vec2Processor\n",
        "    padding: Union[bool, str] = True\n",
        "\n",
        "    def __call__(self, features: List[Dict[str, Union[List[int], torch.Tensor]]]) -> Dict[str, torch.Tensor]:\n",
        "        # split inputs and labels since they have to be of different lenghts and need\n",
        "        # different padding methods\n",
        "        input_features = [{\"input_values\": feature[\"input_values\"]} for feature in features]\n",
        "        label_features = [{\"input_ids\": feature[\"labels\"]} for feature in features]\n",
        "\n",
        "        batch = self.processor.pad(\n",
        "            input_features,\n",
        "            padding=self.padding,\n",
        "            return_tensors=\"pt\",\n",
        "        )\n",
        "        with self.processor.as_target_processor():\n",
        "            labels_batch = self.processor.pad(\n",
        "                label_features,\n",
        "                padding=self.padding,\n",
        "                return_tensors=\"pt\",\n",
        "            )\n",
        "\n",
        "        # replace padding with -100 to ignore loss correctly\n",
        "        labels = labels_batch[\"input_ids\"].masked_fill(labels_batch.attention_mask.ne(1), -100)\n",
        "\n",
        "        batch[\"labels\"] = labels\n",
        "\n",
        "        return batch"
      ],
      "metadata": {
        "id": "6rm8CV6h3ogv"
      },
      "execution_count": null,
      "outputs": []
    },
    {
      "cell_type": "code",
      "source": [
        "data_collator = DataCollatorCTCWithPadding(processor=processor, padding=True)\n"
      ],
      "metadata": {
        "id": "A0iLk1m13od0"
      },
      "execution_count": null,
      "outputs": []
    },
    {
      "cell_type": "markdown",
      "source": [
        "*The evaluation metric is defined.The predominant metric in ASR is the word error rate (WER)*"
      ],
      "metadata": {
        "id": "vv9EKckWnUCs"
      }
    },
    {
      "cell_type": "code",
      "source": [
        "wer_metric = load_metric(\"wer\")"
      ],
      "metadata": {
        "colab": {
          "base_uri": "https://localhost:8080/",
          "height": 49,
          "referenced_widgets": [
            "efc08db285ff49c8bba32cfadf5bce2c",
            "27b992e15c394421ae905732fd3e44a7",
            "683809f581014ff394abdd6cedec0f41",
            "7996e640af9241069e1abf583f38842c",
            "37c8c46148314307b0925e2f2c49939f",
            "cffd43c793ed47b7af397b7f377b5fad",
            "3df3fcb36f444ede985a7ba41b5214a2",
            "8d3e47041a0840faac66c895375d371e",
            "aee1785347f846e3babe9cbea85e0b2c",
            "c42f138f8fe348709fcbb5c86223132e",
            "1b6fb1c6944046378641bc873f72ad94"
          ]
        },
        "id": "xYyKvfRW3obB",
        "outputId": "b38f04e0-aa30-4084-daec-e3cee2d67539"
      },
      "execution_count": null,
      "outputs": [
        {
          "output_type": "display_data",
          "data": {
            "text/plain": [
              "Downloading:   0%|          | 0.00/1.90k [00:00<?, ?B/s]"
            ],
            "application/vnd.jupyter.widget-view+json": {
              "version_major": 2,
              "version_minor": 0,
              "model_id": "efc08db285ff49c8bba32cfadf5bce2c"
            }
          },
          "metadata": {}
        }
      ]
    },
    {
      "cell_type": "code",
      "source": [
        "def compute_metrics(pred):\n",
        "    pred_logits = pred.predictions\n",
        "    pred_ids = np.argmax(pred_logits, axis=-1)\n",
        "\n",
        "    pred.label_ids[pred.label_ids == -100] = processor.tokenizer.pad_token_id\n",
        "\n",
        "    pred_str = processor.batch_decode(pred_ids)\n",
        "    # Do not want to group tokens when computing the metrics\n",
        "    label_str = processor.batch_decode(pred.label_ids, group_tokens=False)\n",
        "\n",
        "    wer = wer_metric.compute(predictions=pred_str, references=label_str)\n",
        "\n",
        "    return {\"wer\": wer}"
      ],
      "metadata": {
        "id": "LU798a3r3oYf"
      },
      "execution_count": null,
      "outputs": []
    },
    {
      "cell_type": "markdown",
      "source": [
        "*Load the pretrained Wav2Vec2 checkpoint*"
      ],
      "metadata": {
        "id": "jxaKSE-rnyPU"
      }
    },
    {
      "cell_type": "code",
      "source": [
        "from transformers import Wav2Vec2ForCTC\n",
        "\n",
        "model = Wav2Vec2ForCTC.from_pretrained(\n",
        "    \"facebook/wav2vec2-base\",\n",
        "    ctc_loss_reduction=\"mean\",\n",
        "    pad_token_id=processor.tokenizer.pad_token_id,\n",
        ")"
      ],
      "metadata": {
        "colab": {
          "base_uri": "https://localhost:8080/",
          "height": 292,
          "referenced_widgets": [
            "2a14199abfdd4b1dbc1415ddfa1d7a45",
            "9d6c073a75a84f7b8d1e155f14dae70e",
            "0e5dca31e47c45c780e10f793cd07688",
            "7aae4571e0e74a57af2817bc74b3ee39",
            "57a49f729b0840baac6ca5e0bac99339",
            "1f70a2e4c899488b892f7454c4b0ca0a",
            "5110fc32d3e742e9a836c976f276a556",
            "cef0b41d06cf4598b868c89137dc257e",
            "8dd63b4f96454d8e9181297a5ef0a00a",
            "206a4d2a5a6f431cad2a1b772f252d3d",
            "dcc29d8ccc05440dafc1c55a433e2167",
            "345be28194744d518faf56a7ac4524f1",
            "49d059f20d0945eaaf649a8517a99450",
            "035507204c5d43549eb7f76aeaf658f8",
            "3700cc361f354a7c8432b3c56e57162d",
            "e7a87f62941d4eeda14dd8f371f4bec7",
            "227cad9bd6f2489ba7d1fc6dd1207eb7",
            "2b255c7a0af449c298e10ea9e50a72d5",
            "d501d757648242399ff5c38d7536ed60",
            "4b9ebd3338654a668014913a6c366879",
            "0d9c4baa42ca412d883ed555eb9bd6fa",
            "34cef346dff44d51a263951d46d5143d"
          ]
        },
        "id": "r2Mj6eFJ3oVi",
        "outputId": "81c3d18e-bbb6-4771-d037-bf3115068a58"
      },
      "execution_count": null,
      "outputs": [
        {
          "output_type": "display_data",
          "data": {
            "text/plain": [
              "Downloading:   0%|          | 0.00/1.80k [00:00<?, ?B/s]"
            ],
            "application/vnd.jupyter.widget-view+json": {
              "version_major": 2,
              "version_minor": 0,
              "model_id": "2a14199abfdd4b1dbc1415ddfa1d7a45"
            }
          },
          "metadata": {}
        },
        {
          "output_type": "stream",
          "name": "stderr",
          "text": [
            "/usr/local/lib/python3.10/dist-packages/transformers/configuration_utils.py:356: UserWarning: Passing `gradient_checkpointing` to a config initialization is deprecated and will be removed in v5 Transformers. Using `model.gradient_checkpointing_enable()` instead, or if you are using the `Trainer` API, pass `gradient_checkpointing=True` in your `TrainingArguments`.\n",
            "  warnings.warn(\n"
          ]
        },
        {
          "output_type": "display_data",
          "data": {
            "text/plain": [
              "Downloading:   0%|          | 0.00/363M [00:00<?, ?B/s]"
            ],
            "application/vnd.jupyter.widget-view+json": {
              "version_major": 2,
              "version_minor": 0,
              "model_id": "345be28194744d518faf56a7ac4524f1"
            }
          },
          "metadata": {}
        },
        {
          "output_type": "stream",
          "name": "stderr",
          "text": [
            "/usr/local/lib/python3.10/dist-packages/transformers/modeling_utils.py:1439: FutureWarning: You are using `torch.load` with `weights_only=False` (the current default value), which uses the default pickle module implicitly. It is possible to construct malicious pickle data which will execute arbitrary code during unpickling (See https://github.com/pytorch/pytorch/blob/main/SECURITY.md#untrusted-models for more details). In a future release, the default value for `weights_only` will be flipped to `True`. This limits the functions that could be executed during unpickling. Arbitrary objects will no longer be allowed to be loaded via this mode unless they are explicitly allowlisted by the user via `torch.serialization.add_safe_globals`. We recommend you start setting `weights_only=True` for any use case where you don't have full control of the loaded file. Please open an issue on GitHub for any issues related to this experimental feature.\n",
            "  state_dict = torch.load(resolved_archive_file, map_location=\"cpu\")\n",
            "/usr/local/lib/python3.10/dist-packages/torch/nn/utils/weight_norm.py:143: FutureWarning: `torch.nn.utils.weight_norm` is deprecated in favor of `torch.nn.utils.parametrizations.weight_norm`.\n",
            "  WeightNorm.apply(module, name, dim)\n",
            "Some weights of the model checkpoint at facebook/wav2vec2-base were not used when initializing Wav2Vec2ForCTC: ['project_q.bias', 'quantizer.codevectors', 'project_q.weight', 'quantizer.weight_proj.weight', 'project_hid.weight', 'quantizer.weight_proj.bias', 'project_hid.bias']\n",
            "- This IS expected if you are initializing Wav2Vec2ForCTC from the checkpoint of a model trained on another task or with another architecture (e.g. initializing a BertForSequenceClassification model from a BertForPreTraining model).\n",
            "- This IS NOT expected if you are initializing Wav2Vec2ForCTC from the checkpoint of a model that you expect to be exactly identical (initializing a BertForSequenceClassification model from a BertForSequenceClassification model).\n",
            "Some weights of Wav2Vec2ForCTC were not initialized from the model checkpoint at facebook/wav2vec2-base and are newly initialized: ['lm_head.weight', 'lm_head.bias']\n",
            "You should probably TRAIN this model on a down-stream task to be able to use it for predictions and inference.\n"
          ]
        }
      ]
    },
    {
      "cell_type": "markdown",
      "source": [
        "*Freeze the feature extraction (or feature encoder) layers of the model. This part of the model has been sufficiently trained during pretraining.*"
      ],
      "metadata": {
        "id": "l9N35BFlpEHD"
      }
    },
    {
      "cell_type": "code",
      "source": [
        "model.freeze_feature_encoder()"
      ],
      "metadata": {
        "id": "HHfZSuAK3oS8"
      },
      "execution_count": null,
      "outputs": []
    },
    {
      "cell_type": "markdown",
      "source": [
        "*Define all parameters related to training. Also, a checkpoint will be saved at the end of each epoch*"
      ],
      "metadata": {
        "id": "iIvVqakPpg77"
      }
    },
    {
      "cell_type": "code",
      "source": [
        "from transformers import TrainingArguments\n",
        "\n",
        "training_args = TrainingArguments(\n",
        "  output_dir=\"/content/drive/MyDrive/wav2vec2-large.saveDemo\",\n",
        "  save_strategy=\"epoch\",  # Save checkpoints at the end of each epoch\n",
        "  group_by_length=True,  #  group by length (disable to save memory)\n",
        "  per_device_train_batch_size=7,  # batch size(reduce it needed)\n",
        "  gradient_accumulation_steps=7,  # Use gradient accumulation\n",
        "  evaluation_strategy=\"steps\",\n",
        "  num_train_epochs=7,  # number of epochs (reduce if needed)\n",
        "  fp16=True,\n",
        "  gradient_checkpointing=True,\n",
        "  save_steps=500,\n",
        "  eval_steps=500,  # Increase eval_steps to save memory\n",
        "  logging_steps=500,\n",
        "  learning_rate=1e-4,\n",
        "  weight_decay=0.005,\n",
        "  warmup_steps=1000,\n",
        "  save_total_limit=2,  #number of saved checkpoints\n",
        ")\n"
      ],
      "metadata": {
        "id": "LceFyc193oQD"
      },
      "execution_count": null,
      "outputs": []
    },
    {
      "cell_type": "markdown",
      "source": [
        "*Pass all instances to the Trainer*"
      ],
      "metadata": {
        "id": "RufwnBzcp3mi"
      }
    },
    {
      "cell_type": "code",
      "source": [
        "from transformers import Trainer\n",
        "\n",
        "trainer = Trainer(\n",
        "    model=model,\n",
        "    data_collator=data_collator,\n",
        "    args=training_args,\n",
        "    compute_metrics=compute_metrics,\n",
        "    train_dataset=timit[\"train\"],\n",
        "    eval_dataset=timit[\"test\"],\n",
        "    tokenizer=processor.feature_extractor,\n",
        ")"
      ],
      "metadata": {
        "colab": {
          "base_uri": "https://localhost:8080/"
        },
        "id": "-P7Gx9-i3oMJ",
        "outputId": "df92d648-b74a-4dfe-c904-a9f96e0fedf5"
      },
      "execution_count": null,
      "outputs": [
        {
          "output_type": "stream",
          "name": "stderr",
          "text": [
            "Using amp half precision backend\n",
            "/usr/local/lib/python3.10/dist-packages/transformers/trainer.py:474: FutureWarning: `torch.cuda.amp.GradScaler(args...)` is deprecated. Please use `torch.amp.GradScaler('cuda', args...)` instead.\n",
            "  self.scaler = torch.cuda.amp.GradScaler()\n"
          ]
        }
      ]
    },
    {
      "cell_type": "markdown",
      "source": [
        "# Training"
      ],
      "metadata": {
        "id": "HCFJ6_ZNqPln"
      }
    },
    {
      "cell_type": "code",
      "source": [
        "trainer.train()"
      ],
      "metadata": {
        "colab": {
          "base_uri": "https://localhost:8080/",
          "height": 1000
        },
        "id": "WVTDDvS13oJa",
        "outputId": "223487fd-7172-4e53-ac6e-544e46771e3d"
      },
      "execution_count": null,
      "outputs": [
        {
          "output_type": "stream",
          "name": "stderr",
          "text": [
            "The following columns in the training set  don't have a corresponding argument in `Wav2Vec2ForCTC.forward` and have been ignored: input_length. If input_length are not expected by `Wav2Vec2ForCTC.forward`,  you can safely ignore this message.\n",
            "/usr/local/lib/python3.10/dist-packages/transformers/optimization.py:306: FutureWarning: This implementation of AdamW is deprecated and will be removed in a future version. Use the PyTorch implementation torch.optim.AdamW instead, or set `no_deprecation_warning=True` to disable this warning\n",
            "  warnings.warn(\n",
            "***** Running training *****\n",
            "  Num examples = 3978\n",
            "  Num Epochs = 7\n",
            "  Instantaneous batch size per device = 7\n",
            "  Total train batch size (w. parallel, distributed & accumulation) = 49\n",
            "  Gradient Accumulation steps = 7\n",
            "  Total optimization steps = 567\n",
            "Automatic Weights & Biases logging enabled, to disable set os.environ[\"WANDB_DISABLED\"] = \"true\"\n",
            "\u001b[34m\u001b[1mwandb\u001b[0m: Using wandb-core as the SDK backend.  Please refer to https://wandb.me/wandb-core for more information.\n"
          ]
        },
        {
          "output_type": "display_data",
          "data": {
            "text/plain": [
              "<IPython.core.display.Javascript object>"
            ],
            "application/javascript": [
              "\n",
              "        window._wandbApiKey = new Promise((resolve, reject) => {\n",
              "            function loadScript(url) {\n",
              "            return new Promise(function(resolve, reject) {\n",
              "                let newScript = document.createElement(\"script\");\n",
              "                newScript.onerror = reject;\n",
              "                newScript.onload = resolve;\n",
              "                document.body.appendChild(newScript);\n",
              "                newScript.src = url;\n",
              "            });\n",
              "            }\n",
              "            loadScript(\"https://cdn.jsdelivr.net/npm/postmate/build/postmate.min.js\").then(() => {\n",
              "            const iframe = document.createElement('iframe')\n",
              "            iframe.style.cssText = \"width:0;height:0;border:none\"\n",
              "            document.body.appendChild(iframe)\n",
              "            const handshake = new Postmate({\n",
              "                container: iframe,\n",
              "                url: 'https://wandb.ai/authorize'\n",
              "            });\n",
              "            const timeout = setTimeout(() => reject(\"Couldn't auto authenticate\"), 5000)\n",
              "            handshake.then(function(child) {\n",
              "                child.on('authorize', data => {\n",
              "                    clearTimeout(timeout)\n",
              "                    resolve(data)\n",
              "                });\n",
              "            });\n",
              "            })\n",
              "        });\n",
              "    "
            ]
          },
          "metadata": {}
        },
        {
          "output_type": "stream",
          "name": "stderr",
          "text": [
            "\u001b[34m\u001b[1mwandb\u001b[0m: Logging into wandb.ai. (Learn how to deploy a W&B server locally: https://wandb.me/wandb-server)\n",
            "\u001b[34m\u001b[1mwandb\u001b[0m: You can find your API key in your browser here: https://wandb.ai/authorize\n",
            "wandb: Paste an API key from your profile and hit enter, or press ctrl+c to quit:"
          ]
        },
        {
          "name": "stdout",
          "output_type": "stream",
          "text": [
            " ··········\n"
          ]
        },
        {
          "output_type": "stream",
          "name": "stderr",
          "text": [
            "\u001b[34m\u001b[1mwandb\u001b[0m: Appending key for api.wandb.ai to your netrc file: /root/.netrc\n"
          ]
        },
        {
          "output_type": "display_data",
          "data": {
            "text/plain": [
              "<IPython.core.display.HTML object>"
            ],
            "text/html": [
              "Tracking run with wandb version 0.19.1"
            ]
          },
          "metadata": {}
        },
        {
          "output_type": "display_data",
          "data": {
            "text/plain": [
              "<IPython.core.display.HTML object>"
            ],
            "text/html": [
              "Run data is saved locally in <code>/content/wandb/run-20250105_070307-cfwbmmei</code>"
            ]
          },
          "metadata": {}
        },
        {
          "output_type": "display_data",
          "data": {
            "text/plain": [
              "<IPython.core.display.HTML object>"
            ],
            "text/html": [
              "Syncing run <strong><a href='https://wandb.ai/sandakiniwelathanthri-university-of-westminster/huggingface/runs/cfwbmmei' target=\"_blank\">/content/drive/MyDrive/wav2vec2-large.saveDemo</a></strong> to <a href='https://wandb.ai/sandakiniwelathanthri-university-of-westminster/huggingface' target=\"_blank\">Weights & Biases</a> (<a href='https://wandb.me/developer-guide' target=\"_blank\">docs</a>)<br>"
            ]
          },
          "metadata": {}
        },
        {
          "output_type": "display_data",
          "data": {
            "text/plain": [
              "<IPython.core.display.HTML object>"
            ],
            "text/html": [
              " View project at <a href='https://wandb.ai/sandakiniwelathanthri-university-of-westminster/huggingface' target=\"_blank\">https://wandb.ai/sandakiniwelathanthri-university-of-westminster/huggingface</a>"
            ]
          },
          "metadata": {}
        },
        {
          "output_type": "display_data",
          "data": {
            "text/plain": [
              "<IPython.core.display.HTML object>"
            ],
            "text/html": [
              " View run at <a href='https://wandb.ai/sandakiniwelathanthri-university-of-westminster/huggingface/runs/cfwbmmei' target=\"_blank\">https://wandb.ai/sandakiniwelathanthri-university-of-westminster/huggingface/runs/cfwbmmei</a>"
            ]
          },
          "metadata": {}
        },
        {
          "output_type": "stream",
          "name": "stderr",
          "text": [
            "/usr/local/lib/python3.10/dist-packages/transformers/trainer.py:1949: FutureWarning: `torch.cuda.amp.autocast(args...)` is deprecated. Please use `torch.amp.autocast('cuda', args...)` instead.\n",
            "  ctx_manager = autocast(dtype=self.amp_dtype)\n",
            "/usr/local/lib/python3.10/dist-packages/torch/_dynamo/eval_frame.py:632: UserWarning: torch.utils.checkpoint: the use_reentrant parameter should be passed explicitly. In version 2.5 we will raise an exception if use_reentrant is not passed. use_reentrant=False is recommended, but if you need to preserve the current default behavior, you can pass use_reentrant=True. Refer to docs for more details on the differences between the two variants.\n",
            "  return fn(*args, **kwargs)\n"
          ]
        },
        {
          "output_type": "display_data",
          "data": {
            "text/plain": [
              "<IPython.core.display.HTML object>"
            ],
            "text/html": [
              "\n",
              "    <div>\n",
              "      \n",
              "      <progress value='567' max='567' style='width:300px; height:20px; vertical-align: middle;'></progress>\n",
              "      [567/567 22:12, Epoch 6/7]\n",
              "    </div>\n",
              "    <table border=\"1\" class=\"dataframe\">\n",
              "  <thead>\n",
              " <tr style=\"text-align: left;\">\n",
              "      <th>Step</th>\n",
              "      <th>Training Loss</th>\n",
              "      <th>Validation Loss</th>\n",
              "      <th>Wer</th>\n",
              "    </tr>\n",
              "  </thead>\n",
              "  <tbody>\n",
              "    <tr>\n",
              "      <td>500</td>\n",
              "      <td>3.258800</td>\n",
              "      <td>0.837461</td>\n",
              "      <td>0.654469</td>\n",
              "    </tr>\n",
              "  </tbody>\n",
              "</table><p>"
            ]
          },
          "metadata": {}
        },
        {
          "output_type": "stream",
          "name": "stderr",
          "text": [
            "Saving model checkpoint to /content/drive/MyDrive/wav2vec2-large.saveDemo/checkpoint-81\n",
            "Configuration saved in /content/drive/MyDrive/wav2vec2-large.saveDemo/checkpoint-81/config.json\n",
            "Model weights saved in /content/drive/MyDrive/wav2vec2-large.saveDemo/checkpoint-81/pytorch_model.bin\n",
            "Feature extractor saved in /content/drive/MyDrive/wav2vec2-large.saveDemo/checkpoint-81/preprocessor_config.json\n",
            "/usr/local/lib/python3.10/dist-packages/transformers/trainer.py:1949: FutureWarning: `torch.cuda.amp.autocast(args...)` is deprecated. Please use `torch.amp.autocast('cuda', args...)` instead.\n",
            "  ctx_manager = autocast(dtype=self.amp_dtype)\n",
            "/usr/local/lib/python3.10/dist-packages/torch/_dynamo/eval_frame.py:632: UserWarning: torch.utils.checkpoint: the use_reentrant parameter should be passed explicitly. In version 2.5 we will raise an exception if use_reentrant is not passed. use_reentrant=False is recommended, but if you need to preserve the current default behavior, you can pass use_reentrant=True. Refer to docs for more details on the differences between the two variants.\n",
            "  return fn(*args, **kwargs)\n",
            "Saving model checkpoint to /content/drive/MyDrive/wav2vec2-large.saveDemo/checkpoint-162\n",
            "Configuration saved in /content/drive/MyDrive/wav2vec2-large.saveDemo/checkpoint-162/config.json\n",
            "Model weights saved in /content/drive/MyDrive/wav2vec2-large.saveDemo/checkpoint-162/pytorch_model.bin\n",
            "Feature extractor saved in /content/drive/MyDrive/wav2vec2-large.saveDemo/checkpoint-162/preprocessor_config.json\n",
            "/usr/local/lib/python3.10/dist-packages/transformers/trainer.py:1949: FutureWarning: `torch.cuda.amp.autocast(args...)` is deprecated. Please use `torch.amp.autocast('cuda', args...)` instead.\n",
            "  ctx_manager = autocast(dtype=self.amp_dtype)\n",
            "/usr/local/lib/python3.10/dist-packages/torch/_dynamo/eval_frame.py:632: UserWarning: torch.utils.checkpoint: the use_reentrant parameter should be passed explicitly. In version 2.5 we will raise an exception if use_reentrant is not passed. use_reentrant=False is recommended, but if you need to preserve the current default behavior, you can pass use_reentrant=True. Refer to docs for more details on the differences between the two variants.\n",
            "  return fn(*args, **kwargs)\n",
            "Saving model checkpoint to /content/drive/MyDrive/wav2vec2-large.saveDemo/checkpoint-243\n",
            "Configuration saved in /content/drive/MyDrive/wav2vec2-large.saveDemo/checkpoint-243/config.json\n",
            "Model weights saved in /content/drive/MyDrive/wav2vec2-large.saveDemo/checkpoint-243/pytorch_model.bin\n",
            "Feature extractor saved in /content/drive/MyDrive/wav2vec2-large.saveDemo/checkpoint-243/preprocessor_config.json\n",
            "Deleting older checkpoint [/content/drive/MyDrive/wav2vec2-large.saveDemo/checkpoint-81] due to args.save_total_limit\n",
            "/usr/local/lib/python3.10/dist-packages/transformers/trainer.py:1949: FutureWarning: `torch.cuda.amp.autocast(args...)` is deprecated. Please use `torch.amp.autocast('cuda', args...)` instead.\n",
            "  ctx_manager = autocast(dtype=self.amp_dtype)\n",
            "/usr/local/lib/python3.10/dist-packages/torch/_dynamo/eval_frame.py:632: UserWarning: torch.utils.checkpoint: the use_reentrant parameter should be passed explicitly. In version 2.5 we will raise an exception if use_reentrant is not passed. use_reentrant=False is recommended, but if you need to preserve the current default behavior, you can pass use_reentrant=True. Refer to docs for more details on the differences between the two variants.\n",
            "  return fn(*args, **kwargs)\n",
            "Saving model checkpoint to /content/drive/MyDrive/wav2vec2-large.saveDemo/checkpoint-324\n",
            "Configuration saved in /content/drive/MyDrive/wav2vec2-large.saveDemo/checkpoint-324/config.json\n",
            "Model weights saved in /content/drive/MyDrive/wav2vec2-large.saveDemo/checkpoint-324/pytorch_model.bin\n",
            "Feature extractor saved in /content/drive/MyDrive/wav2vec2-large.saveDemo/checkpoint-324/preprocessor_config.json\n",
            "Deleting older checkpoint [/content/drive/MyDrive/wav2vec2-large.saveDemo/checkpoint-162] due to args.save_total_limit\n",
            "/usr/local/lib/python3.10/dist-packages/transformers/trainer.py:1949: FutureWarning: `torch.cuda.amp.autocast(args...)` is deprecated. Please use `torch.amp.autocast('cuda', args...)` instead.\n",
            "  ctx_manager = autocast(dtype=self.amp_dtype)\n",
            "/usr/local/lib/python3.10/dist-packages/torch/_dynamo/eval_frame.py:632: UserWarning: torch.utils.checkpoint: the use_reentrant parameter should be passed explicitly. In version 2.5 we will raise an exception if use_reentrant is not passed. use_reentrant=False is recommended, but if you need to preserve the current default behavior, you can pass use_reentrant=True. Refer to docs for more details on the differences between the two variants.\n",
            "  return fn(*args, **kwargs)\n",
            "Saving model checkpoint to /content/drive/MyDrive/wav2vec2-large.saveDemo/checkpoint-405\n",
            "Configuration saved in /content/drive/MyDrive/wav2vec2-large.saveDemo/checkpoint-405/config.json\n",
            "Model weights saved in /content/drive/MyDrive/wav2vec2-large.saveDemo/checkpoint-405/pytorch_model.bin\n",
            "Feature extractor saved in /content/drive/MyDrive/wav2vec2-large.saveDemo/checkpoint-405/preprocessor_config.json\n",
            "Deleting older checkpoint [/content/drive/MyDrive/wav2vec2-large.saveDemo/checkpoint-243] due to args.save_total_limit\n",
            "/usr/local/lib/python3.10/dist-packages/transformers/trainer.py:1949: FutureWarning: `torch.cuda.amp.autocast(args...)` is deprecated. Please use `torch.amp.autocast('cuda', args...)` instead.\n",
            "  ctx_manager = autocast(dtype=self.amp_dtype)\n",
            "/usr/local/lib/python3.10/dist-packages/torch/_dynamo/eval_frame.py:632: UserWarning: torch.utils.checkpoint: the use_reentrant parameter should be passed explicitly. In version 2.5 we will raise an exception if use_reentrant is not passed. use_reentrant=False is recommended, but if you need to preserve the current default behavior, you can pass use_reentrant=True. Refer to docs for more details on the differences between the two variants.\n",
            "  return fn(*args, **kwargs)\n",
            "Saving model checkpoint to /content/drive/MyDrive/wav2vec2-large.saveDemo/checkpoint-486\n",
            "Configuration saved in /content/drive/MyDrive/wav2vec2-large.saveDemo/checkpoint-486/config.json\n",
            "Model weights saved in /content/drive/MyDrive/wav2vec2-large.saveDemo/checkpoint-486/pytorch_model.bin\n",
            "Feature extractor saved in /content/drive/MyDrive/wav2vec2-large.saveDemo/checkpoint-486/preprocessor_config.json\n",
            "Deleting older checkpoint [/content/drive/MyDrive/wav2vec2-large.saveDemo/checkpoint-324] due to args.save_total_limit\n",
            "/usr/local/lib/python3.10/dist-packages/transformers/trainer.py:1949: FutureWarning: `torch.cuda.amp.autocast(args...)` is deprecated. Please use `torch.amp.autocast('cuda', args...)` instead.\n",
            "  ctx_manager = autocast(dtype=self.amp_dtype)\n",
            "/usr/local/lib/python3.10/dist-packages/torch/_dynamo/eval_frame.py:632: UserWarning: torch.utils.checkpoint: the use_reentrant parameter should be passed explicitly. In version 2.5 we will raise an exception if use_reentrant is not passed. use_reentrant=False is recommended, but if you need to preserve the current default behavior, you can pass use_reentrant=True. Refer to docs for more details on the differences between the two variants.\n",
            "  return fn(*args, **kwargs)\n",
            "The following columns in the evaluation set  don't have a corresponding argument in `Wav2Vec2ForCTC.forward` and have been ignored: input_length. If input_length are not expected by `Wav2Vec2ForCTC.forward`,  you can safely ignore this message.\n",
            "***** Running Evaluation *****\n",
            "  Num examples = 1680\n",
            "  Batch size = 8\n",
            "Saving model checkpoint to /content/drive/MyDrive/wav2vec2-large.saveDemo/checkpoint-567\n",
            "Configuration saved in /content/drive/MyDrive/wav2vec2-large.saveDemo/checkpoint-567/config.json\n",
            "Model weights saved in /content/drive/MyDrive/wav2vec2-large.saveDemo/checkpoint-567/pytorch_model.bin\n",
            "Feature extractor saved in /content/drive/MyDrive/wav2vec2-large.saveDemo/checkpoint-567/preprocessor_config.json\n",
            "Deleting older checkpoint [/content/drive/MyDrive/wav2vec2-large.saveDemo/checkpoint-405] due to args.save_total_limit\n",
            "\n",
            "\n",
            "Training completed. Do not forget to share your model on huggingface.co/models =)\n",
            "\n",
            "\n"
          ]
        },
        {
          "output_type": "execute_result",
          "data": {
            "text/plain": [
              "TrainOutput(global_step=567, training_loss=2.959879866773279, metrics={'train_runtime': 1446.7403, 'train_samples_per_second': 19.247, 'train_steps_per_second': 0.392, 'total_flos': 7.141618011312548e+17, 'train_loss': 2.959879866773279, 'epoch': 7.0})"
            ]
          },
          "metadata": {},
          "execution_count": 33
        }
      ]
    },
    {
      "cell_type": "markdown",
      "source": [
        "*Continue training the model to improve. However due to computational complexity the model will be only trained for a limited number of epochs.*"
      ],
      "metadata": {
        "id": "Wrg3twxxqpKN"
      }
    },
    {
      "cell_type": "code",
      "source": [
        "# Specify the directory where the model and checkpoints are saved\n",
        "checkpoint_dir = \"/content/drive/MyDrive/wav2vec2-large.saveDemo/checkpoint-567\"\n",
        "\n",
        "# Reload the model and tokenizer (using the same model and processor used before)\n",
        "model = Wav2Vec2ForCTC.from_pretrained(checkpoint_dir)\n",
        "processor = Wav2Vec2Processor.from_pretrained(checkpoint_dir)\n",
        "\n",
        "\n",
        "from transformers import TrainingArguments\n",
        "\n",
        "training_args = TrainingArguments(\n",
        "    output_dir=\"/content/drive/MyDrive/wav2vec2-large.saveDemo\",  # Keep saving the new checkpoints\n",
        "     save_strategy=\"epoch\",\n",
        "    num_train_epochs=2,  # Train for 2 more epochs\n",
        "    group_by_length=True,\n",
        "    resume_from_checkpoint=True,  # This resumes from the last checkpoint saved\n",
        "    per_device_train_batch_size=3,\n",
        "    gradient_accumulation_steps=3,\n",
        "    evaluation_strategy=\"steps\",\n",
        "    fp16=True,\n",
        "    gradient_checkpointing=True,\n",
        "    eval_steps=500,\n",
        "    save_steps=500,  # Save checkpoints every 500 steps\n",
        "  logging_steps=500,\n",
        "  learning_rate=1e-4,\n",
        "  weight_decay=0.005,\n",
        "  warmup_steps=1000,\n",
        "  save_total_limit=2,  # Limit the number of saved checkpoints\n",
        ")\n",
        "\n",
        "\n",
        "# Create Trainer instance for continued training\n",
        "trainer = Trainer(\n",
        "    model=model,\n",
        "    data_collator=data_collator,\n",
        "    args=training_args,\n",
        "    compute_metrics=compute_metrics,\n",
        "    train_dataset=timit[\"train\"],\n",
        "    eval_dataset=timit[\"test\"],\n",
        "    tokenizer=processor.feature_extractor,\n",
        ")\n"
      ],
      "metadata": {
        "colab": {
          "base_uri": "https://localhost:8080/"
        },
        "id": "HQnCeziWXMxH",
        "outputId": "a8d70abf-c12c-497f-cba6-5ef4c595c7f8"
      },
      "execution_count": null,
      "outputs": [
        {
          "output_type": "stream",
          "name": "stderr",
          "text": [
            "loading configuration file /content/drive/MyDrive/wav2vec2-large.saveDemo/checkpoint-567/config.json\n",
            "Model config Wav2Vec2Config {\n",
            "  \"_name_or_path\": \"facebook/wav2vec2-base\",\n",
            "  \"activation_dropout\": 0.0,\n",
            "  \"adapter_kernel_size\": 3,\n",
            "  \"adapter_stride\": 2,\n",
            "  \"add_adapter\": false,\n",
            "  \"apply_spec_augment\": true,\n",
            "  \"architectures\": [\n",
            "    \"Wav2Vec2ForCTC\"\n",
            "  ],\n",
            "  \"attention_dropout\": 0.1,\n",
            "  \"bos_token_id\": 1,\n",
            "  \"classifier_proj_size\": 256,\n",
            "  \"codevector_dim\": 256,\n",
            "  \"contrastive_logits_temperature\": 0.1,\n",
            "  \"conv_bias\": false,\n",
            "  \"conv_dim\": [\n",
            "    512,\n",
            "    512,\n",
            "    512,\n",
            "    512,\n",
            "    512,\n",
            "    512,\n",
            "    512\n",
            "  ],\n",
            "  \"conv_kernel\": [\n",
            "    10,\n",
            "    3,\n",
            "    3,\n",
            "    3,\n",
            "    3,\n",
            "    2,\n",
            "    2\n",
            "  ],\n",
            "  \"conv_stride\": [\n",
            "    5,\n",
            "    2,\n",
            "    2,\n",
            "    2,\n",
            "    2,\n",
            "    2,\n",
            "    2\n",
            "  ],\n",
            "  \"ctc_loss_reduction\": \"mean\",\n",
            "  \"ctc_zero_infinity\": false,\n",
            "  \"diversity_loss_weight\": 0.1,\n",
            "  \"do_stable_layer_norm\": false,\n",
            "  \"eos_token_id\": 2,\n",
            "  \"feat_extract_activation\": \"gelu\",\n",
            "  \"feat_extract_norm\": \"group\",\n",
            "  \"feat_proj_dropout\": 0.1,\n",
            "  \"feat_quantizer_dropout\": 0.0,\n",
            "  \"final_dropout\": 0.0,\n",
            "  \"freeze_feat_extract_train\": true,\n",
            "  \"hidden_act\": \"gelu\",\n",
            "  \"hidden_dropout\": 0.1,\n",
            "  \"hidden_size\": 768,\n",
            "  \"initializer_range\": 0.02,\n",
            "  \"intermediate_size\": 3072,\n",
            "  \"layer_norm_eps\": 1e-05,\n",
            "  \"layerdrop\": 0.0,\n",
            "  \"mask_channel_length\": 10,\n",
            "  \"mask_channel_min_space\": 1,\n",
            "  \"mask_channel_other\": 0.0,\n",
            "  \"mask_channel_prob\": 0.0,\n",
            "  \"mask_channel_selection\": \"static\",\n",
            "  \"mask_feature_length\": 10,\n",
            "  \"mask_feature_min_masks\": 0,\n",
            "  \"mask_feature_prob\": 0.0,\n",
            "  \"mask_time_length\": 10,\n",
            "  \"mask_time_min_masks\": 2,\n",
            "  \"mask_time_min_space\": 1,\n",
            "  \"mask_time_other\": 0.0,\n",
            "  \"mask_time_prob\": 0.05,\n",
            "  \"mask_time_selection\": \"static\",\n",
            "  \"model_type\": \"wav2vec2\",\n",
            "  \"no_mask_channel_overlap\": false,\n",
            "  \"no_mask_time_overlap\": false,\n",
            "  \"num_adapter_layers\": 3,\n",
            "  \"num_attention_heads\": 12,\n",
            "  \"num_codevector_groups\": 2,\n",
            "  \"num_codevectors_per_group\": 320,\n",
            "  \"num_conv_pos_embedding_groups\": 16,\n",
            "  \"num_conv_pos_embeddings\": 128,\n",
            "  \"num_feat_extract_layers\": 7,\n",
            "  \"num_hidden_layers\": 12,\n",
            "  \"num_negatives\": 100,\n",
            "  \"output_hidden_size\": 768,\n",
            "  \"pad_token_id\": 29,\n",
            "  \"proj_codevector_dim\": 256,\n",
            "  \"tdnn_dilation\": [\n",
            "    1,\n",
            "    2,\n",
            "    3,\n",
            "    1,\n",
            "    1\n",
            "  ],\n",
            "  \"tdnn_dim\": [\n",
            "    512,\n",
            "    512,\n",
            "    512,\n",
            "    512,\n",
            "    1500\n",
            "  ],\n",
            "  \"tdnn_kernel\": [\n",
            "    5,\n",
            "    3,\n",
            "    3,\n",
            "    1,\n",
            "    1\n",
            "  ],\n",
            "  \"torch_dtype\": \"float32\",\n",
            "  \"transformers_version\": \"4.17.0\",\n",
            "  \"use_weighted_layer_sum\": false,\n",
            "  \"vocab_size\": 32,\n",
            "  \"xvector_output_dim\": 512\n",
            "}\n",
            "\n",
            "loading weights file /content/drive/MyDrive/wav2vec2-large.saveDemo/checkpoint-567/pytorch_model.bin\n",
            "All model checkpoint weights were used when initializing Wav2Vec2ForCTC.\n",
            "\n",
            "All the weights of Wav2Vec2ForCTC were initialized from the model checkpoint at /content/drive/MyDrive/wav2vec2-large.saveDemo/checkpoint-567.\n",
            "If your task is similar to the task the model of the checkpoint was trained on, you can already use Wav2Vec2ForCTC for predictions without further training.\n",
            "loading feature extractor configuration file /content/drive/MyDrive/wav2vec2-large.saveDemo/checkpoint-567/preprocessor_config.json\n",
            "Feature extractor Wav2Vec2FeatureExtractor {\n",
            "  \"do_normalize\": true,\n",
            "  \"feature_extractor_type\": \"Wav2Vec2FeatureExtractor\",\n",
            "  \"feature_size\": 1,\n",
            "  \"padding_side\": \"right\",\n",
            "  \"padding_value\": 0.0,\n",
            "  \"processor_class\": \"Wav2Vec2Processor\",\n",
            "  \"return_attention_mask\": false,\n",
            "  \"sampling_rate\": 16000\n",
            "}\n",
            "\n",
            "Didn't find file /content/drive/MyDrive/wav2vec2-large.saveDemo/checkpoint-567/added_tokens.json. We won't load it.\n",
            "loading file /content/drive/MyDrive/wav2vec2-large.saveDemo/checkpoint-567/vocab.json\n",
            "loading file /content/drive/MyDrive/wav2vec2-large.saveDemo/checkpoint-567/tokenizer_config.json\n",
            "loading file None\n",
            "loading file /content/drive/MyDrive/wav2vec2-large.saveDemo/checkpoint-567/special_tokens_map.json\n",
            "Adding <s> to the vocabulary\n",
            "Adding </s> to the vocabulary\n",
            "Special tokens have been added in the vocabulary, make sure the associated word embeddings are fine-tuned or trained.\n",
            "PyTorch: setting up devices\n",
            "The default value for the training argument `--report_to` will change in v5 (from all installed integrations to none). In v5, you will need to use `--report_to all` to get the same behavior as now. You should start updating your code and make this info disappear :-).\n",
            "Using amp half precision backend\n"
          ]
        }
      ]
    },
    {
      "cell_type": "code",
      "source": [
        "# Start continued training for 2 more epochs\n",
        "trainer.train()\n"
      ],
      "metadata": {
        "id": "qBccl7yJ3oGn",
        "colab": {
          "base_uri": "https://localhost:8080/",
          "height": 751
        },
        "outputId": "a7acb560-e24c-4485-8362-39d203c9c3d7"
      },
      "execution_count": null,
      "outputs": [
        {
          "output_type": "stream",
          "name": "stderr",
          "text": [
            "The following columns in the training set  don't have a corresponding argument in `Wav2Vec2ForCTC.forward` and have been ignored: input_length. If input_length are not expected by `Wav2Vec2ForCTC.forward`,  you can safely ignore this message.\n",
            "***** Running training *****\n",
            "  Num examples = 3978\n",
            "  Num Epochs = 2\n",
            "  Instantaneous batch size per device = 3\n",
            "  Total train batch size (w. parallel, distributed & accumulation) = 9\n",
            "  Gradient Accumulation steps = 3\n",
            "  Total optimization steps = 884\n",
            "Automatic Weights & Biases logging enabled, to disable set os.environ[\"WANDB_DISABLED\"] = \"true\"\n"
          ]
        },
        {
          "output_type": "display_data",
          "data": {
            "text/plain": [
              "<IPython.core.display.HTML object>"
            ],
            "text/html": [
              "\n",
              "    <div>\n",
              "      \n",
              "      <progress value='884' max='884' style='width:300px; height:20px; vertical-align: middle;'></progress>\n",
              "      [884/884 10:05, Epoch 2/2]\n",
              "    </div>\n",
              "    <table border=\"1\" class=\"dataframe\">\n",
              "  <thead>\n",
              " <tr style=\"text-align: left;\">\n",
              "      <th>Step</th>\n",
              "      <th>Training Loss</th>\n",
              "      <th>Validation Loss</th>\n",
              "      <th>Wer</th>\n",
              "    </tr>\n",
              "  </thead>\n",
              "  <tbody>\n",
              "    <tr>\n",
              "      <td>500</td>\n",
              "      <td>0.518500</td>\n",
              "      <td>0.480802</td>\n",
              "      <td>0.499414</td>\n",
              "    </tr>\n",
              "  </tbody>\n",
              "</table><p>"
            ]
          },
          "metadata": {}
        },
        {
          "output_type": "stream",
          "name": "stderr",
          "text": [
            "Saving model checkpoint to /content/drive/MyDrive/wav2vec2-large.saveDemo/checkpoint-442\n",
            "Configuration saved in /content/drive/MyDrive/wav2vec2-large.saveDemo/checkpoint-442/config.json\n",
            "Model weights saved in /content/drive/MyDrive/wav2vec2-large.saveDemo/checkpoint-442/pytorch_model.bin\n",
            "Feature extractor saved in /content/drive/MyDrive/wav2vec2-large.saveDemo/checkpoint-442/preprocessor_config.json\n",
            "Deleting older checkpoint [/content/drive/MyDrive/wav2vec2-large.saveDemo/checkpoint-486] due to args.save_total_limit\n",
            "/usr/local/lib/python3.10/dist-packages/transformers/trainer.py:1949: FutureWarning: `torch.cuda.amp.autocast(args...)` is deprecated. Please use `torch.amp.autocast('cuda', args...)` instead.\n",
            "  ctx_manager = autocast(dtype=self.amp_dtype)\n",
            "/usr/local/lib/python3.10/dist-packages/torch/_dynamo/eval_frame.py:632: UserWarning: torch.utils.checkpoint: the use_reentrant parameter should be passed explicitly. In version 2.5 we will raise an exception if use_reentrant is not passed. use_reentrant=False is recommended, but if you need to preserve the current default behavior, you can pass use_reentrant=True. Refer to docs for more details on the differences between the two variants.\n",
            "  return fn(*args, **kwargs)\n",
            "The following columns in the evaluation set  don't have a corresponding argument in `Wav2Vec2ForCTC.forward` and have been ignored: input_length. If input_length are not expected by `Wav2Vec2ForCTC.forward`,  you can safely ignore this message.\n",
            "***** Running Evaluation *****\n",
            "  Num examples = 1680\n",
            "  Batch size = 8\n",
            "Saving model checkpoint to /content/drive/MyDrive/wav2vec2-large.saveDemo/checkpoint-884\n",
            "Configuration saved in /content/drive/MyDrive/wav2vec2-large.saveDemo/checkpoint-884/config.json\n",
            "Model weights saved in /content/drive/MyDrive/wav2vec2-large.saveDemo/checkpoint-884/pytorch_model.bin\n",
            "Feature extractor saved in /content/drive/MyDrive/wav2vec2-large.saveDemo/checkpoint-884/preprocessor_config.json\n",
            "Deleting older checkpoint [/content/drive/MyDrive/wav2vec2-large.saveDemo/checkpoint-567] due to args.save_total_limit\n",
            "\n",
            "\n",
            "Training completed. Do not forget to share your model on huggingface.co/models =)\n",
            "\n",
            "\n"
          ]
        },
        {
          "output_type": "execute_result",
          "data": {
            "text/plain": [
              "TrainOutput(global_step=884, training_loss=0.4829049088836256, metrics={'train_runtime': 606.3118, 'train_samples_per_second': 13.122, 'train_steps_per_second': 1.458, 'total_flos': 2.0380024724207616e+17, 'train_loss': 0.4829049088836256, 'epoch': 2.0})"
            ]
          },
          "metadata": {},
          "execution_count": 40
        }
      ]
    },
    {
      "cell_type": "markdown",
      "source": [
        "## **Model Evaluation**"
      ],
      "metadata": {
        "id": "fKpIwmc6e9q-"
      }
    },
    {
      "cell_type": "markdown",
      "source": [
        "*Loading the processor and model after training.*"
      ],
      "metadata": {
        "id": "Z5TzLeGBvDgK"
      }
    },
    {
      "cell_type": "code",
      "source": [
        "processor = Wav2Vec2Processor.from_pretrained(\"/content/drive/MyDrive/wav2vec2-large.saveDemo/checkpoint-884\")"
      ],
      "metadata": {
        "colab": {
          "base_uri": "https://localhost:8080/"
        },
        "id": "7IGi-G-bfCb2",
        "outputId": "816b1cc6-4e55-4d95-989d-1fd28a4416b0"
      },
      "execution_count": null,
      "outputs": [
        {
          "output_type": "stream",
          "name": "stderr",
          "text": [
            "loading feature extractor configuration file /content/drive/MyDrive/wav2vec2-large.saveDemo/checkpoint-884/preprocessor_config.json\n",
            "Feature extractor Wav2Vec2FeatureExtractor {\n",
            "  \"do_normalize\": true,\n",
            "  \"feature_extractor_type\": \"Wav2Vec2FeatureExtractor\",\n",
            "  \"feature_size\": 1,\n",
            "  \"padding_side\": \"right\",\n",
            "  \"padding_value\": 0.0,\n",
            "  \"processor_class\": \"Wav2Vec2Processor\",\n",
            "  \"return_attention_mask\": false,\n",
            "  \"sampling_rate\": 16000\n",
            "}\n",
            "\n",
            "Didn't find file /content/drive/MyDrive/wav2vec2-large.saveDemo/checkpoint-884/added_tokens.json. We won't load it.\n",
            "loading file /content/drive/MyDrive/wav2vec2-large.saveDemo/checkpoint-884/vocab.json\n",
            "loading file /content/drive/MyDrive/wav2vec2-large.saveDemo/checkpoint-884/tokenizer_config.json\n",
            "loading file None\n",
            "loading file /content/drive/MyDrive/wav2vec2-large.saveDemo/checkpoint-884/special_tokens_map.json\n",
            "Adding <s> to the vocabulary\n",
            "Adding </s> to the vocabulary\n",
            "Special tokens have been added in the vocabulary, make sure the associated word embeddings are fine-tuned or trained.\n"
          ]
        }
      ]
    },
    {
      "cell_type": "code",
      "source": [
        "model = Wav2Vec2ForCTC.from_pretrained(\"/content/drive/MyDrive/wav2vec2-large.saveDemo/checkpoint-884\").cuda()"
      ],
      "metadata": {
        "colab": {
          "base_uri": "https://localhost:8080/"
        },
        "id": "q-u5iVKNfCYX",
        "outputId": "38252f1d-7d12-4c02-d5a5-85dbb7cfdd0e"
      },
      "execution_count": null,
      "outputs": [
        {
          "output_type": "stream",
          "name": "stderr",
          "text": [
            "loading configuration file /content/drive/MyDrive/wav2vec2-large.saveDemo/checkpoint-884/config.json\n",
            "Model config Wav2Vec2Config {\n",
            "  \"_name_or_path\": \"/content/drive/MyDrive/wav2vec2-large.saveDemo/checkpoint-567\",\n",
            "  \"activation_dropout\": 0.0,\n",
            "  \"adapter_kernel_size\": 3,\n",
            "  \"adapter_stride\": 2,\n",
            "  \"add_adapter\": false,\n",
            "  \"apply_spec_augment\": true,\n",
            "  \"architectures\": [\n",
            "    \"Wav2Vec2ForCTC\"\n",
            "  ],\n",
            "  \"attention_dropout\": 0.1,\n",
            "  \"bos_token_id\": 1,\n",
            "  \"classifier_proj_size\": 256,\n",
            "  \"codevector_dim\": 256,\n",
            "  \"contrastive_logits_temperature\": 0.1,\n",
            "  \"conv_bias\": false,\n",
            "  \"conv_dim\": [\n",
            "    512,\n",
            "    512,\n",
            "    512,\n",
            "    512,\n",
            "    512,\n",
            "    512,\n",
            "    512\n",
            "  ],\n",
            "  \"conv_kernel\": [\n",
            "    10,\n",
            "    3,\n",
            "    3,\n",
            "    3,\n",
            "    3,\n",
            "    2,\n",
            "    2\n",
            "  ],\n",
            "  \"conv_stride\": [\n",
            "    5,\n",
            "    2,\n",
            "    2,\n",
            "    2,\n",
            "    2,\n",
            "    2,\n",
            "    2\n",
            "  ],\n",
            "  \"ctc_loss_reduction\": \"mean\",\n",
            "  \"ctc_zero_infinity\": false,\n",
            "  \"diversity_loss_weight\": 0.1,\n",
            "  \"do_stable_layer_norm\": false,\n",
            "  \"eos_token_id\": 2,\n",
            "  \"feat_extract_activation\": \"gelu\",\n",
            "  \"feat_extract_norm\": \"group\",\n",
            "  \"feat_proj_dropout\": 0.1,\n",
            "  \"feat_quantizer_dropout\": 0.0,\n",
            "  \"final_dropout\": 0.0,\n",
            "  \"freeze_feat_extract_train\": true,\n",
            "  \"hidden_act\": \"gelu\",\n",
            "  \"hidden_dropout\": 0.1,\n",
            "  \"hidden_size\": 768,\n",
            "  \"initializer_range\": 0.02,\n",
            "  \"intermediate_size\": 3072,\n",
            "  \"layer_norm_eps\": 1e-05,\n",
            "  \"layerdrop\": 0.0,\n",
            "  \"mask_channel_length\": 10,\n",
            "  \"mask_channel_min_space\": 1,\n",
            "  \"mask_channel_other\": 0.0,\n",
            "  \"mask_channel_prob\": 0.0,\n",
            "  \"mask_channel_selection\": \"static\",\n",
            "  \"mask_feature_length\": 10,\n",
            "  \"mask_feature_min_masks\": 0,\n",
            "  \"mask_feature_prob\": 0.0,\n",
            "  \"mask_time_length\": 10,\n",
            "  \"mask_time_min_masks\": 2,\n",
            "  \"mask_time_min_space\": 1,\n",
            "  \"mask_time_other\": 0.0,\n",
            "  \"mask_time_prob\": 0.05,\n",
            "  \"mask_time_selection\": \"static\",\n",
            "  \"model_type\": \"wav2vec2\",\n",
            "  \"no_mask_channel_overlap\": false,\n",
            "  \"no_mask_time_overlap\": false,\n",
            "  \"num_adapter_layers\": 3,\n",
            "  \"num_attention_heads\": 12,\n",
            "  \"num_codevector_groups\": 2,\n",
            "  \"num_codevectors_per_group\": 320,\n",
            "  \"num_conv_pos_embedding_groups\": 16,\n",
            "  \"num_conv_pos_embeddings\": 128,\n",
            "  \"num_feat_extract_layers\": 7,\n",
            "  \"num_hidden_layers\": 12,\n",
            "  \"num_negatives\": 100,\n",
            "  \"output_hidden_size\": 768,\n",
            "  \"pad_token_id\": 29,\n",
            "  \"proj_codevector_dim\": 256,\n",
            "  \"tdnn_dilation\": [\n",
            "    1,\n",
            "    2,\n",
            "    3,\n",
            "    1,\n",
            "    1\n",
            "  ],\n",
            "  \"tdnn_dim\": [\n",
            "    512,\n",
            "    512,\n",
            "    512,\n",
            "    512,\n",
            "    1500\n",
            "  ],\n",
            "  \"tdnn_kernel\": [\n",
            "    5,\n",
            "    3,\n",
            "    3,\n",
            "    1,\n",
            "    1\n",
            "  ],\n",
            "  \"torch_dtype\": \"float32\",\n",
            "  \"transformers_version\": \"4.17.0\",\n",
            "  \"use_weighted_layer_sum\": false,\n",
            "  \"vocab_size\": 32,\n",
            "  \"xvector_output_dim\": 512\n",
            "}\n",
            "\n",
            "loading weights file /content/drive/MyDrive/wav2vec2-large.saveDemo/checkpoint-884/pytorch_model.bin\n",
            "/usr/local/lib/python3.10/dist-packages/transformers/modeling_utils.py:1439: FutureWarning: You are using `torch.load` with `weights_only=False` (the current default value), which uses the default pickle module implicitly. It is possible to construct malicious pickle data which will execute arbitrary code during unpickling (See https://github.com/pytorch/pytorch/blob/main/SECURITY.md#untrusted-models for more details). In a future release, the default value for `weights_only` will be flipped to `True`. This limits the functions that could be executed during unpickling. Arbitrary objects will no longer be allowed to be loaded via this mode unless they are explicitly allowlisted by the user via `torch.serialization.add_safe_globals`. We recommend you start setting `weights_only=True` for any use case where you don't have full control of the loaded file. Please open an issue on GitHub for any issues related to this experimental feature.\n",
            "  state_dict = torch.load(resolved_archive_file, map_location=\"cpu\")\n",
            "/usr/local/lib/python3.10/dist-packages/torch/nn/utils/weight_norm.py:143: FutureWarning: `torch.nn.utils.weight_norm` is deprecated in favor of `torch.nn.utils.parametrizations.weight_norm`.\n",
            "  WeightNorm.apply(module, name, dim)\n",
            "All model checkpoint weights were used when initializing Wav2Vec2ForCTC.\n",
            "\n",
            "All the weights of Wav2Vec2ForCTC were initialized from the model checkpoint at /content/drive/MyDrive/wav2vec2-large.saveDemo/checkpoint-884.\n",
            "If your task is similar to the task the model of the checkpoint was trained on, you can already use Wav2Vec2ForCTC for predictions without further training.\n"
          ]
        }
      ]
    },
    {
      "cell_type": "markdown",
      "source": [
        "*Use the `map(...)` function to predict the transcription of every test sample and to save the prediction in the dataset itself. The dictionary will be called as `results`*"
      ],
      "metadata": {
        "id": "lOygLaJHvtBh"
      }
    },
    {
      "cell_type": "code",
      "source": [
        "def map_to_result(batch):\n",
        "  with torch.no_grad():\n",
        "    input_values = torch.tensor(batch[\"input_values\"], device=\"cuda\").unsqueeze(0)\n",
        "    logits = model(input_values).logits\n",
        "\n",
        "  pred_ids = torch.argmax(logits, dim=-1)\n",
        "  batch[\"pred_str\"] = processor.batch_decode(pred_ids)[0]\n",
        "  batch[\"text\"] = processor.decode(batch[\"labels\"], group_tokens=False)\n",
        "\n",
        "  return batch"
      ],
      "metadata": {
        "id": "V00c9-GzeuEP"
      },
      "execution_count": null,
      "outputs": []
    },
    {
      "cell_type": "code",
      "source": [
        "results = timit[\"test\"].map(map_to_result, remove_columns=timit[\"test\"].column_names)"
      ],
      "metadata": {
        "id": "PgXK7615c_J8",
        "colab": {
          "base_uri": "https://localhost:8080/",
          "height": 49,
          "referenced_widgets": [
            "5e0bb0d50bcf41309ef3e7b64ac5018b",
            "625a526b5d854948beecdf6ee09b75dd",
            "b95d3c7dfde0443e8f263b66983c0bf8",
            "4ec957170d394d73b2c6fde4a3c4b295",
            "39958dae84ac4d38b9a32e350c87031d",
            "dae9f1d682964307bb944dc21f59fae9",
            "7254545b9dbe4cb187102fbd693d696c",
            "eaedb4d51ce74d13b1205d0df1afb68b",
            "4435637419c14664a218727a0f9bbe7d",
            "b2080311a63345e3b7032a6502c2f129",
            "9ad2ed2956974432b3d292f5fa84ed4b"
          ]
        },
        "outputId": "955d5810-85cf-422f-8ab1-4026d9869b5f"
      },
      "execution_count": null,
      "outputs": [
        {
          "output_type": "display_data",
          "data": {
            "text/plain": [
              "0ex [00:00, ?ex/s]"
            ],
            "application/vnd.jupyter.widget-view+json": {
              "version_major": 2,
              "version_minor": 0,
              "model_id": "5e0bb0d50bcf41309ef3e7b64ac5018b"
            }
          },
          "metadata": {}
        }
      ]
    },
    {
      "cell_type": "markdown",
      "source": [
        "*Compute the overall WER.*"
      ],
      "metadata": {
        "id": "CCUWPpN-wRlc"
      }
    },
    {
      "cell_type": "code",
      "source": [
        "print(\"Test WER: {:.3f}\".format(wer_metric.compute(predictions=results[\"pred_str\"], references=results[\"text\"])))"
      ],
      "metadata": {
        "colab": {
          "base_uri": "https://localhost:8080/"
        },
        "id": "-0-tqz_MkFvV",
        "outputId": "5bbbf11e-3d71-4ece-9760-69139ba7486f"
      },
      "execution_count": null,
      "outputs": [
        {
          "output_type": "stream",
          "name": "stdout",
          "text": [
            "Test WER: 0.360\n"
          ]
        }
      ]
    },
    {
      "cell_type": "markdown",
      "source": [
        "A WER of 0.36 (36%) indicates that the model performs reasonably well given the limited training but leaves room for improvement. With additional training, the use of a language model, and potential data augmentation, the model's accuracy could be significantly enhanced. This result serves as a solid foundation for further fine-tuning and optimization."
      ],
      "metadata": {
        "id": "U50V66qvyEd4"
      }
    },
    {
      "cell_type": "markdown",
      "source": [
        "*some predictions to see what errors are made by the model.*"
      ],
      "metadata": {
        "id": "VA9LBKOBydd3"
      }
    },
    {
      "cell_type": "code",
      "source": [
        "# show_random_elements(results)\n",
        "\n",
        "import random\n",
        "import pandas as pd\n",
        "from IPython.display import display\n",
        "\n",
        "def show_random_elements_table(dataset, num_samples=20):\n",
        "    # Randomly select `num_samples` examples from the dataset\n",
        "    indices = random.sample(range(len(dataset)), num_samples)\n",
        "    samples = [dataset[i] for i in indices]\n",
        "\n",
        "    # Convert to a pandas DataFrame for better display\n",
        "    df = pd.DataFrame(samples)\n",
        "    display(df)\n",
        "\n",
        "# Example usage\n",
        "show_random_elements_table(results, num_samples=20)\n",
        "\n",
        "\n"
      ],
      "metadata": {
        "colab": {
          "base_uri": "https://localhost:8080/",
          "height": 1130
        },
        "id": "5OTIXFL1kqdv",
        "outputId": "1db8c03c-71d8-43b4-9f77-c64228aa1130"
      },
      "execution_count": null,
      "outputs": [
        {
          "output_type": "display_data",
          "data": {
            "text/plain": [
              "                                             pred_str  \\\n",
              "0                           how god is your indurance   \n",
              "1   the toth very forgot to come when roger's toth...   \n",
              "2   she sliped an spraingd her ankled on the step ...   \n",
              "3             famlly rashnain probly wil be necescary   \n",
              "4   she had your dark suit in greasy wash water al...   \n",
              "5   poch the apples in this sorup for twelve minet...   \n",
              "6   the neares cinigd may not be with thin walk in...   \n",
              "7              heers were luck would narmealy step in   \n",
              "8                           only loyers love milanars   \n",
              "9             bob papered over the living rome mearls   \n",
              "10        don't ask me to carry an oily rag like that   \n",
              "11  make lt for shigrble the saime as garly at orm...   \n",
              "12             please dig my petatos up before fraost   \n",
              "13        don't ask me to carry an oily rag like that   \n",
              "14               the small boy put the warm on the hk   \n",
              "15  to futher his prsstge he occasionaly reced the...   \n",
              "16  she had your dark suit in greasy wash water al...   \n",
              "17      drawp five farms in the baok before ou go out   \n",
              "18           petoeras are comvenioat for a cuick lnch   \n",
              "19              why yeallor woarry over seilly ittoms   \n",
              "\n",
              "                                                 text  \n",
              "0                          how good is your endurance  \n",
              "1   the tooth fairy forgot to come when roger's to...  \n",
              "2   she slipped and sprained her ankle on the stee...  \n",
              "3         family rationing probably will be necessary  \n",
              "4   she had your dark suit in greasy wash water al...  \n",
              "5   poach the apples in this syrup for twelve minu...  \n",
              "6   the nearest synagogue may not be within walkin...  \n",
              "7            here's where luck would normally step in  \n",
              "8                      only lawyers love millionaires  \n",
              "9             bob papered over the living room murals  \n",
              "10        don't ask me to carry an oily rag like that  \n",
              "11  make lid for sugar bowl the same as jar lids o...  \n",
              "12             please dig my potatoes up before frost  \n",
              "13        don't ask me to carry an oily rag like that  \n",
              "14             the small boy put the worm on the hook  \n",
              "15  to further his prestige he occasionally reads ...  \n",
              "16  she had your dark suit in greasy wash water al...  \n",
              "17       drop five forms in the box before you go out  \n",
              "18         pizzerias are convenient for a quick lunch  \n",
              "19                 why yell or worry over silly items  "
            ],
            "text/html": [
              "\n",
              "  <div id=\"df-e231830b-1b1e-47ed-8160-b350f8926cc5\" class=\"colab-df-container\">\n",
              "    <div>\n",
              "<style scoped>\n",
              "    .dataframe tbody tr th:only-of-type {\n",
              "        vertical-align: middle;\n",
              "    }\n",
              "\n",
              "    .dataframe tbody tr th {\n",
              "        vertical-align: top;\n",
              "    }\n",
              "\n",
              "    .dataframe thead th {\n",
              "        text-align: right;\n",
              "    }\n",
              "</style>\n",
              "<table border=\"1\" class=\"dataframe\">\n",
              "  <thead>\n",
              "    <tr style=\"text-align: right;\">\n",
              "      <th></th>\n",
              "      <th>pred_str</th>\n",
              "      <th>text</th>\n",
              "    </tr>\n",
              "  </thead>\n",
              "  <tbody>\n",
              "    <tr>\n",
              "      <th>0</th>\n",
              "      <td>how god is your indurance</td>\n",
              "      <td>how good is your endurance</td>\n",
              "    </tr>\n",
              "    <tr>\n",
              "      <th>1</th>\n",
              "      <td>the toth very forgot to come when roger's toth...</td>\n",
              "      <td>the tooth fairy forgot to come when roger's to...</td>\n",
              "    </tr>\n",
              "    <tr>\n",
              "      <th>2</th>\n",
              "      <td>she sliped an spraingd her ankled on the step ...</td>\n",
              "      <td>she slipped and sprained her ankle on the stee...</td>\n",
              "    </tr>\n",
              "    <tr>\n",
              "      <th>3</th>\n",
              "      <td>famlly rashnain probly wil be necescary</td>\n",
              "      <td>family rationing probably will be necessary</td>\n",
              "    </tr>\n",
              "    <tr>\n",
              "      <th>4</th>\n",
              "      <td>she had your dark suit in greasy wash water al...</td>\n",
              "      <td>she had your dark suit in greasy wash water al...</td>\n",
              "    </tr>\n",
              "    <tr>\n",
              "      <th>5</th>\n",
              "      <td>poch the apples in this sorup for twelve minet...</td>\n",
              "      <td>poach the apples in this syrup for twelve minu...</td>\n",
              "    </tr>\n",
              "    <tr>\n",
              "      <th>6</th>\n",
              "      <td>the neares cinigd may not be with thin walk in...</td>\n",
              "      <td>the nearest synagogue may not be within walkin...</td>\n",
              "    </tr>\n",
              "    <tr>\n",
              "      <th>7</th>\n",
              "      <td>heers were luck would narmealy step in</td>\n",
              "      <td>here's where luck would normally step in</td>\n",
              "    </tr>\n",
              "    <tr>\n",
              "      <th>8</th>\n",
              "      <td>only loyers love milanars</td>\n",
              "      <td>only lawyers love millionaires</td>\n",
              "    </tr>\n",
              "    <tr>\n",
              "      <th>9</th>\n",
              "      <td>bob papered over the living rome mearls</td>\n",
              "      <td>bob papered over the living room murals</td>\n",
              "    </tr>\n",
              "    <tr>\n",
              "      <th>10</th>\n",
              "      <td>don't ask me to carry an oily rag like that</td>\n",
              "      <td>don't ask me to carry an oily rag like that</td>\n",
              "    </tr>\n",
              "    <tr>\n",
              "      <th>11</th>\n",
              "      <td>make lt for shigrble the saime as garly at orm...</td>\n",
              "      <td>make lid for sugar bowl the same as jar lids o...</td>\n",
              "    </tr>\n",
              "    <tr>\n",
              "      <th>12</th>\n",
              "      <td>please dig my petatos up before fraost</td>\n",
              "      <td>please dig my potatoes up before frost</td>\n",
              "    </tr>\n",
              "    <tr>\n",
              "      <th>13</th>\n",
              "      <td>don't ask me to carry an oily rag like that</td>\n",
              "      <td>don't ask me to carry an oily rag like that</td>\n",
              "    </tr>\n",
              "    <tr>\n",
              "      <th>14</th>\n",
              "      <td>the small boy put the warm on the hk</td>\n",
              "      <td>the small boy put the worm on the hook</td>\n",
              "    </tr>\n",
              "    <tr>\n",
              "      <th>15</th>\n",
              "      <td>to futher his prsstge he occasionaly reced the...</td>\n",
              "      <td>to further his prestige he occasionally reads ...</td>\n",
              "    </tr>\n",
              "    <tr>\n",
              "      <th>16</th>\n",
              "      <td>she had your dark suit in greasy wash water al...</td>\n",
              "      <td>she had your dark suit in greasy wash water al...</td>\n",
              "    </tr>\n",
              "    <tr>\n",
              "      <th>17</th>\n",
              "      <td>drawp five farms in the baok before ou go out</td>\n",
              "      <td>drop five forms in the box before you go out</td>\n",
              "    </tr>\n",
              "    <tr>\n",
              "      <th>18</th>\n",
              "      <td>petoeras are comvenioat for a cuick lnch</td>\n",
              "      <td>pizzerias are convenient for a quick lunch</td>\n",
              "    </tr>\n",
              "    <tr>\n",
              "      <th>19</th>\n",
              "      <td>why yeallor woarry over seilly ittoms</td>\n",
              "      <td>why yell or worry over silly items</td>\n",
              "    </tr>\n",
              "  </tbody>\n",
              "</table>\n",
              "</div>\n",
              "    <div class=\"colab-df-buttons\">\n",
              "\n",
              "  <div class=\"colab-df-container\">\n",
              "    <button class=\"colab-df-convert\" onclick=\"convertToInteractive('df-e231830b-1b1e-47ed-8160-b350f8926cc5')\"\n",
              "            title=\"Convert this dataframe to an interactive table.\"\n",
              "            style=\"display:none;\">\n",
              "\n",
              "  <svg xmlns=\"http://www.w3.org/2000/svg\" height=\"24px\" viewBox=\"0 -960 960 960\">\n",
              "    <path d=\"M120-120v-720h720v720H120Zm60-500h600v-160H180v160Zm220 220h160v-160H400v160Zm0 220h160v-160H400v160ZM180-400h160v-160H180v160Zm440 0h160v-160H620v160ZM180-180h160v-160H180v160Zm440 0h160v-160H620v160Z\"/>\n",
              "  </svg>\n",
              "    </button>\n",
              "\n",
              "  <style>\n",
              "    .colab-df-container {\n",
              "      display:flex;\n",
              "      gap: 12px;\n",
              "    }\n",
              "\n",
              "    .colab-df-convert {\n",
              "      background-color: #E8F0FE;\n",
              "      border: none;\n",
              "      border-radius: 50%;\n",
              "      cursor: pointer;\n",
              "      display: none;\n",
              "      fill: #1967D2;\n",
              "      height: 32px;\n",
              "      padding: 0 0 0 0;\n",
              "      width: 32px;\n",
              "    }\n",
              "\n",
              "    .colab-df-convert:hover {\n",
              "      background-color: #E2EBFA;\n",
              "      box-shadow: 0px 1px 2px rgba(60, 64, 67, 0.3), 0px 1px 3px 1px rgba(60, 64, 67, 0.15);\n",
              "      fill: #174EA6;\n",
              "    }\n",
              "\n",
              "    .colab-df-buttons div {\n",
              "      margin-bottom: 4px;\n",
              "    }\n",
              "\n",
              "    [theme=dark] .colab-df-convert {\n",
              "      background-color: #3B4455;\n",
              "      fill: #D2E3FC;\n",
              "    }\n",
              "\n",
              "    [theme=dark] .colab-df-convert:hover {\n",
              "      background-color: #434B5C;\n",
              "      box-shadow: 0px 1px 3px 1px rgba(0, 0, 0, 0.15);\n",
              "      filter: drop-shadow(0px 1px 2px rgba(0, 0, 0, 0.3));\n",
              "      fill: #FFFFFF;\n",
              "    }\n",
              "  </style>\n",
              "\n",
              "    <script>\n",
              "      const buttonEl =\n",
              "        document.querySelector('#df-e231830b-1b1e-47ed-8160-b350f8926cc5 button.colab-df-convert');\n",
              "      buttonEl.style.display =\n",
              "        google.colab.kernel.accessAllowed ? 'block' : 'none';\n",
              "\n",
              "      async function convertToInteractive(key) {\n",
              "        const element = document.querySelector('#df-e231830b-1b1e-47ed-8160-b350f8926cc5');\n",
              "        const dataTable =\n",
              "          await google.colab.kernel.invokeFunction('convertToInteractive',\n",
              "                                                    [key], {});\n",
              "        if (!dataTable) return;\n",
              "\n",
              "        const docLinkHtml = 'Like what you see? Visit the ' +\n",
              "          '<a target=\"_blank\" href=https://colab.research.google.com/notebooks/data_table.ipynb>data table notebook</a>'\n",
              "          + ' to learn more about interactive tables.';\n",
              "        element.innerHTML = '';\n",
              "        dataTable['output_type'] = 'display_data';\n",
              "        await google.colab.output.renderOutput(dataTable, element);\n",
              "        const docLink = document.createElement('div');\n",
              "        docLink.innerHTML = docLinkHtml;\n",
              "        element.appendChild(docLink);\n",
              "      }\n",
              "    </script>\n",
              "  </div>\n",
              "\n",
              "\n",
              "<div id=\"df-3c8ae943-a7f9-4b11-9c0f-2befe63709c8\">\n",
              "  <button class=\"colab-df-quickchart\" onclick=\"quickchart('df-3c8ae943-a7f9-4b11-9c0f-2befe63709c8')\"\n",
              "            title=\"Suggest charts\"\n",
              "            style=\"display:none;\">\n",
              "\n",
              "<svg xmlns=\"http://www.w3.org/2000/svg\" height=\"24px\"viewBox=\"0 0 24 24\"\n",
              "     width=\"24px\">\n",
              "    <g>\n",
              "        <path d=\"M19 3H5c-1.1 0-2 .9-2 2v14c0 1.1.9 2 2 2h14c1.1 0 2-.9 2-2V5c0-1.1-.9-2-2-2zM9 17H7v-7h2v7zm4 0h-2V7h2v10zm4 0h-2v-4h2v4z\"/>\n",
              "    </g>\n",
              "</svg>\n",
              "  </button>\n",
              "\n",
              "<style>\n",
              "  .colab-df-quickchart {\n",
              "      --bg-color: #E8F0FE;\n",
              "      --fill-color: #1967D2;\n",
              "      --hover-bg-color: #E2EBFA;\n",
              "      --hover-fill-color: #174EA6;\n",
              "      --disabled-fill-color: #AAA;\n",
              "      --disabled-bg-color: #DDD;\n",
              "  }\n",
              "\n",
              "  [theme=dark] .colab-df-quickchart {\n",
              "      --bg-color: #3B4455;\n",
              "      --fill-color: #D2E3FC;\n",
              "      --hover-bg-color: #434B5C;\n",
              "      --hover-fill-color: #FFFFFF;\n",
              "      --disabled-bg-color: #3B4455;\n",
              "      --disabled-fill-color: #666;\n",
              "  }\n",
              "\n",
              "  .colab-df-quickchart {\n",
              "    background-color: var(--bg-color);\n",
              "    border: none;\n",
              "    border-radius: 50%;\n",
              "    cursor: pointer;\n",
              "    display: none;\n",
              "    fill: var(--fill-color);\n",
              "    height: 32px;\n",
              "    padding: 0;\n",
              "    width: 32px;\n",
              "  }\n",
              "\n",
              "  .colab-df-quickchart:hover {\n",
              "    background-color: var(--hover-bg-color);\n",
              "    box-shadow: 0 1px 2px rgba(60, 64, 67, 0.3), 0 1px 3px 1px rgba(60, 64, 67, 0.15);\n",
              "    fill: var(--button-hover-fill-color);\n",
              "  }\n",
              "\n",
              "  .colab-df-quickchart-complete:disabled,\n",
              "  .colab-df-quickchart-complete:disabled:hover {\n",
              "    background-color: var(--disabled-bg-color);\n",
              "    fill: var(--disabled-fill-color);\n",
              "    box-shadow: none;\n",
              "  }\n",
              "\n",
              "  .colab-df-spinner {\n",
              "    border: 2px solid var(--fill-color);\n",
              "    border-color: transparent;\n",
              "    border-bottom-color: var(--fill-color);\n",
              "    animation:\n",
              "      spin 1s steps(1) infinite;\n",
              "  }\n",
              "\n",
              "  @keyframes spin {\n",
              "    0% {\n",
              "      border-color: transparent;\n",
              "      border-bottom-color: var(--fill-color);\n",
              "      border-left-color: var(--fill-color);\n",
              "    }\n",
              "    20% {\n",
              "      border-color: transparent;\n",
              "      border-left-color: var(--fill-color);\n",
              "      border-top-color: var(--fill-color);\n",
              "    }\n",
              "    30% {\n",
              "      border-color: transparent;\n",
              "      border-left-color: var(--fill-color);\n",
              "      border-top-color: var(--fill-color);\n",
              "      border-right-color: var(--fill-color);\n",
              "    }\n",
              "    40% {\n",
              "      border-color: transparent;\n",
              "      border-right-color: var(--fill-color);\n",
              "      border-top-color: var(--fill-color);\n",
              "    }\n",
              "    60% {\n",
              "      border-color: transparent;\n",
              "      border-right-color: var(--fill-color);\n",
              "    }\n",
              "    80% {\n",
              "      border-color: transparent;\n",
              "      border-right-color: var(--fill-color);\n",
              "      border-bottom-color: var(--fill-color);\n",
              "    }\n",
              "    90% {\n",
              "      border-color: transparent;\n",
              "      border-bottom-color: var(--fill-color);\n",
              "    }\n",
              "  }\n",
              "</style>\n",
              "\n",
              "  <script>\n",
              "    async function quickchart(key) {\n",
              "      const quickchartButtonEl =\n",
              "        document.querySelector('#' + key + ' button');\n",
              "      quickchartButtonEl.disabled = true;  // To prevent multiple clicks.\n",
              "      quickchartButtonEl.classList.add('colab-df-spinner');\n",
              "      try {\n",
              "        const charts = await google.colab.kernel.invokeFunction(\n",
              "            'suggestCharts', [key], {});\n",
              "      } catch (error) {\n",
              "        console.error('Error during call to suggestCharts:', error);\n",
              "      }\n",
              "      quickchartButtonEl.classList.remove('colab-df-spinner');\n",
              "      quickchartButtonEl.classList.add('colab-df-quickchart-complete');\n",
              "    }\n",
              "    (() => {\n",
              "      let quickchartButtonEl =\n",
              "        document.querySelector('#df-3c8ae943-a7f9-4b11-9c0f-2befe63709c8 button');\n",
              "      quickchartButtonEl.style.display =\n",
              "        google.colab.kernel.accessAllowed ? 'block' : 'none';\n",
              "    })();\n",
              "  </script>\n",
              "</div>\n",
              "\n",
              "    </div>\n",
              "  </div>\n"
            ],
            "application/vnd.google.colaboratory.intrinsic+json": {
              "type": "dataframe",
              "summary": "{\n  \"name\": \"show_random_elements_table(results, num_samples=20)\",\n  \"rows\": 20,\n  \"fields\": [\n    {\n      \"column\": \"pred_str\",\n      \"properties\": {\n        \"dtype\": \"string\",\n        \"num_unique_values\": 18,\n        \"samples\": [\n          \"how god is your indurance\",\n          \"the toth very forgot to come when roger's toth feal out\",\n          \"only loyers love milanars\"\n        ],\n        \"semantic_type\": \"\",\n        \"description\": \"\"\n      }\n    },\n    {\n      \"column\": \"text\",\n      \"properties\": {\n        \"dtype\": \"string\",\n        \"num_unique_values\": 18,\n        \"samples\": [\n          \"how good is your endurance\",\n          \"the tooth fairy forgot to come when roger's tooth fell out\",\n          \"only lawyers love millionaires\"\n        ],\n        \"semantic_type\": \"\",\n        \"description\": \"\"\n      }\n    }\n  ]\n}"
            }
          },
          "metadata": {}
        },
        {
          "output_type": "display_data",
          "data": {
            "text/plain": [
              "<google.colab._quickchart_helpers.SectionTitle at 0x7e42f80e2770>"
            ],
            "text/html": [
              "<h4 class=\"colab-quickchart-section-title\">Distributions</h4>\n",
              "<style>\n",
              "  .colab-quickchart-section-title {\n",
              "      clear: both;\n",
              "  }\n",
              "</style>"
            ]
          },
          "metadata": {}
        },
        {
          "output_type": "display_data",
          "data": {
            "text/plain": [
              "from matplotlib import pyplot as plt\n",
              "_df_3['index'].plot(kind='hist', bins=20, title='index')\n",
              "plt.gca().spines[['top', 'right',]].set_visible(False)"
            ],
            "text/html": [
              "      <div class=\"colab-quickchart-chart-with-code\" id=\"chart-4213e6bb-1da5-4550-8f4c-5aff9ce46a35\">\n",
              "        <img style=\"width: 180px;\" src=\"data:image/png;base64,iVBORw0KGgoAAAANSUhEUgAAAioAAAGrCAYAAADuNLxTAAAAOXRFWHRTb2Z0d2FyZQBNYXRwbG90\n",
              "bGliIHZlcnNpb24zLjguMCwgaHR0cHM6Ly9tYXRwbG90bGliLm9yZy81sbWrAAAACXBIWXMAAA9h\n",
              "AAAPYQGoP6dpAAAezklEQVR4nO3df5BV9X3/8dd1124SFfAHFOKyUsTFH1EQA7XoJBonU00UrTid\n",
              "aIlQ5YdpOjaDUw1JnPqjDSRpbKyZ1PVHaQ1ToxXaUK3J1GqMRiOgiRqsAVTc1aI4WsEkirKc7x9O\n",
              "dtwvoCzuZT+7PB4zd4Z774fD+8zxjM+5e/aeWlVVVQAACrRHXw8AALA9QgUAKJZQAQCKJVQAgGIJ\n",
              "FQCgWEIFACiWUAEAiiVUAIBiCRUAoFhCBaibU045JVdeeeVO//3jjz8+l112We8NBPQ7jX09ADBw\n",
              "3XnnnX09AtDP+UQFACiWUAHq5oQTTshXvvKVJEmtVss111yT4447LnvvvXeOPPLI3H///V1rN2/e\n",
              "nIsvvjjDhw/P0KFDM2/evK229/zzz+ecc87JgQcemGHDhuXss8/OSy+9lCT50Y9+lL322ivLly9P\n",
              "klRVlU9/+tM57bTT4t6r0H8JFWCXueGGG/LP//zPefXVV3PSSSflT/7kT7re+/rXv55bb701d999\n",
              "d5577rk0NjbmoYce6np/06ZNOemkk/LhD384q1atytNPP53Gxsacc845Sd6OossuuyxnnXVWXn75\n",
              "5Vx55ZV58skn893vfje1Wm2X7yvQO4QKsMtcdNFFGTNmTBobGzNr1qy0t7fnxRdfTJIsXLgwF110\n",
              "UQ4//PA0NTXlsssuy7777tv1d++444689tpr+cY3vpG99tore++9dxYsWJC77rorzz33XJLkL//y\n",
              "LzNx4sScdNJJ+frXv57FixdnyJAhfbGrQC9xMS2wy3z4wx/u+vNee+2VJHnttdfyu7/7u3nuuefy\n",
              "e7/3e13vNzQ0pKWlpev56tWr8+KLL3aLlyRpampKe3t7mpubkyRz587Ncccdl7PPPjvjx4+v494A\n",
              "u4JQAYrQ3NyctWvXdj3v7OxMR0dH1/Phw4fnoIMOylNPPbXdbWzYsCHTp0/P+eefn1tvvTX/8R//\n",
              "kdNOO62eYwN15kc/QBGmT5+eb37zm3nyySezadOmXHHFFXnllVe63j/zzDPz1ltv5dJLL82GDRuS\n",
              "JOvXr88tt9yS5O2LZ6dPn56xY8fm+uuvT1tbW84999w8/fTTfbI/QO8QKkARLrnkkpx55pn5+Mc/\n",
              "nubm5rz55pv5/d///a7399lnnzz44INpb2/PkUcemUGDBmXy5Mn58Y9/nCT52te+lscee6zr4tmz\n",
              "zz4706ZNy9SpU/P666/31W4B71Ot8nt7AEChfKICABRLqAAAxRIqAECxhAoAUCyhAgAUS6gAAMUS\n",
              "KgBAsQZEqFx99dV9PQIAUAcDIlSeffbZvh4BAKiDAREqAMDAJFQAgGIJFQCgWEIFACiWUAEAiiVU\n",
              "AIBiCRUAoFhCBQAollABAIolVACAYgkVAKBYQgUAKFZdQ+XCCy/MqFGjUqvV8vOf/3y762688cYc\n",
              "csghOfjggzNr1qy89dZb9RwLAOgn6hoqZ511Vu6///4cdNBB213zzDPP5NJLL819992XNWvW5MUX\n",
              "X8x1111Xz7EAgH6irqHysY99LM3Nze+65rbbbsuUKVMyfPjw1Gq1XHDBBbn55pu3u37Tpk3ZuHFj\n",
              "t0dnZ2dvjw4AFKCxrwdob2/v9onLqFGj0t7evt318+fPz+WXX97ttWOPPbYus4364h112S4A9Bdr\n",
              "F3y6T//9fncx7bx587Jhw4Zuj0mTJvX1WABAHfT5JyotLS156qmnup6vXbs2LS0t213f1NSUpqam\n",
              "bq81NDTUbT4AoO/0+ScqU6dOzdKlS/PCCy+kqqpce+21+cxnPtPXYwEABahrqMyZMyfNzc157rnn\n",
              "8od/+IcZM2ZMkmTmzJlZunRpkmT06NG5/PLLc9xxx2XMmDEZOnRo5syZU8+xAIB+olZVVdXXQ7xf\n",
              "c+fOzVVXXdXr23UxLQC7OxfTAgBsh1ABAIolVACAYgkVAKBYQgUAKJZQAQCKJVQAgGIJFQCgWEIF\n",
              "ACiWUAEAiiVUAIBiCRUAoFhCBQAollABAIolVACAYgkVAKBYQgUAKJZQAQCKJVQAgGIJFQCgWEIF\n",
              "ACiWUAEAiiVUAIBiCRUAoFhCBQAollABAIolVACAYgkVAKBYQgUAKJZQAQCKJVQAgGIJFQCgWEIF\n",
              "ACiWUAEAiiVUAIBiCRUAoFhCBQAollABAIolVACAYgkVAKBYQgUAKJZQAQCKJVQAgGIJFQCgWEIF\n",
              "ACiWUAEAiiVUAIBiCRUAoFhCBQAollABAIolVACAYgkVAKBYQgUAKJZQAQCKJVQAgGIJFQCgWEIF\n",
              "ACiWUAEAiiVUAIBiCRUAoFhCBQAoVl1DZfXq1Zk8eXJaW1szceLErFy5cqs1W7Zsydy5c3P44Yfn\n",
              "qKOOyoknnpg1a9bUcywAoJ+oa6jMmTMns2fPzqpVq3LJJZdkxowZW61ZunRpfvKTn+TRRx/NY489\n",
              "lpNOOilf+tKX6jkWANBP1C1U1q9fnxUrVmTatGlJkqlTp6ajo2OrT0tqtVo2bdqUN954I1VVZePG\n",
              "jWlubq7XWABAP9JYrw13dHRkxIgRaWx8+5+o1WppaWlJe3t7xowZ07XutNNOyz333JPhw4dnn332\n",
              "yYEHHph77713u9vdtGlTNm3a1O21zs7O+uwEANCn+vxi2hUrVuQXv/hFnn/++fzv//5vTjrppFxw\n",
              "wQXbXT9//vwMHjy422PZsmW7cGIAYFepW6iMHDky69aty+bNm5MkVVWlvb09LS0t3dbddNNN+cQn\n",
              "PpEhQ4Zkjz32yPTp03PPPfdsd7vz5s3Lhg0buj0mTZpUr90AAPpQ3UJl2LBhmTBhQhYtWpQkWbx4\n",
              "cZqbm7v92CdJRo8enbvvvjtvvvlmkuT222/PRz7yke1ut6mpKYMGDer2aGhoqNduAAB9qG7XqCRJ\n",
              "W1tbZsyYka9+9asZNGhQFi5cmCSZOXNmpkyZkilTpuTzn/98/ud//ifjxo3LnnvumeHDh+faa6+t\n",
              "51gAQD9R11AZO3ZsHnzwwa1ev+GGG7r+3NTUlOuvv76eYwAA/VSfX0wLALA9QgUAKJZQAQCKJVQA\n",
              "gGIJFQCgWEIFACiWUAEAiiVUAIBiCRUAoFhCBQAollABAIolVACAYgkVAKBYQgUAKJZQAQCKJVQA\n",
              "gGIJFQCgWEIFACiWUAEAiiVUAIBiCRUAoFhCBQAollABAIolVACAYgkVAKBYQgUAKJZQAQCKJVQA\n",
              "gGIJFQCgWEIFACiWUAEAiiVUAIBiCRUAoFhCBQAollABAIolVACAYgkVAKBYQgUAKJZQAQCKJVQA\n",
              "gGIJFQCgWEIFACiWUAEAiiVUAIBiCRUAoFhCBQAollABAIolVACAYgkVAKBYQgUAKJZQAQCKJVQA\n",
              "gGIJFQCgWEIFACiWUAEAiiVUAIBiCRUAoFhCBQAollABAIolVACAYgkVAKBYQgUAKFZdQ2X16tWZ\n",
              "PHlyWltbM3HixKxcuXKb6x5//PGccMIJOeyww3LYYYdlyZIl9RwLAOgnGuu58Tlz5mT27NmZMWNG\n",
              "brvttsyYMSPLly/vtuY3v/lNTj/99Nx00005/vjj09nZmVdeeaWeYwEA/UTdPlFZv359VqxYkWnT\n",
              "piVJpk6dmo6OjqxZs6bbun/5l3/Jsccem+OPPz5J0tDQkKFDh253u5s2bcrGjRu7PTo7O+u1GwBA\n",
              "H6pbqHR0dGTEiBFpbHz7Q5tarZaWlpa0t7d3W/fEE0+kqakpp556asaPH59zzz03L7300na3O3/+\n",
              "/AwePLjbY9myZfXaDQCgD/U4VH74wx/26gCbN2/OXXfdlba2tvzsZz/LgQcemM997nPbXT9v3rxs\n",
              "2LCh22PSpEm9OhMAUIYeh8oVV1yRsWPH5uqrr87GjRu3u27kyJFZt25dNm/enCSpqirt7e1paWnp\n",
              "tq6lpSUnnnhiDjzwwNRqtUybNi0//elPt7vdpqamDBo0qNujoaGhp7sBAPQDPQ6Vn/zkJ/ne976X\n",
              "X/ziF2ltbc2f/dmf5Yknnthq3bBhwzJhwoQsWrQoSbJ48eI0NzdnzJgx3db98R//cZYvX94VPf/5\n",
              "n/+ZcePG7cy+AAADzE5do3L00Ufn+uuvzw9+8IPcfvvtOeqoo/LJT34yjz/+eLd1bW1taWtrS2tr\n",
              "axYsWJCFCxcmSWbOnJmlS5cmefsTlS996UuZPHlyjjrqqNx999259tpr3+duAQADwU79evJdd92V\n",
              "a665Jo8//ng+//nP5/zzz8+PfvSj/NEf/VG33+oZO3ZsHnzwwa3+/g033NDt+Wc/+9l89rOf3ZlR\n",
              "AIABrMehcthhh+WAAw7IhRdemDPPPLPr+pCzzjorN954Y68PCADsvnocKosWLcoxxxyzzffuvPPO\n",
              "9z0QAMBv9fgalYcffrjbN8e+/PLLuf7663t1KACAZCdC5Tvf+U7222+/ruf7779/vvOd7/TqUAAA\n",
              "yU6ESlVVW73mK+wBgHrocaiMGDEit956a9fzW265JSNGjOjVoQAAkp24mPZb3/pWTj/99Fx88cVJ\n",
              "kg996EP5/ve/3+uDAQD0OFQOPfTQPPHEE/nlL3+Z5O3vSvEV9gBAPezUF77VarUMGTIkmzdvzvPP\n",
              "P58kW93DBwDg/epxqPzTP/1TLrzwwuy5557ZY4+3L3Gp1WpZv359rw8HAOzeehwqV155ZZYvX56x\n",
              "Y8fWYx4AgC49/q2fAw44QKQAALtEj0PljDPOyLe+9a2sX78+Gzdu7HoAAPS2Hv/o58tf/nKSZO7c\n",
              "uanVaqmqKrVazZe+AQC9rsehsmXLlnrMAQCwlR7/6Cd5+8aE3/3ud5Mkr776atatW9erQwEAJDt5\n",
              "U8Lzzjsvl112WZK37558zjnn9PZcAAA9D5XrrrsuP/3pTzNo0KAkycEHH5yXXnqp1wcDAOhxqDQ1\n",
              "NeWDH/xgt9caG3fqC24BAN5Vj0Nl6NChWbVqVWq1WpK3v6nW1+cDAPWwU3dPPvvss/Pkk09m5MiR\n",
              "GTRoUG6//fZ6zAYA7OZ6HCpjxozJQw89lF/+8pepqsrdkwGAuulxqLS3tydJ9tprryRx92QAoG56\n",
              "HCrHHHNM1zfSvvHGG/nNb36T/fff392TAYBe1+NQ+f9/FXnJkiV59NFHe20gAIDf2qlvpn2nM888\n",
              "M3fccUdvzAIA0E2PP1F5552SOzs789BDD7l7MgBQFz0OlSFDhnRdo9LQ0JBDDjkkf//3f1+P2QCA\n",
              "3Zy7JwMAxXrf16gAANRLjz9R2WOPPbq+Pv+dqqpKrVZLZ2dnrwwGANDjULniiivy+uuv53Of+1yS\n",
              "5Nprr80HP/jBfOELX+jt2QCA3VyPQ+Xf/u3f8vDDD3c9/+u//uscc8wx+fKXv9yrgwEA9Pgaldde\n",
              "e63bt9CuX78+r732Wq8OBQCQ7MQnKhdddFHGjRuXT33qU0mSH/zgB7nssst6ey4AgJ6Hypw5c3Lc\n",
              "ccflnnvuSZLMnTs3RxxxRK8PBgDQ41BJkv333z9HHnlkTjjhhGzevDlvvvlmfud3fqe3ZwMAdnM9\n",
              "vkbltttuy7HHHps//dM/TZKsXLkyZ5xxRm/PBQDQ81CZP39+HnnkkQwZMiRJMm7cuDz77LO9PRcA\n",
              "QM9DpaGhIfvvv3+31/zYBwCohx6Hyj777JMXX3yx69tp//u//zv77bdfrw8GANDji2m/9rWv5ZRT\n",
              "TsnTTz+d448/Ps8880zuuOOOeswGAOzmehQqW7ZsSWdnZ+6555488MADqaoqkydP7rpeBQCgN/Uo\n",
              "VPbYY4/Mnj07jz76aE455ZR6zQQAkGQnrlE55JBDsmbNmnrMAgDQTY+vUXnllVcyfvz4TJ48OXvv\n",
              "vXfX60uWLOnVwQAAdjhUZs+eneuuuy7Tp0/PlClTsu+++9ZzLgCAHQ+VFStWJEmmT5+eCRMm5JFH\n",
              "HqnbUAAAyU5co5IkVVX19hwAAFvZ4U9UXn/99Tz++OOpqipvvPFG159/66ijjqrLgADA7qtHoTJl\n",
              "ypSu5+/8c61Wy9NPP927kwEAu70dDpW1a9fWcQwAgK3t1DUqAAC7glABAIolVACAYgkVAKBYQgUA\n",
              "KJZQAQCKJVQAgGIJFQCgWEIFAChWXUNl9erVmTx5clpbWzNx4sSsXLlyu2urqsonPvGJDBkypJ4j\n",
              "AQD9SF1DZc6cOZk9e3ZWrVqVSy65JDNmzNju2r/7u7/LwQcfXM9xAIB+pm6hsn79+qxYsSLTpk1L\n",
              "kkydOjUdHR1Zs2bNVmtXrlyZf//3f88Xv/jF99zupk2bsnHjxm6Pzs7OXp8fAOh7dQuVjo6OjBgx\n",
              "Io2Nb9/3sFarpaWlJe3t7d3WvfXWW5k1a1ba2trS0NDwntudP39+Bg8e3O2xbNmyuuwDANC3+vxi\n",
              "2ssvvzxnnnlmDjvssB1aP2/evGzYsKHbY9KkSXWeEgDoC4312vDIkSOzbt26bN68OY2NjamqKu3t\n",
              "7Wlpaem27t577017e3u+/e1vZ/Pmzdm4cWNGjRqV5cuXZ+jQoVttt6mpKU1NTd1e25FPYgCA/qdu\n",
              "n6gMGzYsEyZMyKJFi5IkixcvTnNzc8aMGdNt3X333Zdnn302a9euzf33359BgwZl7dq124wUAGD3\n",
              "Utcf/bS1taWtrS2tra1ZsGBBFi5cmCSZOXNmli5dWs9/GgAYAOr2o58kGTt2bB588MGtXr/hhhu2\n",
              "uX7UqFF59dVX6zkSANCP9PnFtAAA2yNUAIBiCRUAoFhCBQAollABAIolVACAYgkVAKBYQgUAKJZQ\n",
              "AQCKJVQAgGIJFQCgWEIFACiWUAEAiiVUAIBiCRUAoFhCBQAollABAIolVACAYgkVAKBYQgUAKJZQ\n",
              "AQCKJVQAgGIJFQCgWEIFACiWUAEAiiVUAIBiCRUAoFhCBQAollABAIolVACAYgkVAKBYQgUAKJZQ\n",
              "AQCKJVQAgGIJFQCgWEIFACiWUAEAiiVUAIBiCRUAoFhCBQAollABAIolVACAYgkVAKBYQgUAKJZQ\n",
              "AQCKJVQAgGIJFQCgWEIFACiWUAEAiiVUAIBiCRUAoFhCBQAollABAIolVACAYgkVAKBYQgUAKJZQ\n",
              "AQCKJVQAgGIJFQCgWEIFACiWUAEAiiVUAIBi1TVUVq9encmTJ6e1tTUTJ07MypUrt1pz9913Z9Kk\n",
              "STn88MNzxBFH5OKLL86WLVvqORYA0E/UNVTmzJmT2bNnZ9WqVbnkkksyY8aMrdbsu++++d73vpcn\n",
              "nngiDz/8cB544IHcdNNN9RwLAOgn6hYq69evz4oVKzJt2rQkydSpU9PR0ZE1a9Z0W3f00Udn9OjR\n",
              "SZIPfOADGT9+fNauXbvd7W7atCkbN27s9ujs7KzXbgAAfahuodLR0ZERI0aksbExSVKr1dLS0pL2\n",
              "9vbt/p0XXnght912W0499dTtrpk/f34GDx7c7bFs2bJenx8A6HvFXEy7cePGnHbaabn44ovz0Y9+\n",
              "dLvr5s2blw0bNnR7TJo0aRdOCgDsKo312vDIkSOzbt26bN68OY2NjamqKu3t7Wlpadlq7WuvvZaT\n",
              "Tz45p59+eubOnfuu221qakpTU1O31xoaGnp1dgCgDHX7RGXYsGGZMGFCFi1alCRZvHhxmpubM2bM\n",
              "mG7rfvWrX+Xkk0/OySefnK985Sv1GgcA6Ifq+qOftra2tLW1pbW1NQsWLMjChQuTJDNnzszSpUuT\n",
              "JFdffXWWLVuWJUuWZPz48Rk/fnz+5m/+pp5jAQD9RK2qqqqvh3i/5s6dm6uuuqrXtzvqi3f0+jYB\n",
              "oD9Zu+DTffrvF3MxLQDA/0+oAADFEioAQLGECgBQLKECABRLqAAAxRIqAECxhAoAUCyhAgAUS6gA\n",
              "AMUSKgBAsYQKAFAsoQIAFEuoAADFEioAQLGECgBQLKECABRLqAAAxRIqAECxhAoAUCyhAgAUS6gA\n",
              "AMUSKgBAsYQKAFAsoQIAFEuoAADFEioAQLGECgBQLKECABRLqAAAxRIqAECxhAoAUCyhAgAUS6gA\n",
              "AMUSKgBAsYQKAFAsoQIAFEuoAADFEioAQLGECgBQLKECABRLqAAAxRIqAECxhAoAUCyhAgAUS6gA\n",
              "AMUSKgBAsYQKAFAsoQIAFEuoAADFEioAQLGECgBQLKECABRLqAAAxRIqAECxhAoAUCyhAgAUS6gA\n",
              "AMUSKgBAsYQKAFAsoQIAFKuuobJ69epMnjw5ra2tmThxYlauXLnNdTfeeGMOOeSQHHzwwZk1a1be\n",
              "euuteo4FAPQTdQ2VOXPmZPbs2Vm1alUuueSSzJgxY6s1zzzzTC699NLcd999WbNmTV588cVcd911\n",
              "9RwLAOgn6hYq69evz4oVKzJt2rQkydSpU9PR0ZE1a9Z0W3fbbbdlypQpGT58eGq1Wi644ILcfPPN\n",
              "293upk2bsnHjxm6Pzs7Oeu0GANCHGuu14Y6OjowYMSKNjW//E7VaLS0tLWlvb8+YMWO61rW3t+eg\n",
              "gw7qej5q1Ki0t7dvd7vz58/P5Zdf3u21Qw89NHPnzu3V+Ts7OzNi2bJMmjQpDQ0NvbrtEnV2dmbZ\n",
              "brK/9nXg2p32174OXKXt79y5/123bR900EH5i7/4i3ddU7dQqZd58+ZtFSVNTU1pamrq1X9n48aN\n",
              "GTx4cH74wx9m0KBBvbrtEu1O+2tfB67daX/t68C1u+3ve6lbqIwcOTLr1q3L5s2b09jYmKqq0t7e\n",
              "npaWlm7rWlpa8tRTT3U9X7t27VZr3qkeUQIAlKlu16gMGzYsEyZMyKJFi5IkixcvTnNzc7cf+yRv\n",
              "X7uydOnSvPDCC6mqKtdee20+85nP1GssAKAfqetv/bS1taWtrS2tra1ZsGBBFi5cmCSZOXNmli5d\n",
              "miQZPXp0Lr/88hx33HEZM2ZMhg4dmjlz5tRzLACgn6jrNSpjx47Ngw8+uNXrN9xwQ7fns2bNyqxZ\n",
              "s+o5So81NTXlr/7qr3abHzPtTvtrXweu3Wl/7evAtbvt73upVVVV9fUQAADb4iv0AYBiCRUAoFhC\n",
              "BQAollABAIq124fK7nSH5zfeeCNnnHFGWltbM27cuHzyk5/c6t5LydtfutfQ0JDx48d3Pd75pXz9\n",
              "xahRozJ27Niufbjlllu2ua6/H9uXX36527FqbW1NY2NjXnnllW7r+vNxvfDCCzNq1KjUarX8/Oc/\n",
              "73p9R8/fpP8c523t646eu0n/Os7bO647eu4m/ee4Jtve3x09f5P+dWx7VbWbO/HEE6uFCxdWVVVV\n",
              "//qv/1p99KMf3WrN008/XY0YMaJat25dtWXLluq0006rvv3tb+/iSd+/119/vbrjjjuqLVu2VFVV\n",
              "Vddcc0318Y9/fKt1zzzzTDV48OBdO1wdHHTQQdXPfvazd10zUI7tO33jG9+oTj311K1e78/H9d57\n",
              "7606Ojq2OqY7cv5WVf86ztva1x09d6uqfx3n7R3XHTl3q6p/Hdeq2v7+vtP2zt+q6l/Htjft1p+o\n",
              "1OsOz6X6wAc+kE996lOp1WpJkmOPPTZr167t26H62EA5tu9044035vzzz+/rMXrVxz72sTQ3N3d7\n",
              "bUfP36R/Hedt7etAPXe3ta890Z+Oa7Jj+zsQz9/3a7cOlXe7w/M79fQOz/3F1VdfndNPP32b7/36\n",
              "17/OxIkTM2HChFxxxRXp7OzcxdP1jnPPPTdHHnlkzj///Lz00ktbvT/Qju0DDzyQ//u//8upp566\n",
              "zfcHynFNdvz8TQbecX63czcZGMf5vc7dZOAd1/c6f5OBcWx7arcOld3ZV7/61axZsybz58/f6r0R\n",
              "I0bk+eefz/Lly3PXXXflvvvuyze/+c0+mPL9+fGPf5zHHnssjzzySA444IBMnz69r0equxtvvDHn\n",
              "nntu1/+832mgHNfd3budu8nAOM6747mbvPv5mwyMY7szdutQeecdnpO86x2en3322a7n73WH59L9\n",
              "7d/+bZYsWZI777wzH/rQh7Z6v6mpKcOGDUuS7LfffjnvvPNy33337eox37ffHqM999wzX/jCF7a5\n",
              "DwPp2P7qV7/KrbfemvPOO2+b7w+U4/pbO3r+JgPnOL/XuZsMjOO8I+fub9cNhOOavPf5mwyMY7sz\n",
              "dutQ2R3v8HzVVVfl5ptvzn/9139lyJAh21yzfv36rivnN23alCVLluToo4/ehVO+f7/+9a/z6quv\n",
              "dj2/+eabt7kPA+nY3nLLLRk3blwOPfTQbb4/EI7rO+3o+ZsMjOO8I+du0v+P846eu8nAOK6/9V7n\n",
              "b9L/j+1O68sreUvw5JNPVscee2x1yCGHVMccc0z12GOPVVVVVeeff371/e9/v2vdddddV40ePboa\n",
              "PXp0dd5551VvvvlmX4280zo6Oqok1ejRo6tx48ZV48aNqyZNmlRVVVVdeuml1T/8wz9UVVVVixcv\n",
              "ro444ojqqKOOqg4//PDqz//8z6s33nijL0fvsaeeeqoaP358deSRR1Yf+chHqilTplTPPPNMVVUD\n",
              "89hWVVX9wR/8QfWP//iP3V4bKMd19uzZ1YEHHlg1NDRUw4YNqw4++OCqqrZ//lZV/z3O29rXdzt3\n",
              "q6r/Hudt7eu7nbtV1X+Pa1Vt/7/jqtr2+VtV/ffY9iY3JQQAirVb/+gHACibUAEAiiVUAIBiCRUA\n",
              "oFhCBQAollABAIolVACAYgkVAKBYQgUAKJZQAQCK9f8AeK7fAI3vQyIAAAAASUVORK5CYII=\n",
              "\">\n",
              "      </div>\n",
              "      <script type=\"text/javascript\">\n",
              "        (() => {\n",
              "          const chartElement = document.getElementById(\"chart-4213e6bb-1da5-4550-8f4c-5aff9ce46a35\");\n",
              "          async function getCodeForChartHandler(event) {\n",
              "            const chartCodeResponse =  await google.colab.kernel.invokeFunction(\n",
              "                'getCodeForChart', [\"chart-4213e6bb-1da5-4550-8f4c-5aff9ce46a35\"], {});\n",
              "            const responseJson = chartCodeResponse.data['application/json'];\n",
              "            await google.colab.notebook.addCell(responseJson.code, 'code');\n",
              "          }\n",
              "          chartElement.onclick = getCodeForChartHandler;\n",
              "        })();\n",
              "      </script>\n",
              "      <style>\n",
              "        .colab-quickchart-chart-with-code  {\n",
              "            display: block;\n",
              "            float: left;\n",
              "            border: 1px solid transparent;\n",
              "        }\n",
              "\n",
              "        .colab-quickchart-chart-with-code:hover {\n",
              "            cursor: pointer;\n",
              "            border: 1px solid #aaa;\n",
              "        }\n",
              "      </style>"
            ]
          },
          "metadata": {}
        },
        {
          "output_type": "display_data",
          "data": {
            "text/plain": [
              "<google.colab._quickchart_helpers.SectionTitle at 0x7e42f9ea4850>"
            ],
            "text/html": [
              "<h4 class=\"colab-quickchart-section-title\">Time series</h4>\n",
              "<style>\n",
              "  .colab-quickchart-section-title {\n",
              "      clear: both;\n",
              "  }\n",
              "</style>"
            ]
          },
          "metadata": {}
        },
        {
          "output_type": "display_data",
          "data": {
            "text/plain": [
              "from matplotlib import pyplot as plt\n",
              "import seaborn as sns\n",
              "def _plot_series(series, series_name, series_index=0):\n",
              "  palette = list(sns.palettes.mpl_palette('Dark2'))\n",
              "  counted = (series['index']\n",
              "                .value_counts()\n",
              "              .reset_index(name='counts')\n",
              "              .rename({'index': 'index'}, axis=1)\n",
              "              .sort_values('index', ascending=True))\n",
              "  xs = counted['index']\n",
              "  ys = counted['counts']\n",
              "  plt.plot(xs, ys, label=series_name, color=palette[series_index % len(palette)])\n",
              "\n",
              "fig, ax = plt.subplots(figsize=(10, 5.2), layout='constrained')\n",
              "df_sorted = _df_4.sort_values('index', ascending=True)\n",
              "_plot_series(df_sorted, '')\n",
              "sns.despine(fig=fig, ax=ax)\n",
              "plt.xlabel('index')\n",
              "_ = plt.ylabel('count()')"
            ],
            "text/html": [
              "      <div class=\"colab-quickchart-chart-with-code\" id=\"chart-393c093a-efb4-47f4-9858-f9981bbe6e98\">\n",
              "        <img style=\"width: 180px;\" src=\"data:image/png;base64,iVBORw0KGgoAAAANSUhEUgAAA/MAAAITCAYAAABLz0yVAAAAOXRFWHRTb2Z0d2FyZQBNYXRwbG90\n",
              "bGliIHZlcnNpb24zLjguMCwgaHR0cHM6Ly9tYXRwbG90bGliLm9yZy81sbWrAAAACXBIWXMAAA9h\n",
              "AAAPYQGoP6dpAAAjzklEQVR4nO3dfZCV9X3//9dh0fWmcpMRxXZdNoBoEBTvGO8qSZOOmCpRsdam\n",
              "xlIRcSaOVmo1TEOqSStJNRhq0qIdaqtOSSzYlEnazjSmtSh20CLaokZB1gUjoqmCWkBgr+8f+WV/\n",
              "3bLgrtnl7Acfj5kzwznXZ3ffZ675ePnknD3UqqqqAgAAABRjQL0HAAAAAHpGzAMAAEBhxDwAAAAU\n",
              "RswDAABAYcQ8AAAAFEbMAwAAQGHEPAAAABRGzAMAAEBh9vuYnz9/fr1HAAAAgF6138f8yy+/XO8R\n",
              "AAAAoFft9zEPAAAA+xsxDwAAAIUR8wAAAFAYMQ8AAACFEfMAAABQGDEPAAAAhRHzAAAAUBgxDwAA\n",
              "AIUR8wAAAFAYMQ8AAACFEfMAAABQGDEPAAAAhRHzAAAAUBgxDwAAAIUR8wAAAFAYMQ8AAACFEfMA\n",
              "AABQGDEPAAAAhRHzAAAAUBgxDwAAAIUR8wAAAFAYMQ8AAACFEfMAAABQGDEPAAAAhRHzAAAAUBgx\n",
              "DwAAAIUR8wAAAFAYMQ8AAACFEfMAAABQGDEPAAAAhRHzAAAAUBgxDwAAAIUR8wAAAFAYMQ8AAACF\n",
              "EfMAAABQGDEPAAAAhRHzAAAAUBgxDwAAAIUR8wAAAFAYMQ8AAACFEfMAAABQGDEPAAAAhRHzAAAA\n",
              "UBgxDwAAAIUR8wAAAFAYMQ8AAACFEfMAAABQGDEPAAAAhRHzAAAAUBgxDwAAAIUR8wAAAFAYMQ8A\n",
              "AACFEfMAAABQGDEPAAAAhRHzAAAAUBgxDwAAAIUR8wAAAFAYMQ8AAACFEfMAAABQGDEPAAAAhRHz\n",
              "AAAAUJg+jfnrrrsuLS0tqdVqWbVq1R7XLVy4MMccc0xGjRqVGTNmZMeOHZ2OV1WVX/mVX8mQIUP6\n",
              "clwAAAAoQp/G/CWXXJJHH300I0aM2OOadevWZc6cOVm2bFnWrFmT1157Lffcc0+nNXfeeWdGjRrV\n",
              "l6MCAABAMfo05s8555w0NTXtdc3ixYszZcqUDB8+PLVaLddcc00WLVrUcXz16tX57ne/my984Qvv\n",
              "+/O2b9+eLVu2dLrt2rXr534eAAAA0J/U/Xfm29raOr1y39LSkra2tiTJjh07MmPGjNx9991paGh4\n",
              "3+81d+7cDB48uNNtxYoVfTY7AAAA1EPdY35vbr311lx88cX52Mc+1q31s2fPzubNmzvdJk6c2MdT\n",
              "AgAAwL41sN4DNDc3Z+3atR33W1tb09zcnCR55JFH0tbWlm9+85vZuXNntmzZkpaWljzxxBMZNmzY\n",
              "bt+rsbExjY2NnR7rziv6AAAAUJK6vzI/derULF26NBs3bkxVVVmwYEEuu+yyJMmyZcvy8ssvp7W1\n",
              "NY8++mgGDRqU1tbWLkMeAAAAPiz6NOZnzpyZpqambNiwIeeee25Gjx6dJLnqqquydOnSJMnIkSNz\n",
              "66235qyzzsro0aMzbNiwzJw5sy/HAgAAgKLVqqqq6j1EX5o1a1bmzZtX7zEAAACg19T9bfYAAABA\n",
              "z4h5AAAAKIyYBwAAgMKIeQAAACiMmAcAAIDCiHkAAAAojJgHAACAwoh5AAAAKIyYBwAAgMKIeQAA\n",
              "ACiMmAcAAIDCiHkAAAAojJgHAACAwoh5AAAAKIyYBwAAgMKIeQAAACiMmAcAAIDCiHkAAAAojJgH\n",
              "AACAwoh5AAAAKIyYBwAAgMKIeQAAACiMmAcAAIDCiHkAAAAojJgHAACAwoh5AAAAKIyYBwAAgMKI\n",
              "eQAAACiMmAcAAIDCiHkAAAAojJgHAACAwoh5AAAAKIyYBwAAgMKIeQAAACiMmAcAAIDCiHkAAAAo\n",
              "jJgHAACAwoh5AAAAKIyYBwAAgMKIeQAAACiMmAcAAIDCiHkAAAAojJgHAACAwoh5AAAAKIyYBwAA\n",
              "gMKIeQAAACiMmAcAAIDCiHkAAAAojJgHAACAwoh5AAAAKIyYBwAAgMKIeQAAACiMmAcAAIDCiHkA\n",
              "AAAojJgHAACAwoh5AAAAKIyYBwAAgMKIeQAAACiMmAcAAIDCiHkAAAAojJgHAACAwoh5AAAAKIyY\n",
              "BwAAgMKIeQAAACiMmAcAAIDCiHkAAAAojJgHAACAwoh5AAAAKIyYBwAAgMKIeQAAACiMmAcAAIDC\n",
              "iHkAAAAojJgHAACAwoh5AAAAKIyYBwAAgMKIeQAAACiMmAcAAIDCiHkAAAAoTJ/G/HXXXZeWlpbU\n",
              "arWsWrVqj+sWLlyYY445JqNGjcqMGTOyY8eOJMkPf/jDTJw4MWPHjs3xxx+fm266Ke3t7X05MgAA\n",
              "APR7fRrzl1xySR599NGMGDFij2vWrVuXOXPmZNmyZVmzZk1ee+213HPPPUmSoUOH5tvf/naeffbZ\n",
              "/Md//EeWL1+e++67ry9HBgAAgH6vT2P+nHPOSVNT017XLF68OFOmTMnw4cNTq9VyzTXXZNGiRUmS\n",
              "k046KSNHjkySHHTQQZkwYUJaW1v3+L22b9+eLVu2dLrt2rWr154PAAAA9Ad1/535tra2Tq/ct7S0\n",
              "pK2tbbd1GzduzOLFi3P++efv8XvNnTs3gwcP7nRbsWJFn8wNAAAA9VL3mO+OLVu25IILLshNN92U\n",
              "U089dY/rZs+enc2bN3e6TZw4cR9OCgAAAH1vYL0HaG5uztq1azvut7a2prm5ueP+22+/ncmTJ+cz\n",
              "n/lMZs2atdfv1djYmMbGxk6PNTQ09O7AAAAAUGd1f2V+6tSpWbp0aTZu3JiqqrJgwYJcdtllSZJ3\n",
              "3nknkydPzuTJk/PFL36xzpMCAABA/9CnMT9z5sw0NTVlw4YNOffcczN69OgkyVVXXZWlS5cmSUaO\n",
              "HJlbb701Z511VkaPHp1hw4Zl5syZSZL58+dnxYoVeeihhzJhwoRMmDAhf/zHf9yXIwMAAEC/V6uq\n",
              "qqr3EH1p1qxZmTdvXr3HAAAAgF5T97fZAwAAAD0j5gEAAKAwYh4AAAAKI+YBAACgMGIeAAAACiPm\n",
              "AQAAoDBiHgAAAAoj5gEAAKAwYh4AAAAKI+YBAACgMGIeAAAACiPmAQAAoDBiHgAAAAoj5gEAAKAw\n",
              "Yh4AAAAKI+YBAACgMGIeAAAACiPmAQAAoDBiHgAAAAoj5gEAAKAwYh4AAAAKI+YBAACgMGIeAAAA\n",
              "CiPmAQAAoDBiHgAAAAoj5gEAAKAwYh4AAAAKI+YBAACgMGIeAAAACiPmAQAAoDBiHgAAAAoj5gEA\n",
              "AKAwYh4AAAAKI+YBAACgMGIeAAAACiPmAQAAoDBiHgAAAAoj5gEAAKAwYh4AAAAKI+YBAACgMGIe\n",
              "AAAACiPmAQAAoDBiHgAAAAoj5gEAAKAwYh4AAAAKI+YBAACgMGIeAAAACiPmAQAAoDBiHgAAAAoj\n",
              "5gEAAKAwYh4AAAAKI+YBAACgMGIeAAAACiPmAQAAoDBiHgAAAAoj5gEAAKAwYh4AAAAKI+YBAACg\n",
              "MGIeAAAACiPmAQAAoDBiHgAAAAoj5gEAAKAwYh4AAAAKI+YBAACgMAM/yBc9++yz2bBhQw4++OCM\n",
              "Hz8+Q4YM6eWxAAAAgD3pdsy//fbbueOOO/IXf/EXOeSQQ3LkkUdm27ZtWbt2bSZOnJibb745n/zk\n",
              "J/tyVgAAACA9iPlPfOITueKKK/LUU0/lyCOP7Hi8vb09y5Yty4IFC7JmzZrMnDmzTwYFAAAAfqrb\n",
              "Mf/YY4+lsbFxt8cHDBiQSZMmZdKkSdm+fXuvDgcAAADsrtsfgNdVyH+QNQAAAMDPp9sxf/7552f5\n",
              "8uVdHnvrrbfy9a9/PXfffXevDQYAAAB0rdtvs7/tttsye/bsPPvssznttNM6PgDv+eefzyuvvJLP\n",
              "f/7zufLKK/tyVgAAACA9iPkTTjgh3//+97N+/fo88sgj2bBhQw455JD81m/9Vs4+++wMHPiB/pU7\n",
              "AAAAoId6XOBvvvlmLr/88k6PPfPMMznhhBN6bSgAAABgz7r9O/M/M23atG49BgAAAPSNbr8yv2nT\n",
              "pmzcuDFbt27Nf/7nf6aqqiTJ5s2b8+677/bZgAAAAEBn3Y75RYsW5Rvf+EZ+/OMfZ8qUKR2PDx48\n",
              "ODfddFOfDAcAAADsrtsxf/311+f666/PV77ylcyZM6cvZwIAAAD2oscfgDdnzpy0t7dn48aN2blz\n",
              "Z8fjzc3NvToYAAAA0LUefwDeX//1X2fIkCEZP358TjnllJxyyik59dRTu1x73XXXpaWlJbVaLatW\n",
              "rdrj91y4cGGOOeaYjBo1KjNmzMiOHTu6dQwAAAA+jHoc81/+8pfzxBNP5Cc/+Ulef/31vP7669m0\n",
              "aVOXay+55JI8+uijGTFixB6/37p16zJnzpwsW7Ysa9asyWuvvZZ77rnnfY8BAADAh1WP32Z/+OGH\n",
              "59hjj+3W2nPOOed91yxevDhTpkzJ8OHDkyTXXHNNbrvttnz+85/f67H9SVVV2brTOw4AAAD60sED\n",
              "D0itVqv3GL2ixzF/4YUX5hvf+EY++9nP5qCDDup4fNCgQR9ogLa2tk6v3Le0tKStre19j3Vl+/bt\n",
              "2b59e6fHdu3a9YHm2pe27tyRMQ98qd5jAAAA7NdeuPzLOeSAA+s9Rq/o8dvs/+AP/iCzZs3K8OHD\n",
              "M3To0AwZMiRDhw7ti9l6bO7cuRk8eHCn24oVK+o9FgAAAPSqHr8y397e3qsDNDc3Z+3atR33W1tb\n",
              "Oz4Zf2/HujJ79uzMmjWr02Ml/DN6Bw88IC9c/uV6jwEAALBfO3jgAfUeodf0OOZ729SpU3P22Wfn\n",
              "lltuyZFHHpkFCxbksssue99jXWlsbExjY2OnxxoaGvp0/t5Qq9X2m7d6AAAA0Pd6/Db7AQMGpKGh\n",
              "YbdbV2bOnJmmpqZs2LAh5557bkaPHp0kueqqq7J06dIkyciRI3PrrbfmrLPOyujRozNs2LDMnDnz\n",
              "fY8BAADAh1WtqqqqJ1/w7rvvdvx569atue+++7Jr1678/u//fq8P1xtmzZqVefPm1XsMAAAA6DU9\n",
              "fmX+0EMP7bgdfvjhmTVrVhYvXtwXswEAAABd6HHM/1/PP/983njjjd6YBQAAAOiGHn8A3tChQ1Or\n",
              "1ZIkO3fuTJLcddddvTsVAAAAsEc9jvlVq1b9/188cGCGDx9exCfGAwAAwP6ixzE/YsSI/M///E9H\n",
              "1A8dOjSHHHJIb88FAAAA7EGPY3758uWZOnVqhg8fniR57bXXsmTJkpxxxhm9PhwAAACwux7H/M8+\n",
              "vf6ss85K8tO4v+GGG/Lv//7vvT4cAAAAsLsef5r91q1bO0I+Sc4888xs27atV4cCAAAA9qzHMf8L\n",
              "v/AL+cEPftBx/+GHH86hhx7aq0MBAAAAe9bjt9n/6Z/+aS6++OKOT7Bvb2/PQw891OuDAQAAAF3r\n",
              "ccz/+Mc/zpNPPpnXXnstSXLkkUdmxYoVvT4YAAAA0LUev81+zpw5GTZsWMaNG5dx48bl8MMPz5w5\n",
              "c/piNgAAAKALPY75/6tWq2XXrl29MQsAAADQDT2O+cMOOyzLly/vuP/YY4/lsMMO69WhAAAAgD3r\n",
              "8e/M/8mf/EkuuuiiHHfccUmSF198MX/3d3/X64MBAAAAXetxzJ9xxhl57rnn8vjjjyf56b8zP2TI\n",
              "kN6eCwAAANiDHsd8kgwdOjSf/vSne3sWAAAAoBt+7g/AAwAAAPYtMQ8AAACFEfMAAABQGDEPAAAA\n",
              "hRHzAAAAUBgxDwAAAIUR8wAAAFAYMQ8AAACFEfMAAABQGDEPAAAAhRHzAAAAUBgxDwAAAIUR8wAA\n",
              "AFAYMQ8AAACFEfMAAABQGDEPAAAAhRHzAAAAUBgxDwAAAIUR8wAAAFAYMQ8AAACFEfMAAABQGDEP\n",
              "AAAAhRHzAAAAUBgxDwAAAIUR8wAAAFAYMQ8AAACFEfMAAABQGDEPAAAAhRHzAAAAUBgxDwAAAIUR\n",
              "8wAAAFAYMQ8AAACFEfMAAABQGDEPAAAAhRHzAAAAUBgxDwAAAIUR8wAAAFAYMQ8AAACFEfMAAABQ\n",
              "GDEPAAAAhRHzAAAAUBgxDwAAAIUR8wAAAFAYMQ8AAACFEfMAAABQGDEPAAAAhRHzAAAAUBgxDwAA\n",
              "AIUR8wAAAFAYMQ8AAACFEfMAAABQGDEPAAAAhRHzAAAAUBgxDwAAAIUR8wAAAFAYMQ8AAACFEfMA\n",
              "AABQGDEPAAAAhRHzAAAAUBgxDwAAAIUR8wAAAFAYMQ8AAACF6dOYf/HFF3PmmWdmzJgxOe2007J6\n",
              "9erd1rS3t+fGG2/MuHHjctxxx2X69Ol57733Oo5/7Wtfy9ixYzNhwoScfvrpWbFiRV+ODAAAAP1e\n",
              "n8b8zJkzc/XVV+eFF17IzTffnGnTpu22ZuHChVm5cmVWrlyZ5557LgMGDMj8+fOTJKtWrcqf/dmf\n",
              "ZcWKFVm1alWuvfbaXHvttX05MgAAAPR7fRbzmzZtypNPPpnLL788STJ16tSsX78+a9as6bTu6aef\n",
              "zqc+9akceOCBqdVqOe+883L//fcnSWq1Wnbs2JF33303SfLWW2+lqalpjz9z+/bt2bJlS6fbrl27\n",
              "+ugZAgAAQH30WcyvX78+Rx11VAYOHJjkp2He3Nyctra2TutOOeWULF26NFu2bMmOHTvy4IMPprW1\n",
              "NUly4okn5oYbbshHP/rRNDU15c4778xdd921x585d+7cDB48uNPN2/IBAADY39T9A/CmTZuWyZMn\n",
              "Z9KkSZk0aVLGjBnT8RcA69aty0MPPZQ1a9Zkw4YNueGGG/Ibv/Ebe/xes2fPzubNmzvdJk6cuK+e\n",
              "CgAAAOwTfRbzRx99dF599dXs3LkzSVJVVdra2tLc3NxpXa1Wyy233JKnnnoqy5cvz9ixY3P88ccn\n",
              "SZYsWZLx48fnF3/xF5Mkv/M7v5PHHnus0wfk/W+NjY0ZNGhQp1tDQ0NfPUUAAACoiz6L+SOOOCIn\n",
              "n3xyHnjggSQ/DfOmpqaMHj2607pt27blzTffTJK88cYb+epXv5qbbropSTJy5Mg89thjeeedd5Ik\n",
              "3/ve9zJmzJgceOCBfTU2AAAA9HsD+/Kb33333Zk2bVpuu+22DBo0KPfee2+S5KqrrsqUKVMyZcqU\n",
              "bN68OR//+MczYMCAtLe35/rrr88FF1yQJLnooovyxBNP5NRTT01jY2MOPfTQ/M3f/E1fjgwAAAD9\n",
              "Xq2qqqreQ/SlWbNmZd68efUeAwAAAHpN3T8ADwAAAOgZMQ8AAACFEfMAAABQGDEPAAAAhRHzAAAA\n",
              "UBgxDwAAAIUR8wAAAFAYMQ8AAACFEfMAAABQGDEPAAAAhRHzAAAAUBgxDwAAAIUR8wAAAFAYMQ8A\n",
              "AACFEfMAAABQGDEPAAAAhRHzAAAAUBgxDwAAAIUR8wAAAFAYMQ8AAACFEfMAAABQGDEPAAAAhRHz\n",
              "AAAAUBgxDwAAAIUR8wAAAFAYMQ8AAACFEfMAAABQGDEPAAAAhRHzAAAAUBgxDwAAAIUR8wAAAFAY\n",
              "MQ8AAACFEfMAAABQGDEPAAAAhRHzAAAAUBgxDwAAAIUR8wAAAFAYMQ8AAACFEfMAAABQGDEPAAAA\n",
              "hRHzAAAAUBgxDwAAAIUR8wAAAFAYMQ8AAACFEfMAAABQGDEPAAAAhRHzAAAAUBgxDwAAAIUR8wAA\n",
              "AFAYMQ8AAACFEfMAAABQGDEPAAAAhRHzAAAAUBgxDwAAAIUR8wAAAFAYMQ8AAACFEfMAAABQGDEP\n",
              "AAAAhRHzAAAAUBgxDwAAAIUR8wAAAFAYMQ8AAACFEfMAAABQGDEPAAAAhRHzAAAAUBgxDwAAAIUR\n",
              "8wAAAFAYMQ8AAACFEfMAAABQGDEPAAAAhRHzAAAAUBgxDwAAAIUR8wAAAFAYMQ8AAACFEfMAAABQ\n",
              "GDEPAAAAhRHzAAAAUBgxDwAAAIXp05h/8cUXc+aZZ2bMmDE57bTTsnr16t3WtLe358Ybb8y4ceNy\n",
              "3HHHZfr06Xnvvfc6jre1teWCCy7Isccem7Fjx+auu+7qy5EBAACg3+vTmJ85c2auvvrqvPDCC7n5\n",
              "5pszbdq03dYsXLgwK1euzMqVK/Pcc89lwIABmT9/fpKkqqpcdNFFueKKK/KjH/0ozz77bC699NK+\n",
              "HBkAAAD6vT6L+U2bNuXJJ5/M5ZdfniSZOnVq1q9fnzVr1nRa9/TTT+dTn/pUDjzwwNRqtZx33nm5\n",
              "//77kyQPP/xwGhsb8+u//usd64888sg9/szt27dny5YtnW67du3qg2cHAAAA9dNnMb9+/focddRR\n",
              "GThwYJKkVqulubk5bW1tndadcsopWbp0abZs2ZIdO3bkwQcfTGtra5Lk2WefzbBhw3LZZZflpJNO\n",
              "ykUXXZSXXnppjz9z7ty5GTx4cKfbihUr+uopAgAAQF3U/QPwpk2blsmTJ2fSpEmZNGlSxowZ0/EX\n",
              "ADt37swPf/jDzJkzJ0899VTOPffcvb7Nfvbs2dm8eXOn28SJE/fVUwEAAIB9os9i/uijj86rr76a\n",
              "nTt3Jvnp77+3tbWlubm507parZZbbrklTz31VJYvX56xY8fm+OOPT5I0NzfnpJNO6rj/uc99LitX\n",
              "rsyOHTu6/JmNjY0ZNGhQp1tDQ0NfPUUAAACoiz6L+SOOOCInn3xyHnjggSTJkiVL0tTUlNGjR3da\n",
              "t23btrz55ptJkjfeeCNf/epXc9NNNyVJzjvvvGzYsCGvvPJKkuQf/uEf8rGPfSwHHHBAX40NAAAA\n",
              "/d7Avvzmd999d6ZNm5bbbrstgwYNyr333pskueqqqzJlypRMmTIlmzdvzsc//vEMGDAg7e3tuf76\n",
              "63PBBRckSQ499NAsWLAgv/Zrv5aqqjJ48OB8+9vf7suRAQAAoN+rVVVV1XuIvjRr1qzMmzev3mMA\n",
              "AABAr6n7B+ABAAAAPSPmAQAAoDBiHgAAAAoj5gEAAKAwYh4AAAAKI+YBAACgMGIeAAAACiPmAQAA\n",
              "oDBiHgAAAAoj5gEAAKAwYh4AAAAKI+YBAACgMGIeAAAACiPmAQAAoDBiHgAAAAoj5gEAAKAwYh4A\n",
              "AAAKI+YBAACgMGIeAAAACiPmAQAAoDBiHgAAAAoj5gEAAKAwYh4AAAAKI+YBAACgMGIeAAAACiPm\n",
              "AQAAoDBiHgAAAAoj5gEAAKAwYh4AAAAKI+YBAACgMGIeAAAACiPmAQAAoDBiHgAAAAoj5gEAAKAw\n",
              "Yh4AAAAKI+YBAACgMGIeAAAACiPmAQAAoDBiHgAAAAoj5gEAAKAwYh4AAAAKI+YBAACgMGIeAAAA\n",
              "CiPmAQAAoDBiHgAAAAoj5gEAAKAwYh4AAAAKI+YBAACgMGIeAAAACiPmAQAAoDBiHgAAAAoj5gEA\n",
              "AKAwYh4AAAAKI+YBAACgMGIeAAAACiPmAQAAoDBiHgAAAAoj5gEAAKAwYh4AAAAKI+YBAACgMLWq\n",
              "qqp6D9GXLr744rS0tNR7jPe1a9eurFixIhMnTkxDQ0O9x+EDcA7L5xyWzzksn3O4f3Aey+ccls85\n",
              "LNuIESNy/fXX73XNfh/zpdiyZUsGDx6czZs3Z9CgQfUehw/AOSyfc1g+57B8zuH+wXksn3NYPudw\n",
              "/+dt9gAAAFAYMQ8AAACFEfMAAABQGDHfTzQ2NuYP//AP09jYWO9R+ICcw/I5h+VzDsvnHO4fnMfy\n",
              "OYflcw73fz4ADwAAAArjlXkAAAAojJgHAACAwoh5AAAAKIyY38defPHFnHnmmRkzZkxOO+20rF69\n",
              "ust1CxcuzDHHHJNRo0ZlxowZ2bFjxz6elK5s27YtF154YcaMGZMTTzwxv/qrv5o1a9bstq61tTUN\n",
              "DQ2ZMGFCx23t2rV1mJiutLS05Nhjj+04N9/5zne6XGcf9k8/+clPOu2tMWPGZODAgfnv//7vTuvs\n",
              "w/7luuuuS0tLS2q1WlatWtXxeHevi4k9WW9dncPuXhcTe7K/2NNe7O61MbEX662rc9jda2NiL+5X\n",
              "KvapT3ziE9W9995bVVVV/e3f/m116qmn7rbmpZdeqo466qjq1Vdfrdrb26sLLrig+uY3v7mPJ6Ur\n",
              "W7durb7//e9X7e3tVVVV1V133VVNmjRpt3Xr1q2rBg8evG+Ho9tGjBhRPfXUU3tdYx+W4/bbb6/O\n",
              "P//83R63D/uXRx55pFq/fv1u+68718Wqsif7g67OYXevi1VlT/YXe9qL3bk2VpW92B/s6Rz+b3u6\n",
              "NlaVvbg/8cr8PrRp06Y8+eSTufzyy5MkU6dOzfr163f7G+zFixdnypQpGT58eGq1Wq655posWrSo\n",
              "HiPzfxx00EH59Kc/nVqtliQ5/fTT09raWt+h6BP2YTkWLlyY6dOn13sM3sc555yTpqamTo9197qY\n",
              "2JP9QVfn0HWxPF2dx56wF+uvO+fQtfHDQczvQ+vXr89RRx2VgQMHJklqtVqam5vT1tbWaV1bW1tG\n",
              "jBjRcb+lpWW3NfQP8+fPz2c+85kuj7377rs57bTTcvLJJ+fLX/5ydu3atY+nY2+uuOKKjB8/PtOn\n",
              "T8/rr7++23H7sAzLly/Pm2++mfPPP7/L4/Zh/9bd62JiT5Zib9fFxJ7s797v2pjYiyV4v2tjYi/u\n",
              "L8Q8fEC33XZb1qxZk7lz5+527Kijjsorr7ySJ554Ij/4wQ+ybNmyfP3rX6/DlHTl3/7t3/LMM89k\n",
              "5cqVOfzww/Pbv/3b9R6JD2jhwoW54oorOmLwf7MPYd/a23UxsSf7O9fG/cfero2Jvbg/EfP70NFH\n",
              "H51XX301O3fuTJJUVZW2trY0Nzd3Wtfc3JyXX365435ra+tua6ivO+64Iw899FD+8R//MYcccshu\n",
              "xxsbG3PEEUckST7ykY/kyiuvzLJly/b1mOzBz/bTAQcckN/93d/t8tzYh/3fO++8kwcffDBXXnll\n",
              "l8ftw/6vu9fFxJ7s797vupjYk/1dd66NP1tnL/Zf73dtTOzF/YmY34eOOOKInHzyyXnggQeSJEuW\n",
              "LElTU1NGjx7dad3UqVOzdOnSbNy4MVVVZcGCBbnsssvqMTJdmDdvXhYtWpR//ud/zpAhQ7pcs2nT\n",
              "po5Pdt2+fXseeuihnHTSSftwSvbk3XffzVtvvdVxf9GiRV2eG/uw//vOd76TE088Mccdd1yXx+3D\n",
              "/q+718XEnuzPunNdTOzJ/qy718bEXuzv3u/amNiL+5V6fvreh9Hzzz9fnX766dUxxxxTnXLKKdUz\n",
              "zzxTVVVVTZ8+vfr7v//7jnX33HNPNXLkyGrkyJHVlVdeWb333nv1Gpn/Zf369VWSauTIkdWJJ55Y\n",
              "nXjiidXEiROrqqqqOXPmVH/+539eVVVVLVmypDr++OOrE044oRo7dmx17bXXVtu2bavn6Px/1q5d\n",
              "W02YMKEaP358NW7cuGrKlCnVunXrqqqyD0tzxhlnVH/5l3/Z6TH7sP+6+uqrq1/6pV+qGhoaqiOO\n",
              "OKIaNWpUVVV7vi5WlT3Z33R1Dvd2Xawqe7I/6uo87u3aWFX2Yn+zp/+eVlXX18aqshf3V7Wqqqp6\n",
              "/4UCAAAA0H3eZg8AAACFEfMAAABQGDEPAAAAhRHzAPAhN2HChLz99ts9/rpLLrkkf/VXf9X7AwEA\n",
              "72tgvQcAAOpr1apV9R4BAOghr8wDwIdcrVbr+DemW1pa8qUvfSlnnHFGPvrRj+aP/uiPOtY9//zz\n",
              "OfPMM3P88cfnwgsvzJYtWzqOvf3225kxY0YmTpyYE044IVdffXXee++9/OhHP0pTU1NeeumlJMkd\n",
              "d9yRyZMnp729fZ8+RwDY34h5AKCTt956K48//nieeOKJ3H777XnllVeSJJ/73Ocyffr0rF69Ol/5\n",
              "ylfyyCOPdHzN7/3e7+WXf/mXs2LFijz99NNpb2/P/Pnzc+yxx+b222/PpZdemn/913/Nt771rdx/\n",
              "//0ZMMD/ggDAz8Pb7AGATj772c8mSQ4//PCMHDky69aty2GHHZZVq1Zl2rRpSZLx48fn7LPP7via\n",
              "7373u3n88cczb968JMnWrVvT0NCQJPnN3/zN/Mu//EvOPffcPPzwwxk2bNi+fUIAsB8S8wBAJwcd\n",
              "dFDHnxsaGrJz584u19VqtY4/V1WVJUuWZMyYMbut27lzZ/7rv/4rH/nIRzpe5QcAfj7e4wYAvK9B\n",
              "gwblpJNOyn333ZckWb16dR599NGO4xdeeGG+9rWvdYT/m2++mTVr1iRJvvCFL+TYY4/NsmXLcuON\n",
              "N3Y8DgB8cGIeAOiW++67L/fcc0/GjRuXL37xiznnnHM6jt155505+OCDM2HChJxwwgn55Cc/mdbW\n",
              "1nzve9/LP/3TP+Vb3/pWRo8enXnz5uXSSy/Ntm3b6vhMAKB8taqqqnoPAQAAAHSfV+YBAACgMGIe\n",
              "AAAACiPmAQAAoDBiHgAAAAoj5gEAAKAwYh4AAAAKI+YBAACgMGIeAAAACiPmAQAAoDBiHgAAAArz\n",
              "/wB3LcWfcNdwcAAAAABJRU5ErkJggg==\n",
              "\">\n",
              "      </div>\n",
              "      <script type=\"text/javascript\">\n",
              "        (() => {\n",
              "          const chartElement = document.getElementById(\"chart-393c093a-efb4-47f4-9858-f9981bbe6e98\");\n",
              "          async function getCodeForChartHandler(event) {\n",
              "            const chartCodeResponse =  await google.colab.kernel.invokeFunction(\n",
              "                'getCodeForChart', [\"chart-393c093a-efb4-47f4-9858-f9981bbe6e98\"], {});\n",
              "            const responseJson = chartCodeResponse.data['application/json'];\n",
              "            await google.colab.notebook.addCell(responseJson.code, 'code');\n",
              "          }\n",
              "          chartElement.onclick = getCodeForChartHandler;\n",
              "        })();\n",
              "      </script>\n",
              "      <style>\n",
              "        .colab-quickchart-chart-with-code  {\n",
              "            display: block;\n",
              "            float: left;\n",
              "            border: 1px solid transparent;\n",
              "        }\n",
              "\n",
              "        .colab-quickchart-chart-with-code:hover {\n",
              "            cursor: pointer;\n",
              "            border: 1px solid #aaa;\n",
              "        }\n",
              "      </style>"
            ]
          },
          "metadata": {}
        },
        {
          "output_type": "display_data",
          "data": {
            "text/plain": [
              "<google.colab._quickchart_helpers.SectionTitle at 0x7e42eeef0ac0>"
            ],
            "text/html": [
              "<h4 class=\"colab-quickchart-section-title\">Values</h4>\n",
              "<style>\n",
              "  .colab-quickchart-section-title {\n",
              "      clear: both;\n",
              "  }\n",
              "</style>"
            ]
          },
          "metadata": {}
        },
        {
          "output_type": "display_data",
          "data": {
            "text/plain": [
              "from matplotlib import pyplot as plt\n",
              "_df_5['index'].plot(kind='line', figsize=(8, 4), title='index')\n",
              "plt.gca().spines[['top', 'right']].set_visible(False)"
            ],
            "text/html": [
              "      <div class=\"colab-quickchart-chart-with-code\" id=\"chart-1299f57c-e7c9-4f05-9ab3-0e53da9523b8\">\n",
              "        <img style=\"width: 180px;\" src=\"data:image/png;base64,iVBORw0KGgoAAAANSUhEUgAAAqIAAAFuCAYAAABaw3qhAAAAOXRFWHRTb2Z0d2FyZQBNYXRwbG90\n",
              "bGliIHZlcnNpb24zLjguMCwgaHR0cHM6Ly9tYXRwbG90bGliLm9yZy81sbWrAAAACXBIWXMAAA9h\n",
              "AAAPYQGoP6dpAAA8tklEQVR4nO3de1hVdd7//xcntyc8C6IICHuTWSZqKB7yAFRTU+adzmRNt3aX\n",
              "pp3Ar123/fo5eufMdWX3TPkLszQnpukwOTbqzNRY850BRUXNNLODVu7NQQ4eUFEUkA1s1u+PjdsY\n",
              "sVA3LGA/H9fVdbXX/rB873WtFs/W3oifYRiGAAAAgBbmb/YAAAAA8E2EKAAAAExBiAIAAMAUhCgA\n",
              "AABMQYgCAADAFIQoAAAATEGIAgAAwBSEKAAAAExBiAIAAMAUhCgAXIM77rhDv/71r6/668ePH6/n\n",
              "nnvOewMBQBsSaPYAANCWffzxx2aPAABtFndEAQAAYApCFACuwaRJk/TLX/5SkuTn56dXXnlF48aN\n",
              "U9euXTV06FBlZ2d71tbW1mrhwoXq16+f+vbtq2efffaS/RUXF+uBBx7QgAEDFBISovvvv18nTpyQ\n",
              "JGVlZalLly7as2ePJMkwDP30pz/V3XffLcMwWuDVAoB3EaIA4EVvvPGG3nrrLZ05c0ZJSUn6xS9+\n",
              "4XnuN7/5jd5//31t3rxZRUVFCgwM1O7duz3PO51OJSUlqX///jp06JByc3MVGBioBx54QJI7ep97\n",
              "7jlNnz5dp06d0q9//Wt9++23euedd+Tn59firxUArhUhCgBe9PTTT8tqtSowMFBz5sxRQUGBjh8/\n",
              "Lkl688039fTTT2vIkCGyWCx67rnn1LNnT8/Xbtq0SefOndNvf/tbdenSRV27dtULL7ygjIwMFRUV\n",
              "SZL++7//W/Hx8UpKStJvfvMbbdiwQT169DDjpQLANeOHlQDAi/r37+/59y5dukiSzp07p9DQUBUV\n",
              "FWnQoEGe5wMCAhQREeF5bLfbdfz48QZxKkkWi0UFBQUKDw+XJC1YsEDjxo3T/fffr7i4uGZ8NQDQ\n",
              "vAhRAGgh4eHhys/P9zx2uVwqLCz0PO7Xr58iIyOVk5Nz2X2UlZVp1qxZeuSRR/T+++/rww8/1N13\n",
              "392cYwNAs+GteQBoIbNmzdJLL72kb7/9Vk6nU7/61a9UWlrqef7ee+9VTU2NFi9erLKyMklSSUmJ\n",
              "1q1bJ8n9w0mzZs3Sddddp9/97nd6/fXXNXPmTOXm5pryegDgWhGiANBCnnnmGd17772aOHGiwsPD\n",
              "VV1drdGjR3ueDw4O1q5du1RQUKChQ4eqW7duGjt2rLZt2yZJ+t///V99+eWXnh9Ouv/++/Xggw9q\n",
              "2rRpOn/+vFkvCwCump/B3/kBAAAAE3BHFAAAAKYgRAEAAGAKQhQAAACmIEQBAABgCkIUAAAApiBE\n",
              "AQAAYApCFAAAAKZocyGalpZm9ggAAADwgjYXoocPHzZ7BAAAAHhBmwtRAAAAtA+EKAAAAExBiAIA\n",
              "AMAUhCgAAABMQYgCAADAFIQoAAAATEGIAgAAwBSEKAAAAExBiAIAAMAUhCgAAABMQYgCAAC0czWu\n",
              "OrNHaBQhCgAA0E6Vna/RyxmHNPaFzTp+tsrscS4RaPYAAAAA8K6yyhr9fkeefr8jT+eqaiVJ7+8p\n",
              "1FNJNpMna4gQBQAAaCfOVFbr99l5enNHvs453QEaG9pVKUk23XljmMnTXYoQBQAAaONOV1QrPTtP\n",
              "f9iZr/L6AB3cL1gpSTb95IZ+8vf3M3nCxhGiAAAAbVRpRbXe2J6rt3bmq6LaJckdoPOTbbptSOsN\n",
              "0AsIUQAAgDamtKJav9ueq7e/F6BDwropJcmm24aEtvoAvYAQBQAAaCNOlTu1Znuu3tl1WJX1AXpD\n",
              "/25KTbLp1iGh8vNrGwF6ASEKAADQyp0sd2rNNneAnq9xB+iNA7opNSlWydeHtLkAvYAQBQAAaKVO\n",
              "nHNqzbYcvftJgSdAbwrvrtQkmxIHt90AvYAQBQAAaGVKzlXp9a25+uPuw6qqcf9WpGHh3TU/OVaT\n",
              "ruvb5gP0AkIUAACglSg5W6VVW3P03u4COWvdARo3sIdSk22aFNt+AvQCQhQAAMBkx8qqtHprjt77\n",
              "tEDV9QE6IqKHUpNjNcHWp90F6AWEKAAAgEmOlVVpVZZDa/cUegJ0ZGRPzU+2aby1/QboBYQoAABA\n",
              "Czty5rxWZeVo3Z5CVbvcARof1VOpSbEaZ+3d7gP0AkIUAACghRSfOa9VWQ69v6fIE6CjonppfrJN\n",
              "Y2J8J0AvIEQBAACaWdHpSr2WlaM/7y1UjcuQJI0e1EupyTaNifa9AL2AEAUAAGgmhaWVei3LofWf\n",
              "FXkCNCG6l1KTYjUmprfJ05mPEAUAAPCywtJKvbrFHaC1de4AHRvTW6lJNo2OJkAvIEQBAAC8pOBU\n",
              "pVZusWvjvmJPgI639lFqsk3xUb1Mnq71uaIQTUlJ0QcffKDDhw/r888/V1xcnE6dOqWkpCTPmsrK\n",
              "SuXm5qqkpES9ejU84Pn5+YqJidHQoUM92zZs2KCYmJhrfBkAAADmyT9ZoZVbHPrL58Vy1QfoLbY+\n",
              "mp9s08hIAvRyrihEp0+froULF2r8+PGebb1799b+/fs9j1988UVt3br1kgi9IDg4uMF6AACAtirv\n",
              "ZIVWbnbor/svBuiE2L5KTbJpZGRPk6dr/a4oRCdMmPCja9LT07Vs2bKrHggAAKC1yz1R7gnQ+v7U\n",
              "pOvcATo8ggBtKq9+RnTnzp06ffq07rrrrsuuqaioUHx8vFwul6ZOnapFixYpICCg0bVOp1NOp7PB\n",
              "NpfL5c2RAQAAmiynPkD/9r0ATRwcopQkm+IG9jB1trbIqyGanp6umTNnKjCw8d2GhYWpuLhYISEh\n",
              "Ki0t1X333aeXXnpJCxcubHT9smXLtHTp0gbbEhISvDkyAADAj3KUnNMrmx368IsjngBNqg/QYQTo\n",
              "VfMzDMO40i+KiorSX//6V8XFxXm2lZeXKywsTHv27NHgwYObtJ+1a9fqvffe04cfftjo843dEV28\n",
              "eLHS0tKudGQAAIArZj9+Tis2O/T3L4/oQjElXx+q1CSbhoZ3N3e4dsBrd0TXrVunYcOG/WCElpSU\n",
              "qGfPngoKCpLT6dTGjRs1fPjwy663WCyyWCwNtl3ubXwAAABvOXT8nFZk2rXpq6OeAL1tSKhSkmy6\n",
              "cQAB6i1XFKJz587Vpk2bdOzYMd1+++0KDg6Ww+GQ5H5bfs6cOZd8zZIlS9S/f3/NmzdP2dnZWrJk\n",
              "iQICAlRbW6vExEQtWrTIO68EAADgGn13zB2gH319MUB/ckM/PZVk1Q39CVBvu6q35s20YMECLV++\n",
              "3OwxAABAO/LN0bNakWnXx18f82y748Z+Skmy6fqwbiZO1r7xm5UAAIDPOnjEHaD/OOAOUD8/6c4b\n",
              "w/RUklWD+xGgzY0QBQAAPufAkTKlZdj1z4PHJbkD9KdDw5SSZFNsaLDJ0/kOQhQAAPiMr4vL9HKG\n",
              "XRnfXAzQu2/qr6cSrbIRoC2OEAUAAO3eV0VlSss8pIxvSiRJ/n7S3cPcAWoNIUDNQogCAIB264vC\n",
              "M0rLtGvztxcD9J64AXoy0aqYvl1Nng6EKAAAaHc+LzittEy7sr47IckdoFOHD9CTk62KJkBbDUIU\n",
              "AAC0G/sKTistw66th9wBGuDvp6n1d0AH9eli8nT4d4QoAABo8z47XKqXM+zabj8pyR2g9w4foCcm\n",
              "WxVFgLZahCgAAGiz9uSXKi3DrmyHO0AD/f00bUS4nphsVUTvziZPhx9DiAIAgDbn07xSpWUe0g7H\n",
              "KUnuAJ0+0h2gA3sRoG0FIQoAANqMT3JPKS3Drl25FwP0ZzcP1OOTYgjQNogQBQAArd6unFN6OeOQ\n",
              "dueVSpKCAi4GaHhPArStIkQBAECrZBiGO0Az7fq0PkA7BPjr5/HhemySVQN6dDJ5QlwrQhQAALQq\n",
              "hmFoh+OU0jIPaU/+aUnuAL0vfqAemxSj/gRou0GIAgCAVsEwDGU7TurlDLs+O1wfoIH+uj9+oOZN\n",
              "ilFYdwK0vSFEAQCAqQzD0Db7SaVlHNK+gjOS3AH6wKgIzZsYo37dO5o7IJoNIQoAAExhGIayDp1Q\n",
              "WoZd+wvPSJIsgf56YLQ7QEO7EaDtHSEKAABalGEYyvruhF7OtOuL+gDtGOSvX4yO1NwJ0QohQH0G\n",
              "IQoAAFqEYRja/G2J0jLt+rKoTJI7QB8cHalHJ0YrJJgA9TWEKAAAaFaGYSjjmxKtyLTrq2J3gHYK\n",
              "CtB/jonUnFui1TfYYvKEMAshCgAAmoVhGPrXweNKy7TrwJGzkqTOHS4GaJ+uBKivI0QBAIBX1dUZ\n",
              "+ufB41qRadfBo+4A7dIhQDPHRmn2+EHqTYCiHiEKAAC8wh2gx/Ryhl3fHjsnyR2gs8ZGafYt0erV\n",
              "pYPJE6K1IUQBAMA1qasz9I8Dx7Qi82KAdrUE6qGxUXpk/CD1JEBxGYQoAAC4KnV1hj76+qheyXTo\n",
              "u+PuAA22BOq/xkXp4fGD1KMzAYofRogCAIAr4qoz9NFXR7Ui0y57SbkkKbhjoP5r3CA9Mm6QuncO\n",
              "MnlCtBWEKAAAaBJXnaG/f3lEr2x2yFEfoN06Burh8YP0X+MGqXsnAhRXhhAFAAA/yFVn6MMvjuiV\n",
              "zXblnKiQ5A7Q2bdE66FxUerWkQDF1fG/ksUpKSmKioqSn5+f9u/f79keFRWl6667TnFxcYqLi9O6\n",
              "desuu4/09HTZbDbFxMRozpw5qqmpuerhAQBA86l11ekvnxfp1uVbNX/dfuWcqFD3TkF6+tZYZf8/\n",
              "iUpJshGhuCZXdEd0+vTpWrhwocaPH3/Jc+vWrVNcXNwPfn1eXp4WL16sffv2KTQ0VPfcc4/WrFmj\n",
              "J5544oqGBgAAzafWVae/7T+ilVscyjvpvgPao3OQ5twSrZljIhVMfMJLrihEJ0yYcE1/2Pr16zVl\n",
              "yhT169dPkjRv3jw9//zzhCgAAK2A+w5osV7d4lD+qUpJUs/OQZozIVozx0Spq4VP9MG7vHZGzZw5\n",
              "U4ZhaNSoUXrhhRfUt2/fS9YUFBQoMjLS8zgqKkoFBQWX3afT6ZTT6WywzeVyeWtkAAAgqeZ7AXq4\n",
              "PkB7denguQPahQBFM/HKmbVt2zZFRESopqZGv/zlLzVr1ix99NFH17zfZcuWaenSpQ22JSQkXPN+\n",
              "AQCAO0A37ivSyi0OFZaelyT17tJBj06I1oMJBCian1fOsIiICElSUFCQ5s+fr9jY2Muuy8nJ8TzO\n",
              "z8/3fG1jnn32WS1YsKDBtsWLF3thYgAAfFd1bZ027CvSq1scKjrtDtA+XTto7oQY/SIhQp07EKBo\n",
              "Gdd8plVUVKimpkY9evSQJK1du1bDhw9vdO20adM0fvx4PffccwoNDdXq1as1Y8aMy+7bYrHIYrE0\n",
              "2BYQEHCtIwMA4JOqa+u0/jN3gBafuRCgFs2bGK1fjI5Upw58j0XLuqIQnTt3rjZt2qRjx47p9ttv\n",
              "V3BwsP75z39q2rRpcrlcMgxD0dHRevvttz1fM3v2bE2ZMkVTpkxRdHS0li5dqnHjxkmSJk2apLlz\n",
              "53r3FQEAgAactS79eW+RVmXleAK0b7BF8ybG6IFREQQoTONnGIZh9hBXYsGCBVq+fLnZYwAA0Oo5\n",
              "a116f0+hXsvK0dGyKklSSLBFj02K0f2jItQxiACFufgQCAAA7UxVjUvr9hRqVVaOjp11B2hoN4se\n",
              "mxijGQQoWhFCFACAdqKqxqU/fVqgVVtzdPys+68/7Netox6fHKOf3zyQAEWrQ4gCANDGVdW49N7u\n",
              "Aq3emqOSc+4ADeveUY9PturnN4fLEkiAonUiRAEAaKPOV7v0x92H9fq2XJ2oD9D+9QH6MwIUbQAh\n",
              "CgBAG1NZXas/flKg17fl6mS5O0AH9OikJyZbNX1kuDoE+ps8IdA0hCgAAG1EZXWt3v3ksNZsy9XJ\n",
              "8mpJUnhPd4BOG0GAou0hRAEAaOUqnLV655PD+t22XJ2qcAfowF6d9ORkq+4dEa6gAAIUbRMhCgBA\n",
              "K1XurNXbu/L1xvY8ldYHaESvznoy0ar/GD6AAEWbR4gCANDKlDtr9dbOfL2xPVenK2skSZG9O+vJ\n",
              "yVZNJUDRjhCiAAC0EueqatwBmp2nM/UBOqhPFz052ap74vorkABFO0OIAgBgsrNVNfrDjnylZ+ep\n",
              "7Lw7QKP7dNFTSVbdfRMBivaLEAUAwCRl5y8EaK7OVtVKkqL7dlFKok13D+uvAH8/kycEmhchCgBA\n",
              "Cys7X6PfZ+fp9zvydK4+QGP6dlFKkk133USAwncQogAAtJCyyhql78jTm98LUFtIVz2VZNNPh4YR\n",
              "oPA5hCgAAM3sTGW10rPz9Icd+TrndAdobGhXpSTZdOeNYfInQOGjCFEAAJrJ6YpqvZGdq7d2HlZ5\n",
              "fYBeFxqs1GSbfnJDPwIUPo8QBQDAy0orqvXG9ly9tTNfFdUuSdLgfsFKTbLpdgIU8CBEAQDwklPl\n",
              "Tv1ue57e3pWvyvoAHRLWTSlJNt02JJQABf4NIQoAwDU6We7U77bl6p1PDnsC9Ib+3ZSaZNOtQ0Ll\n",
              "50eAAo0hRAEAuEony51asy1X7+w6rPM17gC9cUA3pSbFKvn6EAIU+BGEKAAAV6jkXJXWbM3Vu7sP\n",
              "q6qmTpJ0U3h3pSbZlDiYAAWaihAFAKCJSs5V6fWtufrj9wJ0WHh3zU+O1aTr+hKgwBUiRAEA+BEl\n",
              "Z6u0amuO3ttdIGetO0DjBvZQarJNk2IJUOBqEaIAAFzG8bNVWpWVo/c+LVB1fYCOiOih1ORYTbD1\n",
              "IUCBa0SIAgDwb46WndfqrByt3VPoCdCRkT01P9mm8VYCFPAWQhQAgHpHzpzXqqwcrdtTqGqXO0Bv\n",
              "juyp+cmxGmftTYACXkaIAgB8XvGZ81qV5dD7e4o8ATpqUC/NT7JpTAwBCjQXQhQA4LOKTlfqtawc\n",
              "/XlvoWpchiRp9KBemp8cqzExvU2eDmj/rihEU1JS9MEHH+jw4cP6/PPPFRcXp6qqKs2YMUMHDx5U\n",
              "p06dFBISolWrVslqtV7y9fn5+YqJidHQoUM92zZs2KCYmJhrfyUAADRRYWmlXstyaP1nRZ4AHRPd\n",
              "W6nJNiVEE6BAS7miEJ0+fboWLlyo8ePHN9j+6KOP6o477pCfn59Wrlyp2bNnKysrq9F9BAcHa//+\n",
              "/Vc7LwAAV62wtFKvbnEHaG2dO0DHWXsrNSlWowb1Mnk6wPdcUYhOmDDhkm0dO3bUnXfe6XmckJCg\n",
              "F1988donAwDASwpOVWrlFrs27iv2BOh4ax+lJtsUH0WAAmbx+mdE09LSdM8991z2+YqKCsXHx8vl\n",
              "cmnq1KlatGiRAgICGl3rdDrldDobbHO5XF6dFwDQfh0+VaGVmx3a+HmxXPUBeoutj+Yn2zQykgAF\n",
              "zObVEH3++eflcDiUmZnZ6PNhYWEqLi5WSEiISktLdd999+mll17SwoULG12/bNkyLV26tMG2hIQE\n",
              "b44MAGiH8k66A/Sv+y8G6MTYvkpJsmlkZE+TpwNwgb+3dvTiiy9q48aN+vjjj9W5c+dG11gsFoWE\n",
              "hEiSevXqpYcffljbt2+/7D6fffZZlZWVNfhn1KhR3hoZANDO5J4o14J1+5X0UpY27CuSq87QpOv6\n",
              "6i+Pj9VbD48iQoFWxit3RJcvX661a9cqIyNDPXr0uOy6kpIS9ezZU0FBQXI6ndq4caOGDx9+2fUW\n",
              "i0UWi6XBtsu9jQ8A8F05J8q1crNDf9tfrPoboEocHKKUJJviBvYwdTYAl3dFITp37lxt2rRJx44d\n",
              "0+23367g4GBlZWXp6aefVnR0tCZPnizJHZC7d++WJC1ZskT9+/fXvHnzlJ2drSVLliggIEC1tbVK\n",
              "TEzUokWLvP+qAAA+wVFSrlc22/XhF0c8AZp8vTtAbwrvYepsAH6cn2EYhtlDXIkFCxZo+fLlZo8B\n",
              "ADCR/fg5rdjs0N+/PKIL38VuHRKq1CSbbhzQ3dzhADQZv1kJANBmHDp+Tisy7dr01VFPgN42JFQp\n",
              "BCjQJhGiAIBW77tj7gD96OuLAfqTG/rpqSSrbuhPgAJtFSEKAGi1vjl6Visy7fr462OebXcO7aen\n",
              "Em26PqybiZMB8AZCFADQ6hw84g7QfxxwB6ifn3TnjWF6Ksmqwf0IUKC9IEQBAK3G18VlWpFp1z8P\n",
              "HpfkDtCfDg1TSpJNsaHBJk8HwNsIUQCA6b4uLtPLGXZlfHMxQO++qb+eSrTKRoAC7RYhCgAwzVdF\n",
              "ZUrLPKSMb0okSf5+0t3D3AFqDSFAgfaOEAUAtLgvCs8oLdOuzd9eDNB74gboyUSrYvp2NXk6AC2F\n",
              "EAUAtJjPC04rLdOurO9OSHIH6NThA/TkZKuiCVDA5xCiAIBmt6/gtNIy7Np6yB2gAf5+mlp/B3RQ\n",
              "ny4mTwfALIQoAKDZfHa4VC9n2LXdflKSO0DvHT5AT0y2KooABXweIQoA8Lo9+aVKy7Ar2+EO0EB/\n",
              "P907wh2gkb0JUABuhCgAwGt2555SWqZdO3NOSXIH6PSR4XpislUDe3U2eToArQ0hCgC4Zp/knlJa\n",
              "hl27ci8G6M9uHqjHJ8UQoAAuixAFAFy1XTmn9HLGIe3OK5UkBQVcDNDwngQogB9GiAIArohhGO4A\n",
              "zbTr0/oA7RDgr5/Hh+uxSVYN6NHJ5AkBtBWEKACgSQzD0A7HKaVlHtKe/NOS3AF6X/xAPTYpRv0J\n",
              "UABXiBAFAPwgwzCU7TiplzPs+uxwfYAG+uv++IGaNylGYd0JUABXhxAFADTKMAxts59UWsYh7Ss4\n",
              "I8kdoA+MitC8iTHq172juQMCaPMIUQBAA4ZhKOvQCaVl2LW/8IwkyRLorwdGuwM0tBsBCsA7CFEA\n",
              "gKT6AP3uhF7OtOuL+gDtGOSvX4yO1NwJ0QohQAF4GSEKAD7OMAxt/rZEaZl2fVlUJskdoA+OjtSj\n",
              "E6MVEkyAAmgehCgA+CjDMJTxTYlWZNr1VbE7QDsFBeg/x0Rqzi3R6htsMXlCAO0dIQoAPsYwDP3r\n",
              "4HGlZdp14MhZSVLnDhcDtE9XAhRAyyBEAcBH1NUZ+ufB41qRadfBoxcDdOaYKM25ZZB6E6AAWhgh\n",
              "CgDtXF2dof974JjSMu369tg5SVKXDgGaNTZKs2+JVq8uHUyeEICvIkQBoJ2qqzP0jwPHtOJ7AdrV\n",
              "EqhZYyM1e3y0ehKgAExGiAJAO1NXZ+ijr4/qlUyHvjvuDtBgS6AeGhelR8YPUo/OBCiA1sH/Shan\n",
              "pKQoKipKfn5+2r9/v2e73W7X2LFjFRsbq/j4eB04cOCy+0hPT5fNZlNMTIzmzJmjmpqaqx4eAHCR\n",
              "q87QB18c0e0vb9OT732u746fU7AlUClJNmU/k6inb7uOCAXQqlxRiE6fPl3Z2dmKjIxssH3u3Ll6\n",
              "9NFHdejQIT3zzDN66KGHGv36vLw8LV68WNu3b5fD4dDx48e1Zs2aqx4eAOAO0L/tL9btL29TytrP\n",
              "ZS8pV3DHQKXWB+iCW2PVvXOQ2WMCwCWuKEQnTJig8PDwBttKSkq0d+9ePfjgg5KkadOmqbCwUA6H\n",
              "45KvX79+vaZMmaJ+/frJz89P8+bN09q1a69hfADwXa46Q3/9vFi3/X9blfqn/XKUlKtbx0D9n+RY\n",
              "ZT+TqP9DgAJo5a75M6KFhYUKCwtTYKB7V35+foqIiFBBQYGsVmuDtQUFBQ3upkZFRamgoOCy+3Y6\n",
              "nXI6nQ22uVyuax0ZANq0WledPvjiiFZudij3ZIUkqXunID0yfpAeGhelbh2JTwBtQ6v+YaVly5Zp\n",
              "6dKlDbYlJCSYNA0AmKvWVae/7T+ilVscyqsP0B6dgzR7/CDNGhulYAIUQBtzzSE6cOBAHT16VLW1\n",
              "tQoMDJRhGCooKFBERMQlayMiIpSTk+N5nJ+f3+i6C5599lktWLCgwbbFixdf68gA0KbUuur0l8+L\n",
              "9eoWh/JPVUqSenYO0uxbojVrbJS6Wlr1PQUAuKxrvnqFhIRoxIgRevfdd/XQQw9pw4YNCg8Pv+Rt\n",
              "ecn9+dHx48frueeeU2hoqFavXq0ZM2Zcdt8Wi0UWS8Pf9BEQEHCtIwNAm1DjqtNf9hVr5RaHCkrd\n",
              "AdqrSwfNuSVa/zkmkgAF0OZd0VVs7ty52rRpk44dO6bbb79dwcHBcjgcev311/XQQw/p+eefV7du\n",
              "3fTmm296vmb27NmaMmWKpkyZoujoaC1dulTjxo2TJE2aNElz58717isCgDauxlWnjfuKtHKLQ4Wl\n",
              "5yW5A/TRCdH6z4RIdSFAAbQTfoZhGGYPcSUWLFig5cuXmz0GAHhddW2dNuwr0qtbHCo67Q7QPl3d\n",
              "AfpgQqQ6dyBAAbQvXNUAwGTVtXVa/5k7QIvPXAhQi+ZNjNYvRkeqUwc+kgSgfSJEAcAkzlqX/ry3\n",
              "SKuycjwB2jfYorkTCFAAvoEQBYAW5qx16f09hXotK0dHy6okSSHBFs2bGKMHRkeoYxABCsA3EKIA\n",
              "0EKqalx6f2+hXtuSo2Nn3QEa2s2ixybGaMYoAhSA7yFEAaCZVdW49KdPC7Rqa46On3X/trh+3Trq\n",
              "8ckx+vnNAwlQAD6LEAWAZlJV49J7uwu0emuOSs65AzSse0c9PilGP48fKEsgAQrAtxGiAOBlVTUu\n",
              "/bE+QE/UB2j/7h31+GSrfnZzOAEKAPUIUQDwkvPVLv1x92Gt3pqrk+XuAB3Qo5OemGzV9JHh6hDo\n",
              "b/KEANC6EKIAcI0qq2v1x08K9Pq2HJ0sr5YkhffspCcnW3XvCAIUAC6HEAWAq1RZXat3dh3Wmm25\n",
              "OlXhDtCBvS4GaFAAAQoAP4QQBYArVOGs1du7Dut323NVWh+gkb0764nJVv3H8AEEKAA0ESEKAE1U\n",
              "7qzVWzvz9cb2XJ2urJHkDtCnEm2aGtdfgQQoAFwRQhQAfsS5qhrPHdAz9QE6qE8XPTnZqnsIUAC4\n",
              "aoQoAFzGuaoa/WFHvt7IzlPZeXeARvfpoqeSrLr7JgIUAK4VIQoA/+ZsVY3ezM5XenauzlbVSpKi\n",
              "+3ZRapJNd93UXwH+fiZPCADtAyEKAPXKztfozR15+n12nidArSFd9VSilQAFgGZAiALweWWVNUrf\n",
              "kac3d+TpXH2A2kK6KiXJpjuHhhGgANBMCFEAPutMZbXSs/P0hx35Oud0B2hsaH2A3hgmfwIUAJoV\n",
              "IQrA55yuqA/Qnfkqrw/Qwf2ClZJk009u6EeAAkALIUQB+IzSimq9sT1Xb+3MV0W1S5I7QOcn23Tb\n",
              "EAIUAFoaIQqg3TtV7tTvtufp7V35qqwP0CFh3ZSSZNNtQ0IJUAAwCSEKoN06Ve7Umu25emfXYU+A\n",
              "3tC/m1KTbLp1SKj8/AhQADATIQqg3TlZ7tSabe4APV/jDtAbB3TT/KRYJV0fQoACQCtBiAJoN06c\n",
              "c2rNthy988lhVdXUSZJuCu+u1CSbEgcToADQ2hCiANq8knNVen1rrv64+2KADgvvrvnJsZp0XV8C\n",
              "FABaKUIUQJtVcrZKq7bm6L3dBXLWugM0bmAPpSbbNCmWAAWA1o4QBdDmHCur0uqtOXrv0wJV1wfo\n",
              "iIgeSk2O1QRbHwIUANoIQhRAm3GsrEqrshxau6fQE6AjI3tqfrJN460EKAC0NV4L0VOnTikpKcnz\n",
              "uLKyUrm5uSopKVGvXr082/Pz8xUTE6OhQ4d6tm3YsEExMTHeGgVAO3PkzHmtysrRuj2Fqna5AzQ+\n",
              "qqdSk2I1ztqbAAWANsprIdq7d2/t37/f8/jFF1/U1q1bG0ToBcHBwQ3WAkBjis+c16osh97fU+QJ\n",
              "0FGDeml+kk1jYghQAGjrmu2t+fT0dC1btqy5dg+gHSs6XanXsnL0572FqnEZkqTRg3ppfnKsxsT0\n",
              "Nnk6AIC3NEuI7ty5U6dPn9Zdd93V6PMVFRWKj4+Xy+XS1KlTtWjRIgUEBFyyzul0yul0Ntjmcrma\n",
              "Y2QArUBhqTtA1392MUDHRPdWarJNCdEEKAC0N80Sounp6Zo5c6YCAy/dfVhYmIqLixUSEqLS0lLd\n",
              "d999eumll7Rw4cJL1i5btkxLly5tsC0hIaE5RgZgosLSSr26xaH1nxWpts4doGNjeis1yabRBCgA\n",
              "tFt+hmEY3txheXm5wsLCtGfPHg0ePPhH169du1bvvfeePvzww0uea+yO6OLFi5WWlua1eQGYp+BU\n",
              "pVZusWvjvmJPgI639lFqsk3xUZd+vhwA0L54/Y7ounXrNGzYsMtGaElJiXr27KmgoCA5nU5t3LhR\n",
              "w4cPb3StxWKRxWJpsK2xt/ABtC2HT1Vo5WaHNn5eLFd9gN5i66P5yTaNjCRAAcBXeD1E09PTNWfO\n",
              "nAbblixZov79+2vevHnKzs7WkiVLFBAQoNraWiUmJmrRokXeHgNAK5R/skKvbHbor/svBuiE2L5K\n",
              "TbJpZGRPk6cDALQ0r78139wWLFig5cuXmz0GgCuQe6JcK+sDtL4/Nem6vkpJsmlEBAEKAL6K36wE\n",
              "oNnk1Afo374XoImDQ5SSZFPcwB6mzgYAMB8hCsDrHCXlemWzXR9+ccQToEn1ATqMAAUA1CNEAXiN\n",
              "/fg5rdjs0N+/PKILH/pJvj5UqUk2DQ3vbu5wAIBWhxAFcM0OHT+nFZl2bfrqqCdAbx3iDtAbBxCg\n",
              "AIDGEaIArtp3x9wB+tHXFwP09htClZJk0w39CVAAwA8jRAFcsW+PnXUH6FfHPNvuuLGfnkq0aUj/\n",
              "biZOBgBoSwhRAE128Ig7QP9x4GKA3jnUHaDXhxGgAIArQ4gC+FFfF5dpRaZd/zx4XJLk5yfdOTRM\n",
              "KYk2Xdcv2OTpAABtFSEK4LK+Li5TWqZd//pegN51U389lWhVbCgBCgC4NoQogEt8VVSmtMxDyvim\n",
              "RJI7QKcMcweoNYQABQB4ByEKwOOLwjNKy7Rr87fuAPWvD9AnE22yhnQ1eToAQHtDiALQ/sIzSss4\n",
              "pC3fnZDkDtCpcQP0RKJVMX0JUABA8yBEAR+2r+C00jLs2nrIHaAB/n6aGjdATyZaNahPF5OnAwC0\n",
              "d4Qo4IM+O1yqlzPs2m4/KckdoP8xfICenGxVFAEKAGghhCjgQ/bmlyots2GAThsxQE9MtiqyNwEK\n",
              "AGhZhCjgAz7NK1Va5iHtcJySJAX6+2n6yHA9Mdmqgb06mzwdAMBXEaJAO/ZJ7imlZdi1K/digP7s\n",
              "5nA9PokABQCYjxAF2qFdOaf0csYh7c4rlSQFBfjpZzcP1OOTYhTekwAFALQOhCjQThiG4Q7QTLs+\n",
              "rQ/QDgH++nl8uB6bZNWAHp1MnhAAgIYIUaCNMwxDO+vvgO7JPy3JHaD3xQ/UY5Ni1J8ABQC0UoQo\n",
              "0EYZhqFsx0mlZdi193B9gAb66/74gZo3KUZh3QlQAEDrRogCbYxhGNpmP6m0jEPaV3BGkjtAHxgV\n",
              "oXkTY9Sve0dzBwQAoIkIUaCNMAxDWYdOKC3Drv2FZyRJlkB/PTDaHaCh3QhQAEDbQogCrZxhGMr6\n",
              "7oRezrTri/oA7Rjkr1+MjtTcCdEKIUABAG0UIQq0UoZhaPO3JUrLtOvLojJJ7gB9cHSkHp0YrZBg\n",
              "AhQA0LYRokArYxiGMr4p0YpMu74qdgdop6AA/eeYSM25JVp9gy0mTwgAgHcQokArYRiG/nXwuNIy\n",
              "7Tpw5KwkqXOHiwHapysBCgBoXwhRwGR1dYb+efC4VmTadfDoxQCdOSZKc24ZpN4EKACgnfJqiEZF\n",
              "RclisahTJ/ffX/jss8/qvvvuu2Rdenq6XnjhBdXV1SkxMVGvvfaagoKCvDkK0OrV1Rn6vweOKS3T\n",
              "rm+PnZMkdekQoFljozT7lmj16tLB5AkBAGheXr8jum7dOsXFxV32+by8PC1evFj79u1TaGio7rnn\n",
              "Hq1Zs0ZPPPGEt0cBWqW6OkP/OHBMK74XoF0tgXpobJQeGT9IPQlQAICPaPG35tevX68pU6aoX79+\n",
              "kqR58+bp+eefJ0TR7tXVGfro66N6JdOh7467AzTYEqiHxrkDtEdnAhQA4Fu8HqIzZ86UYRgaNWqU\n",
              "XnjhBfXt27fB8wUFBYqMjPQ8joqKUkFBQaP7cjqdcjqdDba5XC5vjww0K1edoU1fHdUrmXbZS8ol\n",
              "ScEdA/Vf4wbpkXGD1L0zH0sBAPgmr4botm3bFBERoZqaGv3yl7/UrFmz9NFHH131/pYtW6alS5c2\n",
              "2JaQkHCtYwItwlVn6O9fHtErmx1yfC9AHx43SA+PH6TunQhQAIBv82qIRkRESJKCgoI0f/58xcbG\n",
              "NromJyfH8zg/P9/zdf/u2Wef1YIFCxpsW7x4sRcnBrzPVWfowy+O6JXNduWcqJAkdesYqEfGR+uh\n",
              "cVEEKAAA9bwWohUVFaqpqVGPHj0kSWvXrtXw4cMvWTdt2jSNHz9ezz33nEJDQ7V69WrNmDGj0X1a\n",
              "LBZZLA3/6pqAgABvjQx4Va2rTh98cUQrNzuUe9IdoN07BWn2+EGaNS5K3ToSoAAAfJ/XQvT48eOa\n",
              "Nm2aXC6XDMNQdHS03n77bUnS7NmzNWXKFE2ZMkXR0dFaunSpxo0bJ0maNGmS5s6d660xgBZX66rT\n",
              "3/Yf0cotDuXVB2iPzkGac0u0Zo6JVDABCgBAo/wMwzDMHuJKLFiwQMuXLzd7DEC1rjr95fNivbrF\n",
              "ofxTlZKknp2DNPuWaM0aG6WuFn5fBAAAP4TvlMAVqqkP0JWbHSoodQdory4dPHdAuxCgAAA0Cd8x\n",
              "gSaqcdVp474irdziUGHpeUlS7y4d9OiEaD2YQIACAHCl+M4J/Ijq2jpt2FekV7c4VHTaHaB9ul4M\n",
              "0M4d+M8IAICrwXdQ4DKqa+u0/jN3gBafuRCgFs2bGK1fjI5Upw78DQ4AAFwLQhT4N85al/68t0ir\n",
              "snI8Ado32KJ5E2P0wKgIAhQAAC8hRIF6zlqX3t9TqFVZOTpSViVJCgm26LFJMbp/VIQ6BhGgAAB4\n",
              "EyEKn1dV49L7ewv12pYcHTvrDtDQbhY9NjFGMwhQAACaDSEKn1VV49KfPi3Qqq05On7WKUnq162j\n",
              "Hp8co5/fPJAABQCgmRGi8DlVNS6t/bRAq78XoGHdO+rxyVb9/OZwWQIJUAAAWgIhCp9RVePSH3e7\n",
              "A/TEOXeADujRSY9NitHPCFAAAFocIYp273y1S3/cfVirt+bqZPnFAH1islXTR4arQ6C/yRMCAOCb\n",
              "CFG0W5XVtXr3k8Nasy1XJ8urJUnhPTvpyclW3TuCAAUAwGyEKNqdyupavbPLHaCnKtwBOrDXxQAN\n",
              "CiBAAQBoDQhRtBsVzlq9veuwfrc9V6X1ARrZu7OemGzVfwwfQIACANDKEKJo88qdtXprZ77e2J6r\n",
              "05U1ktwB+lSiTVPj+iuQAAUAoFUiRNFmnauq8dwBPVMfoIP6dNGTk626hwAFAKDVI0TR5pytqtFb\n",
              "O/L1Rnaeys67AzS6Txc9lWTV3TcRoAAAtBWEKNqMs1U1ejM7X+nZuTpbVStJiu7bRSmJNt09rL8C\n",
              "/P1MnhAAAFwJQhStXtn5Gr25I0+/z87zBKg1pKueSrTqrpsIUAAA2ipCFK1WWWWN0nfk6c0deTpX\n",
              "H6C2kK5KSbLpzqFhBCgAAG0cIYpW50xltdKz8/SHHfk653QHaGxofYDeGCZ/AhQAgHaBEEWrcbqi\n",
              "PkB35qu8PkAH9wtWSpJNP7mhHwEKAEA7Q4jCdKUV1Xpje67e2pmvimqXJHeAzk+26bYhBCgAAO0V\n",
              "IQrTnCp36nfb8/TOrosBOiSsm1KSbLptSCgBCgBAO0eIosWdKndqzfZcvbPrsCrrA/SG/t2UmmTT\n",
              "rUNC5edHgAIA4AsIUbSYk+VOrdnmDtDzNe4AvXFAN6UmxSr5+hACFAAAH0OIotmVnKvSmq25enf3\n",
              "YVXV1EmSbgrvrtQkmxIHE6AAAPgqr4VoVVWVZsyYoYMHD6pTp04KCQnRqlWrZLVaG6zLz89XTEyM\n",
              "hg4d6tm2YcMGxcTEeGsUtBIl56r0+tZc/fF7ATosvLvmJ8dq0nV9CVAAAHycV++IPvroo7rjjjvk\n",
              "5+enlStXavbs2crKyrpkXXBwsPbv3+/NPxqtSMnZKq3amqP3dhfIWesO0LiBPZSabNOkWAIUAAC4\n",
              "eS1EO3bsqDvvvNPzOCEhQS+++KK3do824FhZlVZvzdF7nxaouj5AR0T0UGpyrCbY+hCgAACggWb7\n",
              "jGhaWpruueeeRp+rqKhQfHy8XC6Xpk6dqkWLFikgIOCSdU6nU06ns8E2l8vVLPPi6h0tO6/VWTla\n",
              "u6fQE6AjI3tqfrJN460EKAAAaFyzhOjzzz8vh8OhzMzMS54LCwtTcXGxQkJCVFpaqvvuu08vvfSS\n",
              "Fi5ceMnaZcuWaenSpQ22JSQkNMfIuApHzpzXqqwcrdtTqGqXO0Djo3oqNSlW46y9CVAAAPCD/AzD\n",
              "MLy5wxdffFF/+tOflJGRoR49evzo+rVr1+q9997Thx9+eMlzjd0RXbx4sdLS0rw1Lq5C8ZnzWpXl\n",
              "0Pt7ijwBOmpQL81PsmlMDAEKAACaxqt3RJcvX661a9f+YISWlJSoZ8+eCgoKktPp1MaNGzV8+PBG\n",
              "11osFlkslgbbGnsLHy2j6HSlXsvK0Z/3FqrG5f7/l9GDeml+cqzGxPQ2eToAANDWeC1Ei4qK9PTT\n",
              "Tys6OlqTJ0+W5A7J3bt3a8mSJerfv7/mzZun7OxsLVmyRAEBAaqtrVViYqIWLVrkrTHQDApLK/Va\n",
              "lkPrPyvyBOiY6N5KTbYpIZoABQAAV8frb803twULFmj58uVmj+ETCksr9eoWd4DW1rlPk7ExvZWa\n",
              "ZNNoAhQAAFwjfrMSLlFwqlIrt9i1cV+xJ0DHW/soNdmm+KheJk8HAADaC0IUHvknK7Ryi0N/+bxY\n",
              "rvoAvcXWR/OTbRoZSYACAADvIkShvJMVWrnZob/uvxigE2L7KjXJppGRPU2eDgAAtFeEqA/LPVHu\n",
              "CdD6/tTE2L5KTbZpRAQBCgAAmhch6oMcJeVaudmuD7444gnQydf1VWpyrOIG9jB1NgAA4DsIUR/i\n",
              "KDmnVzY79MEXR3Th70pIGhyilCSbhhGgAACghRGiPsB+/JxWbHbo719eDNDk60OVmmTT0PDu5g4H\n",
              "AAB8FiHajh06fk4rMu3a9NVRT4DeNiRUKUk23TiAAAUAAOYiRNuhb4+d1SuZDn309cUAvf0Gd4De\n",
              "0J8ABQAArQMh2o58c/SsVmTa9fHXxzzb7rixn1KSbLo+rJuJkwEAAFyKEG0HDh5xB+g/DrgD1M9P\n",
              "uvPGMD2VZNXgfgQoAABonQjRNuzr4jKtyLTrnwePS3IH6E+HhiklyabY0GCTpwMAAPhhhGgb9HVx\n",
              "mV7OsCvjm4sBetdN/ZWSaJWNAAUAAG0EIdqGfFVUprTMQ8r4pkSS5O8n3T2sv55KtMoaQoACAIC2\n",
              "hRBtA74oPKO0TLs2f3sxQO+JG6AnE62K6dvV5OkAAACuDiHain1ecFppmXZlfXdCkjtAp9YHaDQB\n",
              "CgAA2jhCtBXaV3BaaRl2bT3kDtAAfz9PgA7q08Xk6QAAALyDEG1FPjtcqpcz7NpuPynJHaD3Dh+g\n",
              "JyZbFUWAAgCAdoYQbQX25JcqLcOubIc7QAP9/XTviAF6crJNEb07mzwdAABA8yBETfRpXqnSMg9p\n",
              "h+OUJHeATh8ZricmWzWwFwEKAADaN0LUBJ/knlJahl27ct0BGhTgp+kjB+rxSTEEKAAA8BmEaAva\n",
              "lXNKL2cc0u68UknuAP35zQP12KQYhfckQAEAgG8hRJuZYRjuAM2069P6AO0Q4K+fx4frsUlWDejR\n",
              "yeQJAQAAzEGINhPDMLSz/g7onvzTktwBel+8+w5ofwIUAAD4OELUywzDULbjpNIy7Np7uD5AA/11\n",
              "f/xAzZsUo7DuBCgAAIBEiHqNYRjaZj+ptIxD2ldwRpI7QB8YFaHHJsUotFtHcwcEAABoZQjRa2QY\n",
              "hrYeOqGXM+zaX3hGkmQJ9NcDoyM0byIBCgAAcDmE6FUyDENZ353Qy5l2fVEfoB2D/PWL0ZGaOyFa\n",
              "IQQoAADAD/L35s7sdrvGjh2r2NhYxcfH68CBA42uS09Pl81mU0xMjObMmaOamhpvjtGsDMNQ5jfH\n",
              "dc+rO/Rff9ijLwrPqGOQv2aPH6RtCydr8V1DiFAAAIAm8GqIzp07V48++qgOHTqkZ555Rg899NAl\n",
              "a/Ly8rR48WJt375dDodDx48f15o1a7w5RrMwDEMZB49rysodeuStvfqyqEydggL06IRobV+YqF/e\n",
              "NUQhwQQoAABAU3ktREtKSrR37149+OCDkqRp06apsLBQDoejwbr169drypQp6tevn/z8/DRv3jyt\n",
              "XbvWW2N4nWEY+ueBY7p7ZbZmv71XXxWXqXOHAM2dGK3tz0zW/3vn9eobbDF7TAAAgDbHa58RLSws\n",
              "VFhYmAID3bv08/NTRESECgoKZLVaPesKCgoUGRnpeRwVFaWCgoJG9+l0OuV0Ohtsc7lc3hr5R207\n",
              "dEIvfPytDh49K0nq3CFAM8dEac4tg9S7K/EJAABwLVr1DystW7ZMS5cubbAtISGhxf78wtOVOnj0\n",
              "rLp0CNCssVGafUu0enXp0GJ/PgAAQHvmtRAdOHCgjh49qtraWgUGBsowDBUUFCgiIqLBuoiICOXk\n",
              "5Hge5+fnX7LmgmeffVYLFixosG3x4sXeGvlH/WzkQJ2prNEDoyLUkwAFAADwKq99RjQkJEQjRozQ\n",
              "u+++K0nasGGDwsPDG7wtL7k/O/rBBx/o2LFjMgxDq1ev1owZMxrdp8ViUbdu3Rr8ExAQ4K2Rf1SH\n",
              "QH89MdlKhAIAADQDr/7U/Ouvv67XX39dsbGxeuGFF/Tmm29KkmbPnq0PPvhAkhQdHa2lS5dq3Lhx\n",
              "slqt6tu3r+bOnevNMQAAANAG+BmGYZg9xJVYsGCBli9fbvYYAAAAuEZevSMKAAAANBUhCgAAAFMQ\n",
              "ogAAADAFIQoAAABTEKIAAAAwBSEKAAAAUxCiAAAAMAUhCgAAAFMQogAAADBFm/vNSvfee6+ioqJa\n",
              "7M9zuVz69NNPNWrUqBb9PfdtDcepaThOTcNxahqOU9NwnJqOY9U0HKcfFxkZqdTU1B9d1+ZCtKWd\n",
              "PXtW3bt3V1lZmbp162b2OK0Wx6lpOE5Nw3FqGo5T03Ccmo5j1TQcJ+/hrXkAAACYghAFAACAKQhR\n",
              "AAAAmIIQ/REWi0X/8z//I4vFYvYorRrHqWk4Tk3DcWoajlPTcJyajmPVNBwn7+GHlQAAAGAK7ogC\n",
              "AADAFIQoAAAATEGIAgAAwBSEaD273a6xY8cqNjZW8fHxOnDgQKPr0tPTZbPZFBMTozlz5qimpqaF\n",
              "JzVPVVWVpk6dqtjYWA0bNky33nqrHA7HJevy8/MVEBCguLg4zz85OTkmTGyeqKgoXXfddZ7Xv27d\n",
              "ukbX+fL5dOrUqQbnSGxsrAIDA1VaWtpgnS+eTykpKYqKipKfn5/279/v2d7U65TkG+dWY8epqdcp\n",
              "yXfOrcudT029Tkm+cT5JjR+rpl6rJN85p7zKgGEYhjF58mTjzTffNAzDMP785z8bN9988yVrcnNz\n",
              "jbCwMOPo0aNGXV2dcffddxsrV65s4UnNc/78eWPTpk1GXV2dYRiG8corrxgTJ068ZF1eXp7RvXv3\n",
              "lh2ulYmMjDQ+//zzH1zj6+fTv/vtb39r3HXXXZds98XzaevWrUZhYeEl51FTrlOG4TvnVmPHqanX\n",
              "KcPwnXPrcudTU65ThuE755NhXP5Yfd/lrlWG4TvnlDdxR1RSSUmJ9u7dqwcffFCSNG3aNBUWFl7y\n",
              "f9Hr16/XlClT1K9fP/n5+WnevHlau3atGSObomPHjrrzzjvl5+cnSUpISFB+fr65Q7Vhvn4+/bv0\n",
              "9HQ98sgjZo/RKkyYMEHh4eENtjX1OiX5zrnV2HHiOnWpxo7TlfCV80lq2rHiWuVdhKikwsJChYWF\n",
              "KTAwUJLk5+eniIgIFRQUNFhXUFCgyMhIz+OoqKhL1viStLQ03XPPPY0+V1FRofj4eI0YMUK/+tWv\n",
              "5HK5Wng6882cOVNDhw7VI488ohMnTlzyPOfTRTt37tTp06d11113Nfo851PTr1MS59b3/dB1SuLc\n",
              "+rHrlMT59H0/dq2SOKeuFCGKq/L888/L4XBo2bJllzwXFham4uJi7dmzRxkZGdq+fbteeuklE6Y0\n",
              "z7Zt2/Tll19q37596tOnj2bNmmX2SK1aenq6Zs6c6Yms7+N8wtX6oeuUxLnFderK/dC1SuKcuhqE\n",
              "qKSBAwfq6NGjqq2tlSQZhqGCggJFREQ0WBcREaHDhw97Hufn51+yxhe8+OKL2rhxoz7++GN17tz5\n",
              "kuctFotCQkIkSb169dLDDz+s7du3t/SYprpwXgQFBWn+/PmNvn7OJ7fy8nK9//77evjhhxt9nvPJ\n",
              "ranXKYlzS/rx65TEudWU69SFdb5+Pkk/fq2SOKeuBiEqKSQkRCNGjNC7774rSdqwYYPCw8NltVob\n",
              "rJs2bZo++OADHTt2TIZhaPXq1ZoxY4YZI5tm+fLlWrt2rf71r3+pR48eja4pKSnx/ESl0+nUxo0b\n",
              "NXz48Bac0lwVFRU6c+aM5/HatWsbff2cT27r1q3TsGHDNHjw4Eaf9/Xz6YKmXqckzq2mXKck3z63\n",
              "mnqdkjifLvixa5Xk2+fUVTPzJ6Vak2+//dZISEgwbDabMXLkSOPLL780DMMwHnnkEeNvf/ubZ92a\n",
              "NWuM6OhoIzo62nj44YeN6upqs0ZucYWFhYYkIzo62hg2bJgxbNgwY9SoUYZhGMbixYuNVatWGYZh\n",
              "GBs2bDBuuOEG46abbjKGDBliPPnkk0ZVVZWZo7eonJwcIy4uzhg6dKhx4403GlOmTDHy8vIMw+B8\n",
              "asyYMWOM3//+9w22+fr59OijjxoDBgwwAgICjJCQECMmJsYwjMtfpwzDN8+txo7TD12nDMM3z63G\n",
              "jtMPXacMwzfPJ8O4/H97htH4tcowfPOc8iZ+1zwAAABMwVvzAAAAMAUhCgAAAFMQogAAADAFIQoA\n",
              "AABTEKIAAAAwBSEKAAAAUxCiAAAAMAUhCgAAAFMQogAAADAFIQoAAABTEKIAAAAwxf8P1vWVaFdb\n",
              "ndIAAAAASUVORK5CYII=\n",
              "\">\n",
              "      </div>\n",
              "      <script type=\"text/javascript\">\n",
              "        (() => {\n",
              "          const chartElement = document.getElementById(\"chart-1299f57c-e7c9-4f05-9ab3-0e53da9523b8\");\n",
              "          async function getCodeForChartHandler(event) {\n",
              "            const chartCodeResponse =  await google.colab.kernel.invokeFunction(\n",
              "                'getCodeForChart', [\"chart-1299f57c-e7c9-4f05-9ab3-0e53da9523b8\"], {});\n",
              "            const responseJson = chartCodeResponse.data['application/json'];\n",
              "            await google.colab.notebook.addCell(responseJson.code, 'code');\n",
              "          }\n",
              "          chartElement.onclick = getCodeForChartHandler;\n",
              "        })();\n",
              "      </script>\n",
              "      <style>\n",
              "        .colab-quickchart-chart-with-code  {\n",
              "            display: block;\n",
              "            float: left;\n",
              "            border: 1px solid transparent;\n",
              "        }\n",
              "\n",
              "        .colab-quickchart-chart-with-code:hover {\n",
              "            cursor: pointer;\n",
              "            border: 1px solid #aaa;\n",
              "        }\n",
              "      </style>"
            ]
          },
          "metadata": {}
        }
      ]
    },
    {
      "cell_type": "markdown",
      "source": [
        "It becomes clear that the predicted transcriptions are acoustically similar to the target transcriptions, but often contain spelling or grammatical errors. This is mainly because of purely rely on Wav2Vec2 without making use of a language model and also due to limited training."
      ],
      "metadata": {
        "id": "M3uzOv3qzHN1"
      }
    },
    {
      "cell_type": "markdown",
      "source": [
        "*To check how the CTC works.*"
      ],
      "metadata": {
        "id": "e6azBPaSzsur"
      }
    },
    {
      "cell_type": "code",
      "source": [
        "model.to(\"cuda\")\n",
        "\n",
        "with torch.no_grad():\n",
        "  logits = model(torch.tensor(timit[\"test\"][:1][\"input_values\"], device=\"cuda\")).logits\n",
        "\n",
        "pred_ids = torch.argmax(logits, dim=-1)\n",
        "\n",
        "# convert ids to tokens\n",
        "\" \".join(processor.tokenizer.convert_ids_to_tokens(pred_ids[0].tolist()))"
      ],
      "metadata": {
        "colab": {
          "base_uri": "https://localhost:8080/",
          "height": 140
        },
        "id": "WIcgY7LmmUOg",
        "outputId": "7201421f-49da-4272-9b3a-bdfe077a0fa6"
      },
      "execution_count": null,
      "outputs": [
        {
          "output_type": "execute_result",
          "data": {
            "text/plain": [
              "'[PAD] [PAD] [PAD] [PAD] [PAD] [PAD] t t h e | | [PAD] b b [PAD] [PAD] u u n n [PAD] g g [PAD] [PAD] l l [PAD] [PAD] [PAD] o o o | [PAD] w a a s s | [PAD] [PAD] [PAD] [PAD] p l l [PAD] e [PAD] [PAD] s [PAD] [PAD] e n t t t l l y y | | | s s [PAD] [PAD] [PAD] i [PAD] [PAD] [PAD] t [PAD] [PAD] u u [PAD] [PAD] [PAD] [PAD] [PAD] a a [PAD] t t e e d d | [PAD] [PAD] n n e a a r r | | t h e e | [PAD] s s h h [PAD] [PAD] [PAD] [PAD] o o o r r r | | [PAD] [PAD] [PAD] [PAD] [PAD] [PAD] [PAD] [PAD] [PAD]'"
            ],
            "application/vnd.google.colaboratory.intrinsic+json": {
              "type": "string"
            }
          },
          "metadata": {},
          "execution_count": 72
        }
      ]
    },
    {
      "cell_type": "markdown",
      "source": [
        "*Checking the performance of the model on a real world audio file*"
      ],
      "metadata": {
        "id": "oKiKEZxCz4d1"
      }
    },
    {
      "cell_type": "code",
      "source": [
        "import torch\n",
        "# from transformers import Wav2Vec2ForCTC, Wav2Vec2Processor\n",
        "import librosa\n",
        "import soundfile as sf  # Required for loading audio from Google Drive\n",
        "\n",
        "# Load pre-trained processor and model from saved files\n",
        "# processor = Wav2Vec2Processor.from_pretrained(\"/content/drive/MyDrive/wav2vec2-large.saveDemo/checkpoint-884\")\n",
        "# model = Wav2Vec2ForCTC.from_pretrained(\"/content/drive/MyDrive/wav2vec2-large.saveDemo/checkpoint-884\").cuda()\n",
        "\n",
        "# Load and preprocess the audio file using soundfile\n",
        "audio_file = \"/content/drive/MyDrive/love.wav\"\n",
        "\n",
        "# Load the audio using soundfile (sf) to handle non-seekable files (Google Drive)\n",
        "audio_input, sampling_rate = sf.read(audio_file)\n",
        "\n",
        "# Check if the audio sample rate matches the required rate for the model (16kHz)\n",
        "if sampling_rate != 16000:\n",
        "    print(f\"Warning: Expected 16kHz sample rate, but got {sampling_rate}Hz. Resampling to 16kHz.\")\n",
        "    audio_input = librosa.resample(audio_input, orig_sr=sampling_rate, target_sr=16000)\n",
        "    sampling_rate = 16000  # Update sampling_rate after resampling\n",
        "\n",
        "# Process the audio for the model\n",
        "input_values = processor(audio_input, return_tensors=\"pt\", sampling_rate=sampling_rate).input_values.cuda()  # Move to GPU\n",
        "\n",
        "# Get model's prediction\n",
        "with torch.no_grad():\n",
        "    logits = model(input_values).logits\n",
        "\n",
        "# Get the most likely token ids\n",
        "predicted_ids = torch.argmax(logits, dim=-1)\n",
        "\n",
        "# Decode the prediction into text\n",
        "transcription = processor.decode(predicted_ids[0])\n",
        "\n",
        "# Display the transcription\n",
        "print(\"Transcription:\", transcription)\n",
        "\n",
        "#Play the original audio\n",
        "ipd.display(ipd.Audio(audio_file))\n"
      ],
      "metadata": {
        "colab": {
          "base_uri": "https://localhost:8080/",
          "height": 110
        },
        "id": "Lbong4mQ5GnB",
        "outputId": "097e1585-1eb9-4d6f-cac2-96e1b979a937"
      },
      "execution_count": null,
      "outputs": [
        {
          "output_type": "stream",
          "name": "stdout",
          "text": [
            "Warning: Expected 16kHz sample rate, but got 24000Hz. Resampling to 16kHz.\n",
            "Transcription: lks like allove the first sight to me\n"
          ]
        },
        {
          "output_type": "display_data",
          "data": {
            "text/plain": [
              "<IPython.lib.display.Audio object>"
            ],
            "text/html": [
              "\n",
              "                <audio  controls=\"controls\" >\n",
              "                    <source src=\"data:audio/x-wav;base64,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\" type=\"audio/x-wav\" />\n",
              "                    Your browser does not support the audio element.\n",
              "                </audio>\n",
              "              "
            ]
          },
          "metadata": {}
        }
      ]
    }
  ]
}